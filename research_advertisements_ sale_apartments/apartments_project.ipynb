{
 "cells": [
  {
   "cell_type": "markdown",
   "metadata": {},
   "source": [
    "# Исследование объявлений о продаже квартир\n",
    "\n",
    "**Цель исследования** - провести исследовательский анализ данных, который поможет установить параметры, влияющие на цену объектов.\n",
    "\n",
    "Для чего? Для того, чтобы построить автоматизированную систему, которая способна отследить аномалии и мошенническую деятельность. \n",
    "\n",
    "**План исследования**\n",
    "1. Изучить данные \n",
    "2. Предобработка данных \n",
    "3. Анализ данных и ответы на поставленые вопросы\n",
    "4. Сделать общий вывод исследования"
   ]
  },
  {
   "cell_type": "markdown",
   "metadata": {},
   "source": [
    "   Согласно документации к данным:\n",
    "\n",
    "- `airports_nearest` — расстояние до ближайшего аэропорта в метрах (м)\n",
    "- `balcony` — число балконов\n",
    "- `ceiling_height` — высота потолков (м)\n",
    "- `cityCenters_nearest` — расстояние до центра города (м)\n",
    "- `days_exposition` — сколько дней было размещено объявление (от публикации до снятия)\n",
    "- `first_day_exposition` — дата публикации\n",
    "- `floor` — этаж\n",
    "- `floors_total` — всего этажей в доме\n",
    "- `is_apartment` — апартаменты (булев тип)\n",
    "- `kitchen_area` — площадь кухни в квадратных метрах (м²)\n",
    "- `last_price` — цена на момент снятия с публикации\n",
    "- `living_area` — жилая площадь в квадратных метрах (м²)\n",
    "- `locality_name` — название населённого пункта\n",
    "- `open_plan` — свободная планировка (булев тип)\n",
    "- `parks_around3000` — число парков в радиусе 3 км\n",
    "- `parks_nearest` — расстояние до ближайшего парка (м)\n",
    "- `ponds_around3000` — число водоёмов в радиусе 3 км\n",
    "- `ponds_nearest` — расстояние до ближайшего водоёма (м)\n",
    "- `rooms` — число комнат\n",
    "- `studio` — квартира-студия (булев тип)\n",
    "- `total_area` — общая площадь квартиры в квадратных метрах (м²)\n",
    "- `total_images` — число фотографий квартиры в объявлении"
   ]
  },
  {
   "cell_type": "markdown",
   "metadata": {},
   "source": [
    "### Откройте файл с данными и изучите общую информацию. "
   ]
  },
  {
   "cell_type": "code",
   "execution_count": 1,
   "metadata": {},
   "outputs": [],
   "source": [
    "import pandas as pd # импорт билбиотеки пандас\n",
    "import matplotlib.pyplot as plt # импорт библиотеки матплотлиб для построения графиков"
   ]
  },
  {
   "cell_type": "markdown",
   "metadata": {},
   "source": [
    "Прочитаем файл `real_estate_data.csv` и сохраним его в переменной `data`"
   ]
  },
  {
   "cell_type": "code",
   "execution_count": 2,
   "metadata": {},
   "outputs": [],
   "source": [
    "data = pd.read_csv('/datasets/real_estate_data.csv') # чтение файла с данными и сохранение в data"
   ]
  },
  {
   "cell_type": "markdown",
   "metadata": {},
   "source": [
    "Получение первых 10 строк таблицы"
   ]
  },
  {
   "cell_type": "code",
   "execution_count": 3,
   "metadata": {
    "scrolled": false
   },
   "outputs": [
    {
     "data": {
      "text/html": [
       "<div>\n",
       "<style scoped>\n",
       "    .dataframe tbody tr th:only-of-type {\n",
       "        vertical-align: middle;\n",
       "    }\n",
       "\n",
       "    .dataframe tbody tr th {\n",
       "        vertical-align: top;\n",
       "    }\n",
       "\n",
       "    .dataframe thead th {\n",
       "        text-align: right;\n",
       "    }\n",
       "</style>\n",
       "<table border=\"1\" class=\"dataframe\">\n",
       "  <thead>\n",
       "    <tr style=\"text-align: right;\">\n",
       "      <th></th>\n",
       "      <th>total_images\\tlast_price\\ttotal_area\\tfirst_day_exposition\\trooms\\tceiling_height\\tfloors_total\\tliving_area\\tfloor\\tis_apartment\\tstudio\\topen_plan\\tkitchen_area\\tbalcony\\tlocality_name\\tairports_nearest\\tcityCenters_nearest\\tparks_around3000\\tparks_nearest\\tponds_around3000\\tponds_nearest\\tdays_exposition</th>\n",
       "    </tr>\n",
       "  </thead>\n",
       "  <tbody>\n",
       "    <tr>\n",
       "      <th>0</th>\n",
       "      <td>20\\t13000000.0\\t108.0\\t2019-03-07T00:00:00\\t3\\...</td>\n",
       "    </tr>\n",
       "    <tr>\n",
       "      <th>1</th>\n",
       "      <td>7\\t3350000.0\\t40.4\\t2018-12-04T00:00:00\\t1\\t\\t...</td>\n",
       "    </tr>\n",
       "    <tr>\n",
       "      <th>2</th>\n",
       "      <td>10\\t5196000.0\\t56.0\\t2015-08-20T00:00:00\\t2\\t\\...</td>\n",
       "    </tr>\n",
       "    <tr>\n",
       "      <th>3</th>\n",
       "      <td>0\\t64900000.0\\t159.0\\t2015-07-24T00:00:00\\t3\\t...</td>\n",
       "    </tr>\n",
       "    <tr>\n",
       "      <th>4</th>\n",
       "      <td>2\\t10000000.0\\t100.0\\t2018-06-19T00:00:00\\t2\\t...</td>\n",
       "    </tr>\n",
       "    <tr>\n",
       "      <th>5</th>\n",
       "      <td>10\\t2890000.0\\t30.4\\t2018-09-10T00:00:00\\t1\\t\\...</td>\n",
       "    </tr>\n",
       "    <tr>\n",
       "      <th>6</th>\n",
       "      <td>6\\t3700000.0\\t37.3\\t2017-11-02T00:00:00\\t1\\t\\t...</td>\n",
       "    </tr>\n",
       "    <tr>\n",
       "      <th>7</th>\n",
       "      <td>5\\t7915000.0\\t71.6\\t2019-04-18T00:00:00\\t2\\t\\t...</td>\n",
       "    </tr>\n",
       "    <tr>\n",
       "      <th>8</th>\n",
       "      <td>20\\t2900000.0\\t33.16\\t2018-05-23T00:00:00\\t1\\t...</td>\n",
       "    </tr>\n",
       "    <tr>\n",
       "      <th>9</th>\n",
       "      <td>18\\t5400000.0\\t61.0\\t2017-02-26T00:00:00\\t3\\t2...</td>\n",
       "    </tr>\n",
       "  </tbody>\n",
       "</table>\n",
       "</div>"
      ],
      "text/plain": [
       "  total_images\\tlast_price\\ttotal_area\\tfirst_day_exposition\\trooms\\tceiling_height\\tfloors_total\\tliving_area\\tfloor\\tis_apartment\\tstudio\\topen_plan\\tkitchen_area\\tbalcony\\tlocality_name\\tairports_nearest\\tcityCenters_nearest\\tparks_around3000\\tparks_nearest\\tponds_around3000\\tponds_nearest\\tdays_exposition\n",
       "0  20\\t13000000.0\\t108.0\\t2019-03-07T00:00:00\\t3\\...                                                                                                                                                                                                                                                                  \n",
       "1  7\\t3350000.0\\t40.4\\t2018-12-04T00:00:00\\t1\\t\\t...                                                                                                                                                                                                                                                                  \n",
       "2  10\\t5196000.0\\t56.0\\t2015-08-20T00:00:00\\t2\\t\\...                                                                                                                                                                                                                                                                  \n",
       "3  0\\t64900000.0\\t159.0\\t2015-07-24T00:00:00\\t3\\t...                                                                                                                                                                                                                                                                  \n",
       "4  2\\t10000000.0\\t100.0\\t2018-06-19T00:00:00\\t2\\t...                                                                                                                                                                                                                                                                  \n",
       "5  10\\t2890000.0\\t30.4\\t2018-09-10T00:00:00\\t1\\t\\...                                                                                                                                                                                                                                                                  \n",
       "6  6\\t3700000.0\\t37.3\\t2017-11-02T00:00:00\\t1\\t\\t...                                                                                                                                                                                                                                                                  \n",
       "7  5\\t7915000.0\\t71.6\\t2019-04-18T00:00:00\\t2\\t\\t...                                                                                                                                                                                                                                                                  \n",
       "8  20\\t2900000.0\\t33.16\\t2018-05-23T00:00:00\\t1\\t...                                                                                                                                                                                                                                                                  \n",
       "9  18\\t5400000.0\\t61.0\\t2017-02-26T00:00:00\\t3\\t2...                                                                                                                                                                                                                                                                  "
      ]
     },
     "execution_count": 3,
     "metadata": {},
     "output_type": "execute_result"
    }
   ],
   "source": [
    "data.head(10) # получение первых 10 строк таблицы data"
   ]
  },
  {
   "cell_type": "markdown",
   "metadata": {},
   "source": [
    "Данные склеились в одну строку. Это произошло из-за того, что разделитель в файле `\\t`, а не `,`. Надо это исправить."
   ]
  },
  {
   "cell_type": "code",
   "execution_count": 4,
   "metadata": {},
   "outputs": [],
   "source": [
    "data = pd.read_csv('/datasets/real_estate_data.csv', sep='\\t') # Прочитаем файл, указав в качестве разделителя знак табуляции \\t"
   ]
  },
  {
   "cell_type": "markdown",
   "metadata": {},
   "source": [
    "Проверим результат. Еще раз выведим первые 10 строк таблицы"
   ]
  },
  {
   "cell_type": "code",
   "execution_count": 5,
   "metadata": {
    "scrolled": false
   },
   "outputs": [
    {
     "data": {
      "text/html": [
       "<div>\n",
       "<style scoped>\n",
       "    .dataframe tbody tr th:only-of-type {\n",
       "        vertical-align: middle;\n",
       "    }\n",
       "\n",
       "    .dataframe tbody tr th {\n",
       "        vertical-align: top;\n",
       "    }\n",
       "\n",
       "    .dataframe thead th {\n",
       "        text-align: right;\n",
       "    }\n",
       "</style>\n",
       "<table border=\"1\" class=\"dataframe\">\n",
       "  <thead>\n",
       "    <tr style=\"text-align: right;\">\n",
       "      <th></th>\n",
       "      <th>total_images</th>\n",
       "      <th>last_price</th>\n",
       "      <th>total_area</th>\n",
       "      <th>first_day_exposition</th>\n",
       "      <th>rooms</th>\n",
       "      <th>ceiling_height</th>\n",
       "      <th>floors_total</th>\n",
       "      <th>living_area</th>\n",
       "      <th>floor</th>\n",
       "      <th>is_apartment</th>\n",
       "      <th>...</th>\n",
       "      <th>kitchen_area</th>\n",
       "      <th>balcony</th>\n",
       "      <th>locality_name</th>\n",
       "      <th>airports_nearest</th>\n",
       "      <th>cityCenters_nearest</th>\n",
       "      <th>parks_around3000</th>\n",
       "      <th>parks_nearest</th>\n",
       "      <th>ponds_around3000</th>\n",
       "      <th>ponds_nearest</th>\n",
       "      <th>days_exposition</th>\n",
       "    </tr>\n",
       "  </thead>\n",
       "  <tbody>\n",
       "    <tr>\n",
       "      <th>0</th>\n",
       "      <td>20</td>\n",
       "      <td>13000000.0</td>\n",
       "      <td>108.00</td>\n",
       "      <td>2019-03-07T00:00:00</td>\n",
       "      <td>3</td>\n",
       "      <td>2.70</td>\n",
       "      <td>16.0</td>\n",
       "      <td>51.00</td>\n",
       "      <td>8</td>\n",
       "      <td>NaN</td>\n",
       "      <td>...</td>\n",
       "      <td>25.00</td>\n",
       "      <td>NaN</td>\n",
       "      <td>Санкт-Петербург</td>\n",
       "      <td>18863.0</td>\n",
       "      <td>16028.0</td>\n",
       "      <td>1.0</td>\n",
       "      <td>482.0</td>\n",
       "      <td>2.0</td>\n",
       "      <td>755.0</td>\n",
       "      <td>NaN</td>\n",
       "    </tr>\n",
       "    <tr>\n",
       "      <th>1</th>\n",
       "      <td>7</td>\n",
       "      <td>3350000.0</td>\n",
       "      <td>40.40</td>\n",
       "      <td>2018-12-04T00:00:00</td>\n",
       "      <td>1</td>\n",
       "      <td>NaN</td>\n",
       "      <td>11.0</td>\n",
       "      <td>18.60</td>\n",
       "      <td>1</td>\n",
       "      <td>NaN</td>\n",
       "      <td>...</td>\n",
       "      <td>11.00</td>\n",
       "      <td>2.0</td>\n",
       "      <td>посёлок Шушары</td>\n",
       "      <td>12817.0</td>\n",
       "      <td>18603.0</td>\n",
       "      <td>0.0</td>\n",
       "      <td>NaN</td>\n",
       "      <td>0.0</td>\n",
       "      <td>NaN</td>\n",
       "      <td>81.0</td>\n",
       "    </tr>\n",
       "    <tr>\n",
       "      <th>2</th>\n",
       "      <td>10</td>\n",
       "      <td>5196000.0</td>\n",
       "      <td>56.00</td>\n",
       "      <td>2015-08-20T00:00:00</td>\n",
       "      <td>2</td>\n",
       "      <td>NaN</td>\n",
       "      <td>5.0</td>\n",
       "      <td>34.30</td>\n",
       "      <td>4</td>\n",
       "      <td>NaN</td>\n",
       "      <td>...</td>\n",
       "      <td>8.30</td>\n",
       "      <td>0.0</td>\n",
       "      <td>Санкт-Петербург</td>\n",
       "      <td>21741.0</td>\n",
       "      <td>13933.0</td>\n",
       "      <td>1.0</td>\n",
       "      <td>90.0</td>\n",
       "      <td>2.0</td>\n",
       "      <td>574.0</td>\n",
       "      <td>558.0</td>\n",
       "    </tr>\n",
       "    <tr>\n",
       "      <th>3</th>\n",
       "      <td>0</td>\n",
       "      <td>64900000.0</td>\n",
       "      <td>159.00</td>\n",
       "      <td>2015-07-24T00:00:00</td>\n",
       "      <td>3</td>\n",
       "      <td>NaN</td>\n",
       "      <td>14.0</td>\n",
       "      <td>NaN</td>\n",
       "      <td>9</td>\n",
       "      <td>NaN</td>\n",
       "      <td>...</td>\n",
       "      <td>NaN</td>\n",
       "      <td>0.0</td>\n",
       "      <td>Санкт-Петербург</td>\n",
       "      <td>28098.0</td>\n",
       "      <td>6800.0</td>\n",
       "      <td>2.0</td>\n",
       "      <td>84.0</td>\n",
       "      <td>3.0</td>\n",
       "      <td>234.0</td>\n",
       "      <td>424.0</td>\n",
       "    </tr>\n",
       "    <tr>\n",
       "      <th>4</th>\n",
       "      <td>2</td>\n",
       "      <td>10000000.0</td>\n",
       "      <td>100.00</td>\n",
       "      <td>2018-06-19T00:00:00</td>\n",
       "      <td>2</td>\n",
       "      <td>3.03</td>\n",
       "      <td>14.0</td>\n",
       "      <td>32.00</td>\n",
       "      <td>13</td>\n",
       "      <td>NaN</td>\n",
       "      <td>...</td>\n",
       "      <td>41.00</td>\n",
       "      <td>NaN</td>\n",
       "      <td>Санкт-Петербург</td>\n",
       "      <td>31856.0</td>\n",
       "      <td>8098.0</td>\n",
       "      <td>2.0</td>\n",
       "      <td>112.0</td>\n",
       "      <td>1.0</td>\n",
       "      <td>48.0</td>\n",
       "      <td>121.0</td>\n",
       "    </tr>\n",
       "    <tr>\n",
       "      <th>5</th>\n",
       "      <td>10</td>\n",
       "      <td>2890000.0</td>\n",
       "      <td>30.40</td>\n",
       "      <td>2018-09-10T00:00:00</td>\n",
       "      <td>1</td>\n",
       "      <td>NaN</td>\n",
       "      <td>12.0</td>\n",
       "      <td>14.40</td>\n",
       "      <td>5</td>\n",
       "      <td>NaN</td>\n",
       "      <td>...</td>\n",
       "      <td>9.10</td>\n",
       "      <td>NaN</td>\n",
       "      <td>городской посёлок Янино-1</td>\n",
       "      <td>NaN</td>\n",
       "      <td>NaN</td>\n",
       "      <td>NaN</td>\n",
       "      <td>NaN</td>\n",
       "      <td>NaN</td>\n",
       "      <td>NaN</td>\n",
       "      <td>55.0</td>\n",
       "    </tr>\n",
       "    <tr>\n",
       "      <th>6</th>\n",
       "      <td>6</td>\n",
       "      <td>3700000.0</td>\n",
       "      <td>37.30</td>\n",
       "      <td>2017-11-02T00:00:00</td>\n",
       "      <td>1</td>\n",
       "      <td>NaN</td>\n",
       "      <td>26.0</td>\n",
       "      <td>10.60</td>\n",
       "      <td>6</td>\n",
       "      <td>NaN</td>\n",
       "      <td>...</td>\n",
       "      <td>14.40</td>\n",
       "      <td>1.0</td>\n",
       "      <td>посёлок Парголово</td>\n",
       "      <td>52996.0</td>\n",
       "      <td>19143.0</td>\n",
       "      <td>0.0</td>\n",
       "      <td>NaN</td>\n",
       "      <td>0.0</td>\n",
       "      <td>NaN</td>\n",
       "      <td>155.0</td>\n",
       "    </tr>\n",
       "    <tr>\n",
       "      <th>7</th>\n",
       "      <td>5</td>\n",
       "      <td>7915000.0</td>\n",
       "      <td>71.60</td>\n",
       "      <td>2019-04-18T00:00:00</td>\n",
       "      <td>2</td>\n",
       "      <td>NaN</td>\n",
       "      <td>24.0</td>\n",
       "      <td>NaN</td>\n",
       "      <td>22</td>\n",
       "      <td>NaN</td>\n",
       "      <td>...</td>\n",
       "      <td>18.90</td>\n",
       "      <td>2.0</td>\n",
       "      <td>Санкт-Петербург</td>\n",
       "      <td>23982.0</td>\n",
       "      <td>11634.0</td>\n",
       "      <td>0.0</td>\n",
       "      <td>NaN</td>\n",
       "      <td>0.0</td>\n",
       "      <td>NaN</td>\n",
       "      <td>NaN</td>\n",
       "    </tr>\n",
       "    <tr>\n",
       "      <th>8</th>\n",
       "      <td>20</td>\n",
       "      <td>2900000.0</td>\n",
       "      <td>33.16</td>\n",
       "      <td>2018-05-23T00:00:00</td>\n",
       "      <td>1</td>\n",
       "      <td>NaN</td>\n",
       "      <td>27.0</td>\n",
       "      <td>15.43</td>\n",
       "      <td>26</td>\n",
       "      <td>NaN</td>\n",
       "      <td>...</td>\n",
       "      <td>8.81</td>\n",
       "      <td>NaN</td>\n",
       "      <td>посёлок Мурино</td>\n",
       "      <td>NaN</td>\n",
       "      <td>NaN</td>\n",
       "      <td>NaN</td>\n",
       "      <td>NaN</td>\n",
       "      <td>NaN</td>\n",
       "      <td>NaN</td>\n",
       "      <td>189.0</td>\n",
       "    </tr>\n",
       "    <tr>\n",
       "      <th>9</th>\n",
       "      <td>18</td>\n",
       "      <td>5400000.0</td>\n",
       "      <td>61.00</td>\n",
       "      <td>2017-02-26T00:00:00</td>\n",
       "      <td>3</td>\n",
       "      <td>2.50</td>\n",
       "      <td>9.0</td>\n",
       "      <td>43.60</td>\n",
       "      <td>7</td>\n",
       "      <td>NaN</td>\n",
       "      <td>...</td>\n",
       "      <td>6.50</td>\n",
       "      <td>2.0</td>\n",
       "      <td>Санкт-Петербург</td>\n",
       "      <td>50898.0</td>\n",
       "      <td>15008.0</td>\n",
       "      <td>0.0</td>\n",
       "      <td>NaN</td>\n",
       "      <td>0.0</td>\n",
       "      <td>NaN</td>\n",
       "      <td>289.0</td>\n",
       "    </tr>\n",
       "  </tbody>\n",
       "</table>\n",
       "<p>10 rows × 22 columns</p>\n",
       "</div>"
      ],
      "text/plain": [
       "   total_images  last_price  total_area first_day_exposition  rooms  \\\n",
       "0            20  13000000.0      108.00  2019-03-07T00:00:00      3   \n",
       "1             7   3350000.0       40.40  2018-12-04T00:00:00      1   \n",
       "2            10   5196000.0       56.00  2015-08-20T00:00:00      2   \n",
       "3             0  64900000.0      159.00  2015-07-24T00:00:00      3   \n",
       "4             2  10000000.0      100.00  2018-06-19T00:00:00      2   \n",
       "5            10   2890000.0       30.40  2018-09-10T00:00:00      1   \n",
       "6             6   3700000.0       37.30  2017-11-02T00:00:00      1   \n",
       "7             5   7915000.0       71.60  2019-04-18T00:00:00      2   \n",
       "8            20   2900000.0       33.16  2018-05-23T00:00:00      1   \n",
       "9            18   5400000.0       61.00  2017-02-26T00:00:00      3   \n",
       "\n",
       "   ceiling_height  floors_total  living_area  floor is_apartment  ...  \\\n",
       "0            2.70          16.0        51.00      8          NaN  ...   \n",
       "1             NaN          11.0        18.60      1          NaN  ...   \n",
       "2             NaN           5.0        34.30      4          NaN  ...   \n",
       "3             NaN          14.0          NaN      9          NaN  ...   \n",
       "4            3.03          14.0        32.00     13          NaN  ...   \n",
       "5             NaN          12.0        14.40      5          NaN  ...   \n",
       "6             NaN          26.0        10.60      6          NaN  ...   \n",
       "7             NaN          24.0          NaN     22          NaN  ...   \n",
       "8             NaN          27.0        15.43     26          NaN  ...   \n",
       "9            2.50           9.0        43.60      7          NaN  ...   \n",
       "\n",
       "   kitchen_area  balcony              locality_name  airports_nearest  \\\n",
       "0         25.00      NaN            Санкт-Петербург           18863.0   \n",
       "1         11.00      2.0             посёлок Шушары           12817.0   \n",
       "2          8.30      0.0            Санкт-Петербург           21741.0   \n",
       "3           NaN      0.0            Санкт-Петербург           28098.0   \n",
       "4         41.00      NaN            Санкт-Петербург           31856.0   \n",
       "5          9.10      NaN  городской посёлок Янино-1               NaN   \n",
       "6         14.40      1.0          посёлок Парголово           52996.0   \n",
       "7         18.90      2.0            Санкт-Петербург           23982.0   \n",
       "8          8.81      NaN             посёлок Мурино               NaN   \n",
       "9          6.50      2.0            Санкт-Петербург           50898.0   \n",
       "\n",
       "  cityCenters_nearest  parks_around3000  parks_nearest  ponds_around3000  \\\n",
       "0             16028.0               1.0          482.0               2.0   \n",
       "1             18603.0               0.0            NaN               0.0   \n",
       "2             13933.0               1.0           90.0               2.0   \n",
       "3              6800.0               2.0           84.0               3.0   \n",
       "4              8098.0               2.0          112.0               1.0   \n",
       "5                 NaN               NaN            NaN               NaN   \n",
       "6             19143.0               0.0            NaN               0.0   \n",
       "7             11634.0               0.0            NaN               0.0   \n",
       "8                 NaN               NaN            NaN               NaN   \n",
       "9             15008.0               0.0            NaN               0.0   \n",
       "\n",
       "   ponds_nearest  days_exposition  \n",
       "0          755.0              NaN  \n",
       "1            NaN             81.0  \n",
       "2          574.0            558.0  \n",
       "3          234.0            424.0  \n",
       "4           48.0            121.0  \n",
       "5            NaN             55.0  \n",
       "6            NaN            155.0  \n",
       "7            NaN              NaN  \n",
       "8            NaN            189.0  \n",
       "9            NaN            289.0  \n",
       "\n",
       "[10 rows x 22 columns]"
      ]
     },
     "execution_count": 5,
     "metadata": {},
     "output_type": "execute_result"
    }
   ],
   "source": [
    "data.head(10)"
   ]
  },
  {
   "cell_type": "markdown",
   "metadata": {},
   "source": [
    "Общая информация о данных таблицы `data`"
   ]
  },
  {
   "cell_type": "code",
   "execution_count": 6,
   "metadata": {
    "scrolled": false
   },
   "outputs": [
    {
     "name": "stdout",
     "output_type": "stream",
     "text": [
      "<class 'pandas.core.frame.DataFrame'>\n",
      "RangeIndex: 23699 entries, 0 to 23698\n",
      "Data columns (total 22 columns):\n",
      " #   Column                Non-Null Count  Dtype  \n",
      "---  ------                --------------  -----  \n",
      " 0   total_images          23699 non-null  int64  \n",
      " 1   last_price            23699 non-null  float64\n",
      " 2   total_area            23699 non-null  float64\n",
      " 3   first_day_exposition  23699 non-null  object \n",
      " 4   rooms                 23699 non-null  int64  \n",
      " 5   ceiling_height        14504 non-null  float64\n",
      " 6   floors_total          23613 non-null  float64\n",
      " 7   living_area           21796 non-null  float64\n",
      " 8   floor                 23699 non-null  int64  \n",
      " 9   is_apartment          2775 non-null   object \n",
      " 10  studio                23699 non-null  bool   \n",
      " 11  open_plan             23699 non-null  bool   \n",
      " 12  kitchen_area          21421 non-null  float64\n",
      " 13  balcony               12180 non-null  float64\n",
      " 14  locality_name         23650 non-null  object \n",
      " 15  airports_nearest      18157 non-null  float64\n",
      " 16  cityCenters_nearest   18180 non-null  float64\n",
      " 17  parks_around3000      18181 non-null  float64\n",
      " 18  parks_nearest         8079 non-null   float64\n",
      " 19  ponds_around3000      18181 non-null  float64\n",
      " 20  ponds_nearest         9110 non-null   float64\n",
      " 21  days_exposition       20518 non-null  float64\n",
      "dtypes: bool(2), float64(14), int64(3), object(3)\n",
      "memory usage: 3.7+ MB\n"
     ]
    }
   ],
   "source": [
    "data.info()"
   ]
  },
  {
   "cell_type": "markdown",
   "metadata": {},
   "source": [
    "Рассмотрим полученную информацию подробнее.\n",
    "\n",
    "Всего в таблице 22 столбца, тип данных - `bool`(2), `float`(14), `int`(3), `object`(3). \n",
    "Название столбцов соотвествует стилю, кроме столбцов `cityCenters_nearest`, `ponds_around3000` и `parks_around3000`.\n",
    "\n",
    "Количестов значений в столбцах разное, а значит в них есть пропущенные значения."
   ]
  },
  {
   "cell_type": "markdown",
   "metadata": {},
   "source": [
    "Построим гистограму для всех числовых значений `data`, используя метод `plot` с параметром `figsize`."
   ]
  },
  {
   "cell_type": "code",
   "execution_count": 7,
   "metadata": {
    "scrolled": false
   },
   "outputs": [
    {
     "data": {
      "text/plain": [
       "array([[<AxesSubplot:title={'center':'total_images'}>,\n",
       "        <AxesSubplot:title={'center':'last_price'}>,\n",
       "        <AxesSubplot:title={'center':'total_area'}>,\n",
       "        <AxesSubplot:title={'center':'rooms'}>],\n",
       "       [<AxesSubplot:title={'center':'ceiling_height'}>,\n",
       "        <AxesSubplot:title={'center':'floors_total'}>,\n",
       "        <AxesSubplot:title={'center':'living_area'}>,\n",
       "        <AxesSubplot:title={'center':'floor'}>],\n",
       "       [<AxesSubplot:title={'center':'kitchen_area'}>,\n",
       "        <AxesSubplot:title={'center':'balcony'}>,\n",
       "        <AxesSubplot:title={'center':'airports_nearest'}>,\n",
       "        <AxesSubplot:title={'center':'cityCenters_nearest'}>],\n",
       "       [<AxesSubplot:title={'center':'parks_around3000'}>,\n",
       "        <AxesSubplot:title={'center':'parks_nearest'}>,\n",
       "        <AxesSubplot:title={'center':'ponds_around3000'}>,\n",
       "        <AxesSubplot:title={'center':'ponds_nearest'}>],\n",
       "       [<AxesSubplot:title={'center':'days_exposition'}>, <AxesSubplot:>,\n",
       "        <AxesSubplot:>, <AxesSubplot:>]], dtype=object)"
      ]
     },
     "execution_count": 7,
     "metadata": {},
     "output_type": "execute_result"
    },
    {
     "data": {
      "image/png": "[encoded data removed]",
      "text/plain": [
       "<Figure size 1080x1080 with 20 Axes>"
      ]
     },
     "metadata": {
      "needs_background": "light"
     },
     "output_type": "display_data"
    }
   ],
   "source": [
    "data.hist(figsize=(15, 15))"
   ]
  },
  {
   "cell_type": "markdown",
   "metadata": {},
   "source": [
    "**Вывод**\n",
    "        \n",
    "Каждая строка таблицы содержит информацию о разной недвижимости, которая находится в Санкт-Петербурге и его окрестностях. Есть несколько проблем такие, как:\n",
    "1. Некачественное название столбцов: `parks_around3000`, `ponds_around3000` и `cityCenters_nearest`.\n",
    "2. Пропуски в данных, столбцы в которых есть возмоность заполнить пропуски: `balcony`, `parks_around3000`, `ponds_around3000`, `days_exposition`, `ceiling_height` и `is_apartment`.\n",
    "3. Неправильные тип данных у некоторых столбцов: `is_apartment`, `last_price`, `balcone`, `days_exposition` и `first_day_exposition`.\n",
    "\n",
    "Также стоит проверить столбец `locality_name` на неявные дубликаты, так как название населённых пунктов могли написать по-разному.\n",
    "        \n",
    "Также необходимо проверить датафрейм на наличие явных дубликатов. Вдруг случайно произошло дублирование некоторых строк из-за каких-нибудь технических ошибок.\n",
    "        \n",
    "Для лучшего анализа данных необходимо добавить несколько новых столбцов: `price_one_meter`, `day`, `month`, `year`, `floor_apartment` и `city_centers_nearest_km`\n",
    "        \n",
    "Необходимо проверить на аномалии такие столбцы как: `living_area`, `total_area`, `kitchen_area`, `last_price`, `rooms`, `ceiling_height`, `floors_total`, `cityCenters_nearest`, `parks_nearest` и `floor_apartment`."
   ]
  },
  {
   "cell_type": "markdown",
   "metadata": {},
   "source": [
    "### Предобработка данных"
   ]
  },
  {
   "cell_type": "markdown",
   "metadata": {},
   "source": [
    "Переименуем столбцы `cityCenters_nearest`, `parks_around3000` и `ponds_around3000` для того, чтобы они соотвествовал стилю."
   ]
  },
  {
   "cell_type": "code",
   "execution_count": 8,
   "metadata": {},
   "outputs": [],
   "source": [
    "data = data.rename(columns={'cityCenters_nearest': 'city_centers_nearest', \n",
    "                            'parks_around3000': 'parks_around_3000', \n",
    "                            'ponds_around3000': 'ponds_around_3000'}) # переимнование столбцов"
   ]
  },
  {
   "cell_type": "code",
   "execution_count": 9,
   "metadata": {},
   "outputs": [
    {
     "data": {
      "text/plain": [
       "Index(['total_images', 'last_price', 'total_area', 'first_day_exposition',\n",
       "       'rooms', 'ceiling_height', 'floors_total', 'living_area', 'floor',\n",
       "       'is_apartment', 'studio', 'open_plan', 'kitchen_area', 'balcony',\n",
       "       'locality_name', 'airports_nearest', 'city_centers_nearest',\n",
       "       'parks_around_3000', 'parks_nearest', 'ponds_around_3000',\n",
       "       'ponds_nearest', 'days_exposition'],\n",
       "      dtype='object')"
      ]
     },
     "execution_count": 9,
     "metadata": {},
     "output_type": "execute_result"
    }
   ],
   "source": [
    "data.columns # проверка результатов"
   ]
  },
  {
   "cell_type": "markdown",
   "metadata": {},
   "source": [
    "Выведим количество пропущенных значений для каждого столбца."
   ]
  },
  {
   "cell_type": "code",
   "execution_count": 10,
   "metadata": {
    "scrolled": false
   },
   "outputs": [
    {
     "data": {
      "text/plain": [
       "is_apartment            20924\n",
       "parks_nearest           15620\n",
       "ponds_nearest           14589\n",
       "balcony                 11519\n",
       "ceiling_height           9195\n",
       "airports_nearest         5542\n",
       "city_centers_nearest     5519\n",
       "ponds_around_3000        5518\n",
       "parks_around_3000        5518\n",
       "days_exposition          3181\n",
       "kitchen_area             2278\n",
       "living_area              1903\n",
       "floors_total               86\n",
       "locality_name              49\n",
       "total_images                0\n",
       "last_price                  0\n",
       "studio                      0\n",
       "floor                       0\n",
       "rooms                       0\n",
       "first_day_exposition        0\n",
       "total_area                  0\n",
       "open_plan                   0\n",
       "dtype: int64"
      ]
     },
     "execution_count": 10,
     "metadata": {},
     "output_type": "execute_result"
    }
   ],
   "source": [
    "data.isna().sum().sort_values(ascending=False) # подсчёт пропусков"
   ]
  },
  {
   "cell_type": "markdown",
   "metadata": {},
   "source": [
    "В 14 столбцах есть пропущенные значения.\n",
    "В трёх столбцах:\n",
    "- `balcony`\n",
    "- `parks_around_3000`\n",
    "- `ponds_around_3000`\n",
    "\n",
    "пропуски можно заполнить `0`, так как логично предположить, что пользователь не указал значение, потому что балконов в квартире нет, а водоемы и парки в радиусе 3км отсутствуют. \n",
    "\n",
    "В столбце `is_apartment` присутсвуют значения `Nan` и `False`, предположим, что `Nan` можно заменить на `False`, то есть не является апартаментами. Также стоит обратить вниманием, что этот столбец имеет тип - `object`, хотя должен быть типом `bool`.\n",
    "\n",
    "Предположим, что в столбце `days_exposition` пропуски из-за того, что объявление на момент попадания в архив еще не было снято с публикации или квартира еще не продана. Для этого найдем поcледнюю дату в столбце `first_day_exposition` и будем считать, что эта дата является моментом, когда данные попали в архив. И после этого мы будем отнимать от этой даты другие значения из этого столбца для строк, где есть пропуски в столбце `days_exposition`. И тем самым найдем нужные значения.\n",
    "\n",
    "Столбец `ceiling_height` заполним медианым значением, так как высота потолков в среднем у всех квартир одинаковая.\n",
    "\n",
    "В остальных столбцах пропуски заполнить не получиться, они связаны с площадью, названиями населеных пунктов и расстоянием и их заполнение может сильно повлиять на исследование."
   ]
  },
  {
   "cell_type": "markdown",
   "metadata": {},
   "source": [
    "**Вывод:**\n",
    "\n",
    "Причины, которые привели к пропускам данных разные:\n",
    "1. пользователи просто не стали заполнять определенные пункты, так как, например, у них отсутсвует балкон. \n",
    "2. пропуски связанные с высотой потолков и площадью. Образовались, скорее всего из-за отсутствия информации у пользователя по этим пунктам. \n",
    "3. пропуски могли появиться из-за невнимательности пользователя, например, название населеного пункта. \n",
    "4. Столбцы связанные с расстоянием заполнялись автоматически по картографическим данным и скорее всего имели определенную область, например, в 9 строчке таблицы `data` населеный пункт Мурино в самом посёлке аэропорта нет и, возможно, поэтому расстояние до ближайшего аэропорта не указано, хотя ближайший находиться в городе Санкт-Петербург.\n",
    "5. Устаревшие картографические данные."
   ]
  },
  {
   "cell_type": "markdown",
   "metadata": {},
   "source": [
    "**Заполняем пропуски в данных**"
   ]
  },
  {
   "cell_type": "markdown",
   "metadata": {},
   "source": [
    "Заполним столбец `ceiling_height` медианым значением."
   ]
  },
  {
   "cell_type": "code",
   "execution_count": 11,
   "metadata": {
    "scrolled": true
   },
   "outputs": [],
   "source": [
    "data['ceiling_height'] = data['ceiling_height'].fillna(data['ceiling_height'].median()) # заполняем столбец медианным значением"
   ]
  },
  {
   "cell_type": "markdown",
   "metadata": {},
   "source": [
    "Заменяем пропущеные значения в столбцах `balcony`, `parks_around_3000`, `ponds_around_3000` на 0"
   ]
  },
  {
   "cell_type": "code",
   "execution_count": 12,
   "metadata": {},
   "outputs": [],
   "source": [
    "# перебор названий столбцов в цикле и замена пропущенных значений\n",
    "columns_to_replace = ['balcony', 'parks_around_3000', 'ponds_around_3000']\n",
    "for column in columns_to_replace:\n",
    "    data[column] = data[column].fillna(0)"
   ]
  },
  {
   "cell_type": "markdown",
   "metadata": {},
   "source": [
    "Заполним пропуски в столбце `is_apartment` и заменим их на значение `False`."
   ]
  },
  {
   "cell_type": "code",
   "execution_count": 13,
   "metadata": {},
   "outputs": [],
   "source": [
    "data['is_apartment'] = data['is_apartment'].fillna(False)"
   ]
  },
  {
   "cell_type": "markdown",
   "metadata": {},
   "source": [
    "**Удаление строк с пропущенными значениями**\n",
    "\n",
    "В столбцах `floors_total` и `locality_name` есть немного пропущеных значений 86 и 49 их можно удалить, так как их мало они не повлияют на конечное исследование."
   ]
  },
  {
   "cell_type": "code",
   "execution_count": 14,
   "metadata": {},
   "outputs": [],
   "source": [
    "data = data.dropna(subset=['floors_total', 'locality_name']).reset_index(drop=True)"
   ]
  },
  {
   "cell_type": "markdown",
   "metadata": {},
   "source": [
    "Проверим пропали-ли пропуски в столбцах, которые мы изменяли. Пропуски должны пропасть в 6-ти столбцах:\n",
    "- `balcony`\n",
    "- `parks_around_3000`\n",
    "- `ponds_around_3000`\n",
    "- `days_exposition`\n",
    "- `is_apartment`\n",
    "- `ceiling_height`\n",
    "- `floors_total`\n",
    "- `locality_name`"
   ]
  },
  {
   "cell_type": "code",
   "execution_count": 15,
   "metadata": {
    "scrolled": false
   },
   "outputs": [
    {
     "data": {
      "text/plain": [
       "parks_nearest           15535\n",
       "ponds_nearest           14529\n",
       "airports_nearest         5524\n",
       "city_centers_nearest     5501\n",
       "days_exposition          3171\n",
       "kitchen_area             2222\n",
       "living_area              1865\n",
       "ponds_around_3000           0\n",
       "parks_around_3000           0\n",
       "locality_name               0\n",
       "balcony                     0\n",
       "total_images                0\n",
       "last_price                  0\n",
       "studio                      0\n",
       "is_apartment                0\n",
       "floor                       0\n",
       "floors_total                0\n",
       "ceiling_height              0\n",
       "rooms                       0\n",
       "first_day_exposition        0\n",
       "total_area                  0\n",
       "open_plan                   0\n",
       "dtype: int64"
      ]
     },
     "execution_count": 15,
     "metadata": {},
     "output_type": "execute_result"
    }
   ],
   "source": [
    "data.isna().sum().sort_values(ascending=False) # подсчет пропусков"
   ]
  },
  {
   "cell_type": "markdown",
   "metadata": {},
   "source": [
    "**Изменение типов данных**\n",
    "\n",
    "В некоторых столбцах необходимо поменять тип данных:\n",
    "1. В столбце `is_apartment` надо поменять тип данных на `bool`\n",
    "2. В столбцах `last_price`, `balcone`, `days_exposition` изменить на `int`, так как не может быть `2.5` балкона, а в цене не так важны копейки и для удобстов сделать целым количество дней.\n",
    "3. В столбце `first_day_exposition` находятся даты, поэтому необходимо привести данные к типу `datetime`"
   ]
  },
  {
   "cell_type": "markdown",
   "metadata": {},
   "source": [
    "Изменим тип данных столбца `is_apartment` с `object` на `bool`."
   ]
  },
  {
   "cell_type": "code",
   "execution_count": 16,
   "metadata": {},
   "outputs": [],
   "source": [
    "data['is_apartment'] = data['is_apartment'].astype('bool')"
   ]
  },
  {
   "cell_type": "markdown",
   "metadata": {},
   "source": [
    "Изменим тип данных в столбце `first_day_exposition` с `object` на `datetime`."
   ]
  },
  {
   "cell_type": "code",
   "execution_count": 17,
   "metadata": {},
   "outputs": [],
   "source": [
    "data['first_day_exposition'] = pd.to_datetime(data['first_day_exposition'], format='%Y-%m-%d %H:%M:%S')"
   ]
  },
  {
   "cell_type": "markdown",
   "metadata": {},
   "source": [
    "**Заполняем пропуски в `days_exposition`**"
   ]
  },
  {
   "cell_type": "markdown",
   "metadata": {},
   "source": [
    "Найдем последнюю дату в датафрейме и присвоим ее новой переменной."
   ]
  },
  {
   "cell_type": "code",
   "execution_count": 18,
   "metadata": {},
   "outputs": [],
   "source": [
    "date_max = data['first_day_exposition'].max()"
   ]
  },
  {
   "cell_type": "markdown",
   "metadata": {},
   "source": [
    "Вычтем из последней даты, даты, которые находятся в столбце `first_day_exposition` и этой разностью заполним пропуски в `days_exposition`"
   ]
  },
  {
   "cell_type": "code",
   "execution_count": 19,
   "metadata": {},
   "outputs": [],
   "source": [
    "data['days_exposition'] = data['days_exposition'].fillna((date_max - data['first_day_exposition']).dt.days)"
   ]
  },
  {
   "cell_type": "markdown",
   "metadata": {},
   "source": [
    "**Изменение типов данных (продолжение)**"
   ]
  },
  {
   "cell_type": "markdown",
   "metadata": {},
   "source": [
    "Изменим тип данных в столбцах `last_price`, `balcone`, `days_exposition` и `floors_total` с `float` на `int`."
   ]
  },
  {
   "cell_type": "code",
   "execution_count": 20,
   "metadata": {
    "scrolled": true
   },
   "outputs": [],
   "source": [
    "# перебор названий столбцов в цикле и изменения типов данных\n",
    "columns_to_type = ['last_price', 'balcony', 'days_exposition', 'floors_total']\n",
    "for column in columns_to_type:\n",
    "    data[column] = data[column].astype('int')"
   ]
  },
  {
   "cell_type": "markdown",
   "metadata": {},
   "source": [
    "Проверим перевелись-ли типы данных, должно стать так `bool`(3), `float`(10), `int`(7), `object`(1), `datetime`(1)"
   ]
  },
  {
   "cell_type": "code",
   "execution_count": 21,
   "metadata": {
    "scrolled": false
   },
   "outputs": [
    {
     "name": "stdout",
     "output_type": "stream",
     "text": [
      "<class 'pandas.core.frame.DataFrame'>\n",
      "RangeIndex: 23565 entries, 0 to 23564\n",
      "Data columns (total 22 columns):\n",
      " #   Column                Non-Null Count  Dtype         \n",
      "---  ------                --------------  -----         \n",
      " 0   total_images          23565 non-null  int64         \n",
      " 1   last_price            23565 non-null  int64         \n",
      " 2   total_area            23565 non-null  float64       \n",
      " 3   first_day_exposition  23565 non-null  datetime64[ns]\n",
      " 4   rooms                 23565 non-null  int64         \n",
      " 5   ceiling_height        23565 non-null  float64       \n",
      " 6   floors_total          23565 non-null  int64         \n",
      " 7   living_area           21700 non-null  float64       \n",
      " 8   floor                 23565 non-null  int64         \n",
      " 9   is_apartment          23565 non-null  bool          \n",
      " 10  studio                23565 non-null  bool          \n",
      " 11  open_plan             23565 non-null  bool          \n",
      " 12  kitchen_area          21343 non-null  float64       \n",
      " 13  balcony               23565 non-null  int64         \n",
      " 14  locality_name         23565 non-null  object        \n",
      " 15  airports_nearest      18041 non-null  float64       \n",
      " 16  city_centers_nearest  18064 non-null  float64       \n",
      " 17  parks_around_3000     23565 non-null  float64       \n",
      " 18  parks_nearest         8030 non-null   float64       \n",
      " 19  ponds_around_3000     23565 non-null  float64       \n",
      " 20  ponds_nearest         9036 non-null   float64       \n",
      " 21  days_exposition       23565 non-null  int64         \n",
      "dtypes: bool(3), datetime64[ns](1), float64(10), int64(7), object(1)\n",
      "memory usage: 3.5+ MB\n"
     ]
    }
   ],
   "source": [
    "data.info()"
   ]
  },
  {
   "cell_type": "markdown",
   "metadata": {},
   "source": [
    "**Работа с неявными дубликатами**"
   ]
  },
  {
   "cell_type": "markdown",
   "metadata": {},
   "source": [
    "Проверим наличие неявных дубликатов в столбце `locality_name`, так как одни и теже населеные пункты могуть быть по-разному названы."
   ]
  },
  {
   "cell_type": "code",
   "execution_count": 22,
   "metadata": {
    "scrolled": true
   },
   "outputs": [
    {
     "data": {
      "text/plain": [
       "array(['Санкт-Петербург', 'посёлок Шушары', 'городской посёлок Янино-1',\n",
       "       'посёлок Парголово', 'посёлок Мурино', 'Ломоносов', 'Сертолово',\n",
       "       'Петергоф', 'Пушкин', 'деревня Кудрово', 'Коммунар', 'Колпино',\n",
       "       'поселок городского типа Красный Бор', 'Гатчина', 'поселок Мурино',\n",
       "       'деревня Фёдоровское', 'Выборг', 'Кронштадт', 'Кировск',\n",
       "       'деревня Новое Девяткино', 'посёлок Металлострой',\n",
       "       'посёлок городского типа Лебяжье',\n",
       "       'посёлок городского типа Сиверский', 'поселок Молодцово',\n",
       "       'поселок городского типа Кузьмоловский',\n",
       "       'садовое товарищество Новая Ропша', 'Павловск',\n",
       "       'деревня Пикколово', 'Всеволожск', 'Волхов', 'Кингисепп',\n",
       "       'Приозерск', 'Сестрорецк', 'деревня Куттузи', 'посёлок Аннино',\n",
       "       'поселок городского типа Ефимовский', 'посёлок Плодовое',\n",
       "       'деревня Заклинье', 'поселок Торковичи', 'поселок Первомайское',\n",
       "       'Красное Село', 'посёлок Понтонный', 'Сясьстрой', 'деревня Старая',\n",
       "       'деревня Лесколово', 'посёлок Новый Свет', 'Сланцы',\n",
       "       'село Путилово', 'Ивангород', 'Мурино', 'Шлиссельбург',\n",
       "       'Никольское', 'Зеленогорск', 'Сосновый Бор', 'поселок Новый Свет',\n",
       "       'деревня Оржицы', 'деревня Кальтино', 'Кудрово',\n",
       "       'поселок Романовка', 'посёлок Бугры', 'поселок Бугры',\n",
       "       'поселок городского типа Рощино', 'Кириши', 'Луга', 'Волосово',\n",
       "       'Отрадное', 'село Павлово', 'поселок Оредеж', 'село Копорье',\n",
       "       'посёлок городского типа Красный Бор', 'посёлок Молодёжное',\n",
       "       'Тихвин', 'посёлок Победа', 'деревня Нурма',\n",
       "       'поселок городского типа Синявино', 'Тосно',\n",
       "       'посёлок городского типа Кузьмоловский', 'посёлок Стрельна',\n",
       "       'Бокситогорск', 'посёлок Александровская', 'деревня Лопухинка',\n",
       "       'Пикалёво', 'поселок Терволово',\n",
       "       'поселок городского типа Советский', 'Подпорожье',\n",
       "       'посёлок Петровское', 'посёлок городского типа Токсово',\n",
       "       'поселок Сельцо', 'посёлок городского типа Вырица',\n",
       "       'деревня Кипень', 'деревня Келози', 'деревня Вартемяги',\n",
       "       'посёлок Тельмана', 'поселок Севастьяново',\n",
       "       'городской поселок Большая Ижора', 'городской посёлок Павлово',\n",
       "       'деревня Агалатово', 'посёлок Новогорелово',\n",
       "       'городской посёлок Лесогорский', 'деревня Лаголово',\n",
       "       'поселок Цвелодубово', 'поселок городского типа Рахья',\n",
       "       'поселок городского типа Вырица', 'деревня Белогорка',\n",
       "       'поселок Заводской', 'городской посёлок Новоселье',\n",
       "       'деревня Большие Колпаны', 'деревня Горбунки', 'деревня Батово',\n",
       "       'деревня Заневка', 'деревня Иссад', 'Приморск',\n",
       "       'городской посёлок Фёдоровское', 'деревня Мистолово',\n",
       "       'Новая Ладога', 'поселок Зимитицы', 'поселок Барышево',\n",
       "       'деревня Разметелево', 'поселок городского типа имени Свердлова',\n",
       "       'деревня Пеники', 'поселок Рябово', 'деревня Пудомяги',\n",
       "       'поселок станции Корнево', 'деревня Низино', 'деревня Бегуницы',\n",
       "       'посёлок Поляны', 'городской посёлок Мга', 'поселок Елизаветино',\n",
       "       'посёлок городского типа Кузнечное', 'деревня Колтуши',\n",
       "       'поселок Запорожское', 'посёлок городского типа Рощино',\n",
       "       'деревня Гостилицы', 'деревня Малое Карлино',\n",
       "       'посёлок Мичуринское', 'посёлок городского типа имени Морозова',\n",
       "       'посёлок Песочный', 'посёлок Сосново', 'деревня Аро',\n",
       "       'поселок Ильичёво', 'посёлок городского типа Тайцы',\n",
       "       'деревня Малое Верево', 'деревня Извара', 'поселок станции Вещево',\n",
       "       'село Паша', 'деревня Калитино',\n",
       "       'посёлок городского типа Ульяновка', 'деревня Чудской Бор',\n",
       "       'поселок городского типа Дубровка', 'деревня Мины',\n",
       "       'поселок Войсковицы', 'посёлок городского типа имени Свердлова',\n",
       "       'деревня Коркино', 'посёлок Ропша',\n",
       "       'поселок городского типа Приладожский', 'посёлок Щеглово',\n",
       "       'посёлок Гаврилово', 'Лодейное Поле', 'деревня Рабитицы',\n",
       "       'поселок городского типа Никольский', 'деревня Кузьмолово',\n",
       "       'деревня Малые Колпаны', 'поселок Тельмана',\n",
       "       'посёлок Петро-Славянка', 'городской посёлок Назия',\n",
       "       'посёлок Репино', 'посёлок Ильичёво', 'поселок Углово',\n",
       "       'поселок Старая Малукса', 'садовое товарищество Рахья',\n",
       "       'поселок Аннино', 'поселок Победа', 'деревня Меньково',\n",
       "       'деревня Старые Бегуницы', 'посёлок Сапёрный', 'поселок Семрино',\n",
       "       'поселок Гаврилово', 'поселок Глажево', 'поселок Кобринское',\n",
       "       'деревня Гарболово', 'деревня Юкки',\n",
       "       'поселок станции Приветнинское', 'деревня Мануйлово',\n",
       "       'деревня Пчева', 'поселок Поляны', 'поселок Цвылёво',\n",
       "       'поселок Мельниково', 'посёлок Пудость', 'посёлок Усть-Луга',\n",
       "       'Светогорск', 'Любань', 'поселок Селезнёво',\n",
       "       'поселок городского типа Рябово', 'Каменногорск', 'деревня Кривко',\n",
       "       'поселок Глебычево', 'деревня Парицы', 'поселок Жилпосёлок',\n",
       "       'посёлок городского типа Мга', 'городской поселок Янино-1',\n",
       "       'посёлок Войскорово', 'село Никольское', 'посёлок Терволово',\n",
       "       'поселок Стеклянный', 'посёлок городского типа Важины',\n",
       "       'посёлок Мыза-Ивановка', 'село Русско-Высоцкое',\n",
       "       'поселок городского типа Лебяжье',\n",
       "       'поселок городского типа Форносово', 'село Старая Ладога',\n",
       "       'поселок Житково', 'городской посёлок Виллози', 'деревня Лампово',\n",
       "       'деревня Шпаньково', 'деревня Лаврики', 'посёлок Сумино',\n",
       "       'посёлок Возрождение', 'деревня Старосиверская',\n",
       "       'посёлок Кикерино', 'поселок Возрождение',\n",
       "       'деревня Старое Хинколово', 'посёлок Пригородный',\n",
       "       'посёлок Торфяное', 'городской посёлок Будогощь',\n",
       "       'поселок Суходолье', 'поселок Красная Долина', 'деревня Хапо-Ое',\n",
       "       'поселок городского типа Дружная Горка', 'поселок Лисий Нос',\n",
       "       'деревня Яльгелево', 'посёлок Стеклянный', 'село Рождествено',\n",
       "       'деревня Старополье', 'посёлок Левашово', 'деревня Сяськелево',\n",
       "       'деревня Камышовка',\n",
       "       'садоводческое некоммерческое товарищество Лесная Поляна',\n",
       "       'деревня Хязельки', 'поселок Жилгородок',\n",
       "       'посёлок городского типа Павлово', 'деревня Ялгино',\n",
       "       'поселок Новый Учхоз', 'городской посёлок Рощино',\n",
       "       'поселок Гончарово', 'поселок Почап', 'посёлок Сапёрное',\n",
       "       'посёлок Платформа 69-й километр', 'поселок Каложицы',\n",
       "       'деревня Фалилеево', 'деревня Пельгора',\n",
       "       'поселок городского типа Лесогорский', 'деревня Торошковичи',\n",
       "       'посёлок Белоостров', 'посёлок Алексеевка', 'поселок Серебрянский',\n",
       "       'поселок Лукаши', 'поселок Петровское', 'деревня Щеглово',\n",
       "       'поселок Мичуринское', 'деревня Тарасово', 'поселок Кингисеппский',\n",
       "       'посёлок при железнодорожной станции Вещево', 'поселок Ушаки',\n",
       "       'деревня Котлы', 'деревня Сижно', 'деревня Торосово',\n",
       "       'посёлок Форт Красная Горка', 'деревня Новолисино',\n",
       "       'посёлок станции Громово', 'деревня Глинка', 'посёлок Мельниково',\n",
       "       'поселок городского типа Назия', 'деревня Старая Пустошь',\n",
       "       'поселок Коммунары', 'поселок Починок',\n",
       "       'посёлок городского типа Вознесенье', 'деревня Разбегаево',\n",
       "       'посёлок городского типа Рябово', 'поселок Гладкое',\n",
       "       'посёлок при железнодорожной станции Приветнинское',\n",
       "       'поселок Тёсово-4', 'посёлок Жилгородок', 'деревня Бор',\n",
       "       'посёлок Коробицыно', 'деревня Большая Вруда', 'деревня Курковицы',\n",
       "       'посёлок Лисий Нос', 'городской посёлок Советский',\n",
       "       'посёлок Кобралово', 'деревня Суоранда', 'поселок Кобралово',\n",
       "       'поселок городского типа Кондратьево',\n",
       "       'коттеджный поселок Счастье', 'поселок Любань', 'деревня Реброво',\n",
       "       'деревня Зимитицы', 'деревня Тойворово', 'поселок Семиозерье',\n",
       "       'поселок Лесное', 'поселок Совхозный', 'поселок Усть-Луга',\n",
       "       'посёлок Ленинское', 'посёлок Суйда',\n",
       "       'посёлок городского типа Форносово', 'деревня Нижние Осельки',\n",
       "       'посёлок станции Свирь', 'поселок Перово', 'Высоцк',\n",
       "       'поселок Гарболово', 'село Шум', 'поселок Котельский',\n",
       "       'поселок станции Лужайка', 'деревня Большая Пустомержа',\n",
       "       'поселок Красносельское', 'деревня Вахнова Кара', 'деревня Пижма',\n",
       "       'коттеджный поселок Кивеннапа Север', 'поселок Коробицыно',\n",
       "       'поселок Ромашки', 'посёлок Перово', 'деревня Каськово',\n",
       "       'деревня Куровицы', 'посёлок Плоское', 'поселок Сумино',\n",
       "       'поселок городского типа Большая Ижора', 'поселок Кирпичное',\n",
       "       'деревня Ям-Тесово', 'деревня Раздолье', 'деревня Терпилицы',\n",
       "       'поселок городского типа Токсово', 'посёлок Шугозеро',\n",
       "       'деревня Ваганово', 'поселок Пушное', 'садовое товарищество Садко',\n",
       "       'посёлок Усть-Ижора', 'деревня Выскатка',\n",
       "       'городской посёлок Свирьстрой', 'поселок Громово',\n",
       "       'деревня Кисельня', 'посёлок Старая Малукса',\n",
       "       'деревня Трубников Бор', 'поселок Калитино',\n",
       "       'посёлок Высокоключевой', 'садовое товарищество Приладожский',\n",
       "       'посёлок Пансионат Зелёный Бор', 'деревня Ненимяки',\n",
       "       'поселок Пансионат Зелёный Бор', 'деревня Снегирёвка',\n",
       "       'деревня Рапполово', 'деревня Пустынка', 'поселок Рабитицы',\n",
       "       'деревня Большой Сабск', 'деревня Русско', 'деревня Лупполово',\n",
       "       'деревня Большое Рейзино', 'деревня Малая Романовка',\n",
       "       'поселок Дружноселье', 'поселок Пчевжа', 'поселок Володарское',\n",
       "       'деревня Нижняя', 'коттеджный посёлок Лесное', 'деревня Тихковицы',\n",
       "       'деревня Борисова Грива', 'посёлок Дзержинского'], dtype=object)"
      ]
     },
     "execution_count": 22,
     "metadata": {},
     "output_type": "execute_result"
    }
   ],
   "source": [
    "data['locality_name'].unique()"
   ]
  },
  {
   "cell_type": "code",
   "execution_count": 23,
   "metadata": {},
   "outputs": [],
   "source": [
    "data['locality_name'] = (\n",
    "    data['locality_name']\n",
    "    .str.replace('ё', 'е')\n",
    "    .replace(['поселок Мурино'], 'Мурино', regex=True)\n",
    "    .replace(['поселок городского типа Мга'], 'городской поселок Мга', regex=True)\n",
    "    .replace(['поселок городского типа Павлово'], 'городской поселок Павлово', regex=True)\n",
    "    .replace(['поселок Рябово'], 'поселок городского типа Рябово', regex=True)\n",
    ")"
   ]
  },
  {
   "cell_type": "markdown",
   "metadata": {},
   "source": [
    "**Работа с явными дубликатами**"
   ]
  },
  {
   "cell_type": "code",
   "execution_count": 142,
   "metadata": {},
   "outputs": [
    {
     "data": {
      "text/plain": [
       "0"
      ]
     },
     "execution_count": 142,
     "metadata": {},
     "output_type": "execute_result"
    }
   ],
   "source": [
    "data.duplicated().sum() # проверяем количество явных дубликатов"
   ]
  },
  {
   "cell_type": "markdown",
   "metadata": {},
   "source": [
    "Явные дубликаты не наблюдаются."
   ]
  },
  {
   "cell_type": "markdown",
   "metadata": {},
   "source": [
    "### Посчитайте и добавьте в таблицу новые столбцы"
   ]
  },
  {
   "cell_type": "markdown",
   "metadata": {},
   "source": [
    "Добавим в таблицу новый столбец `price_one_meter`, в котором будет храниться цена одного квадратного метра"
   ]
  },
  {
   "cell_type": "code",
   "execution_count": 24,
   "metadata": {},
   "outputs": [],
   "source": [
    "price_one_meter = data['last_price'] / data['total_area']\n",
    "data['price_one_meter'] = round(price_one_meter, 2)"
   ]
  },
  {
   "cell_type": "markdown",
   "metadata": {},
   "source": [
    "Добавим в таблицу новый столбец `day`, в котором будет храниться день недели публикации объявления."
   ]
  },
  {
   "cell_type": "code",
   "execution_count": 25,
   "metadata": {},
   "outputs": [],
   "source": [
    "data['day'] = data['first_day_exposition'].dt.weekday # находим номер дня недели методом dt.weekday"
   ]
  },
  {
   "cell_type": "markdown",
   "metadata": {},
   "source": [
    "Добавим в таблицу новый столбец `month`, в котором будет храниться месяц публикации объявления."
   ]
  },
  {
   "cell_type": "code",
   "execution_count": 26,
   "metadata": {},
   "outputs": [],
   "source": [
    "data['month'] = data['first_day_exposition'].dt.month # находим месяц методом dt.month"
   ]
  },
  {
   "cell_type": "markdown",
   "metadata": {},
   "source": [
    "Добавим в таблицу новый столбец `year`, в котором будет храниться год публикации объявления."
   ]
  },
  {
   "cell_type": "code",
   "execution_count": 27,
   "metadata": {},
   "outputs": [],
   "source": [
    "data['year'] = data['first_day_exposition'].dt.year # находим год методом dt.year"
   ]
  },
  {
   "cell_type": "markdown",
   "metadata": {},
   "source": [
    "Добавим в таблицу новый столбец `floor_apartment`, в котором будет храниться тип этажа квартиры (значения — «‎первый», «последний», «другой»)."
   ]
  },
  {
   "cell_type": "code",
   "execution_count": 28,
   "metadata": {},
   "outputs": [],
   "source": [
    "data['floor_apartment'] = data['floor'] # создаем новый столбец "
   ]
  },
  {
   "cell_type": "code",
   "execution_count": 29,
   "metadata": {},
   "outputs": [],
   "source": [
    "data['floor_apartment'] = (\n",
    "    data['floor_apartment']\n",
    "    .where(data['floors_total'] == data['floor'], 'другой')\n",
    "    .where(data['floors_total'] != data['floor'], 'последний')\n",
    "    .where(data['floor'] != 1, 'первый')\n",
    ") # определяем тип этажа"
   ]
  },
  {
   "cell_type": "markdown",
   "metadata": {},
   "source": [
    "Добавим в таблицу новый столбец `city_centers_nearest_km`, в котором будет храниться расстояние до центра города в километрах "
   ]
  },
  {
   "cell_type": "code",
   "execution_count": 30,
   "metadata": {},
   "outputs": [],
   "source": [
    "city_centers_nearest_km = data['city_centers_nearest'] / 1000\n",
    "data['city_centers_nearest_km'] = round(city_centers_nearest_km, 0)"
   ]
  },
  {
   "cell_type": "markdown",
   "metadata": {},
   "source": [
    "### Проведите исследовательский анализ данных"
   ]
  },
  {
   "cell_type": "markdown",
   "metadata": {},
   "source": [
    "#### Изучение параметров объектов и построение гистограмм"
   ]
  },
  {
   "cell_type": "markdown",
   "metadata": {},
   "source": [
    "**Тип этажа квартиры**\n",
    "\n",
    "Построим гистограмму по типу этажу квартиры"
   ]
  },
  {
   "cell_type": "code",
   "execution_count": 146,
   "metadata": {
    "scrolled": false
   },
   "outputs": [
    {
     "data": {
      "text/plain": [
       "Text(0.5, 1.0, 'Типы этажей квартиры')"
      ]
     },
     "execution_count": 146,
     "metadata": {},
     "output_type": "execute_result"
    },
    {
     "data": {
      "image/png": "[encoded data removed]",
      "text/plain": [
       "<Figure size 432x288 with 1 Axes>"
      ]
     },
     "metadata": {
      "needs_background": "light"
     },
     "output_type": "display_data"
    }
   ],
   "source": [
    "data['floor_apartment'].hist()\n",
    "plt.xlabel(\"Этаж\")\n",
    "plt.ylabel(\"Количество объектов\")\n",
    "plt.title(\"Типы этажей квартиры\")"
   ]
  },
  {
   "cell_type": "markdown",
   "metadata": {},
   "source": [
    "Как видно из гистограммы большего всего квартир находиться на этажах между первым и последним.\n",
    "\n",
    "Квартир расположенных на первом этаже меньше всего, но они не сильно уступают квартирам на последнем этаже."
   ]
  },
  {
   "cell_type": "markdown",
   "metadata": {},
   "source": [
    "**Количество комнат**\n",
    "\n",
    "Построим гистограмму по количеству комнат."
   ]
  },
  {
   "cell_type": "code",
   "execution_count": 145,
   "metadata": {
    "scrolled": true
   },
   "outputs": [
    {
     "data": {
      "text/plain": [
       "Text(0.5, 1.0, 'Количество комнат')"
      ]
     },
     "execution_count": 145,
     "metadata": {},
     "output_type": "execute_result"
    },
    {
     "data": {
      "image/png": "[encoded data removed]",
      "text/plain": [
       "<Figure size 432x288 with 1 Axes>"
      ]
     },
     "metadata": {
      "needs_background": "light"
     },
     "output_type": "display_data"
    }
   ],
   "source": [
    "data['rooms'].hist()\n",
    "plt.xlabel(\"Комнаты\")\n",
    "plt.ylabel(\"Количество объектов\")\n",
    "plt.title(\"Количество комнат\")"
   ]
  },
  {
   "cell_type": "markdown",
   "metadata": {},
   "source": [
    "Выведим уникальные значения столбца `rooms`"
   ]
  },
  {
   "cell_type": "code",
   "execution_count": 40,
   "metadata": {},
   "outputs": [
    {
     "data": {
      "text/plain": [
       "array([ 3,  1,  2,  4,  5,  6,  0,  7, 11,  8, 14, 10, 15,  9, 19, 16, 12])"
      ]
     },
     "execution_count": 40,
     "metadata": {},
     "output_type": "execute_result"
    }
   ],
   "source": [
    "data['rooms'].unique() # проверяем уникальные значения столбца rooms"
   ]
  },
  {
   "cell_type": "markdown",
   "metadata": {},
   "source": [
    "Квартиру с 19-тью комнатами представить очень сложно. Будем считать количество комнат больше 7 аномальными значениями. \n",
    "\n",
    "Исправить это как-то логически непредставляется возможным, поэтому удалим эти значения.\n",
    "\n",
    "Количество комнат равно `0` скорее всего говорит о том, что это студия."
   ]
  },
  {
   "cell_type": "code",
   "execution_count": 41,
   "metadata": {},
   "outputs": [],
   "source": [
    "data = data[data['rooms'] < 8] # исключаем из столбца rooms значения больше 7"
   ]
  },
  {
   "cell_type": "code",
   "execution_count": 147,
   "metadata": {},
   "outputs": [
    {
     "data": {
      "text/plain": [
       "Text(0.5, 1.0, 'Количество комнат')"
      ]
     },
     "execution_count": 147,
     "metadata": {},
     "output_type": "execute_result"
    },
    {
     "data": {
      "image/png": "[encoded data removed]",
      "text/plain": [
       "<Figure size 432x288 with 1 Axes>"
      ]
     },
     "metadata": {
      "needs_background": "light"
     },
     "output_type": "display_data"
    }
   ],
   "source": [
    "data['rooms'].hist(bins=15)\n",
    "plt.xlabel(\"Комнаты\")\n",
    "plt.ylabel(\"Количество объектов\")\n",
    "plt.title(\"Количество комнат\")"
   ]
  },
  {
   "cell_type": "markdown",
   "metadata": {},
   "source": [
    "Как видно из гистограммы большинство квартир имеют 1, 2 и 3 комнаты, что логично. Квартир с более большим количеством комнат неочень много, также как и студий."
   ]
  },
  {
   "cell_type": "markdown",
   "metadata": {},
   "source": [
    "**Общее количество этажей в доме**\n",
    "\n",
    "Построим гистограмму по общему количеству этажей в доме"
   ]
  },
  {
   "cell_type": "code",
   "execution_count": 148,
   "metadata": {
    "scrolled": true
   },
   "outputs": [
    {
     "data": {
      "text/plain": [
       "Text(0.5, 1.0, 'Общее количество этажей в доме')"
      ]
     },
     "execution_count": 148,
     "metadata": {},
     "output_type": "execute_result"
    },
    {
     "data": {
      "image/png": "[encoded data removed]",
      "text/plain": [
       "<Figure size 432x288 with 1 Axes>"
      ]
     },
     "metadata": {
      "needs_background": "light"
     },
     "output_type": "display_data"
    }
   ],
   "source": [
    "data['floors_total'].hist(range=(0, 60))\n",
    "plt.xlabel(\"Этажи\")\n",
    "plt.ylabel(\"Количество оъектов\")\n",
    "plt.title(\"Общее количество этажей в доме\")"
   ]
  },
  {
   "cell_type": "markdown",
   "metadata": {},
   "source": [
    "Видно, что есть значения больше 30-ти"
   ]
  },
  {
   "cell_type": "code",
   "execution_count": 48,
   "metadata": {
    "scrolled": true
   },
   "outputs": [
    {
     "data": {
      "text/plain": [
       "array([16, 11,  5, 14, 12, 26, 24, 27,  9,  6, 17, 25,  3, 23, 19, 18,  4,\n",
       "       22,  8,  2, 10,  7, 13, 15, 20, 28, 36, 21, 35, 34, 60,  1, 29, 33,\n",
       "       52, 37])"
      ]
     },
     "execution_count": 48,
     "metadata": {},
     "output_type": "execute_result"
    }
   ],
   "source": [
    "data['floors_total'].unique() # уникальные значения столбца floors_total"
   ]
  },
  {
   "cell_type": "markdown",
   "metadata": {},
   "source": [
    "На первый взгляд попдаются большие значения, но впринципе такое возможно, необходимо проверить в каких населенных пунктах есть такие дома, чтобы понять аномалия это или нет."
   ]
  },
  {
   "cell_type": "code",
   "execution_count": 49,
   "metadata": {},
   "outputs": [],
   "source": [
    "anomaly_floors = data[data['floors_total'] > 30] # создаем отдельный датафрейм с количеством этажей больше 30"
   ]
  },
  {
   "cell_type": "markdown",
   "metadata": {},
   "source": [
    "Теперь проверим какие населенные пункты остались"
   ]
  },
  {
   "cell_type": "code",
   "execution_count": 50,
   "metadata": {},
   "outputs": [
    {
     "data": {
      "text/plain": [
       "array(['Санкт-Петербург', 'Кронштадт'], dtype=object)"
      ]
     },
     "execution_count": 50,
     "metadata": {},
     "output_type": "execute_result"
    }
   ],
   "source": [
    "anomaly_floors['locality_name'].unique() # выводим уникальные значения населенных пунктов"
   ]
  },
  {
   "cell_type": "markdown",
   "metadata": {},
   "source": [
    "Такие высокие дома для Санкт-Петербурга не будут чем-то аномальными, но вот для Кронштадта будут, поэтому удалим из датафрейма строку, которая содержит Кронштадт и количество этажей 60"
   ]
  },
  {
   "cell_type": "code",
   "execution_count": 51,
   "metadata": {},
   "outputs": [],
   "source": [
    "data = data[data['floors_total'] < 60]"
   ]
  },
  {
   "cell_type": "code",
   "execution_count": 149,
   "metadata": {
    "scrolled": true
   },
   "outputs": [
    {
     "data": {
      "text/plain": [
       "Text(0.5, 1.0, 'Общее количество этажей в доме')"
      ]
     },
     "execution_count": 149,
     "metadata": {},
     "output_type": "execute_result"
    },
    {
     "data": {
      "image/png": "[encoded data removed]",
      "text/plain": [
       "<Figure size 432x288 with 1 Axes>"
      ]
     },
     "metadata": {
      "needs_background": "light"
     },
     "output_type": "display_data"
    }
   ],
   "source": [
    "data['floors_total'].hist()\n",
    "plt.xlabel(\"Этажи\")\n",
    "plt.ylabel(\"Количество объектов\")\n",
    "plt.title(\"Общее количество этажей в доме\")"
   ]
  },
  {
   "cell_type": "markdown",
   "metadata": {},
   "source": [
    "Как видно по гистограмме количество этажей соотвествуют реальности даже с учетом домов с количеством этажей 50."
   ]
  },
  {
   "cell_type": "markdown",
   "metadata": {},
   "source": [
    "**Цена объекта**\n",
    "\n",
    "Построим гистограмму по цене квартир"
   ]
  },
  {
   "cell_type": "code",
   "execution_count": 150,
   "metadata": {
    "scrolled": false
   },
   "outputs": [
    {
     "data": {
      "text/plain": [
       "Text(0.5, 1.0, 'Цена объекта')"
      ]
     },
     "execution_count": 150,
     "metadata": {},
     "output_type": "execute_result"
    },
    {
     "data": {
      "image/png": "[encoded data removed]",
      "text/plain": [
       "<Figure size 432x288 with 1 Axes>"
      ]
     },
     "metadata": {
      "needs_background": "light"
     },
     "output_type": "display_data"
    }
   ],
   "source": [
    "data['last_price'].hist(range=(0, 20000000))\n",
    "plt.xlabel(\"Цена\")\n",
    "plt.ylabel(\"Количество объектов\")\n",
    "plt.title(\"Цена объекта\")"
   ]
  },
  {
   "cell_type": "markdown",
   "metadata": {},
   "source": [
    "Аномальных значений не наблюдается, хоть у нас есть квартиры, которые стоят меньше миллиона, но такие цены возможны в маленьких городах, в деревнях и послеках."
   ]
  },
  {
   "cell_type": "markdown",
   "metadata": {},
   "source": [
    "**Высота потолков**\n",
    "\n",
    "Построим гистограмму по высоте потолков"
   ]
  },
  {
   "cell_type": "code",
   "execution_count": 151,
   "metadata": {
    "scrolled": false
   },
   "outputs": [
    {
     "data": {
      "text/plain": [
       "Text(0.5, 1.0, 'Высота потолков')"
      ]
     },
     "execution_count": 151,
     "metadata": {},
     "output_type": "execute_result"
    },
    {
     "data": {
      "image/png": "[encoded data removed]",
      "text/plain": [
       "<Figure size 432x288 with 1 Axes>"
      ]
     },
     "metadata": {
      "needs_background": "light"
     },
     "output_type": "display_data"
    }
   ],
   "source": [
    "data['ceiling_height'].hist()\n",
    "plt.xlabel(\"Высота (м)\")\n",
    "plt.ylabel(\"Количество объектов\")\n",
    "plt.title(\"Высота потолков\")"
   ]
  },
  {
   "cell_type": "markdown",
   "metadata": {},
   "source": [
    "У нас есть аномальные значения, скорее всего, пользователи забыли разделить число запятой (25 вместо 2.5) это можно изменить."
   ]
  },
  {
   "cell_type": "code",
   "execution_count": 65,
   "metadata": {},
   "outputs": [],
   "source": [
    "def ceiling_division(ceiling):\n",
    "    if ceiling > 20:\n",
    "        return ceiling / 10\n",
    "    elif ceiling < 20:\n",
    "        return ceiling"
   ]
  },
  {
   "cell_type": "code",
   "execution_count": 66,
   "metadata": {},
   "outputs": [],
   "source": [
    "# вызываем функцию, которая приводит аномальные значения в норму\n",
    "data['ceiling_height'] = data['ceiling_height'].apply(ceiling_division)"
   ]
  },
  {
   "cell_type": "code",
   "execution_count": 152,
   "metadata": {
    "scrolled": false
   },
   "outputs": [
    {
     "data": {
      "text/plain": [
       "Text(0.5, 1.0, 'Высота потолков')"
      ]
     },
     "execution_count": 152,
     "metadata": {},
     "output_type": "execute_result"
    },
    {
     "data": {
      "image/png": "[encoded data removed]",
      "text/plain": [
       "<Figure size 432x288 with 1 Axes>"
      ]
     },
     "metadata": {
      "needs_background": "light"
     },
     "output_type": "display_data"
    }
   ],
   "source": [
    "data['ceiling_height'].hist()\n",
    "plt.xlabel(\"Высота (м)\")\n",
    "plt.ylabel(\"Количество объектов\")\n",
    "plt.title(\"Высота потолков\")"
   ]
  },
  {
   "cell_type": "markdown",
   "metadata": {},
   "source": [
    "Осталось избавиться от значений меньше 2 (таких потолков не может быть), так и от значений больше 5."
   ]
  },
  {
   "cell_type": "code",
   "execution_count": 72,
   "metadata": {},
   "outputs": [],
   "source": [
    "data = data[(data['ceiling_height'] > 2) & (data['ceiling_height'] < 5)] # оставляем потолки в диапазоне от 2 до 5 метров"
   ]
  },
  {
   "cell_type": "code",
   "execution_count": 153,
   "metadata": {
    "scrolled": true
   },
   "outputs": [
    {
     "data": {
      "text/plain": [
       "Text(0.5, 1.0, 'Высота потолков')"
      ]
     },
     "execution_count": 153,
     "metadata": {},
     "output_type": "execute_result"
    },
    {
     "data": {
      "image/png": "[encoded data removed]",
      "text/plain": [
       "<Figure size 432x288 with 1 Axes>"
      ]
     },
     "metadata": {
      "needs_background": "light"
     },
     "output_type": "display_data"
    }
   ],
   "source": [
    "data['ceiling_height'].hist()\n",
    "plt.xlabel(\"Высота (м)\")\n",
    "plt.ylabel(\"Количество объектов\")\n",
    "plt.title(\"Высота потолков\")"
   ]
  },
  {
   "cell_type": "markdown",
   "metadata": {},
   "source": [
    "Привели значения высоты потолков в норму"
   ]
  },
  {
   "cell_type": "markdown",
   "metadata": {},
   "source": [
    "**Расстояние до центра города в метрах**\n",
    "\n",
    "Построим гистограмму по расстоянию до центра города в метрах"
   ]
  },
  {
   "cell_type": "code",
   "execution_count": 154,
   "metadata": {
    "scrolled": false
   },
   "outputs": [
    {
     "data": {
      "text/plain": [
       "Text(0.5, 1.0, 'Расстояние до центра города')"
      ]
     },
     "execution_count": 154,
     "metadata": {},
     "output_type": "execute_result"
    },
    {
     "data": {
      "image/png": "[encoded data removed]",
      "text/plain": [
       "<Figure size 432x288 with 1 Axes>"
      ]
     },
     "metadata": {
      "needs_background": "light"
     },
     "output_type": "display_data"
    }
   ],
   "source": [
    "data['city_centers_nearest'].hist()\n",
    "plt.xlabel(\"Расстояние (м)\")\n",
    "plt.ylabel(\"Количество объектов\")\n",
    "plt.title(\"Расстояние до центра города\")"
   ]
  },
  {
   "cell_type": "markdown",
   "metadata": {},
   "source": [
    "Посмотрим на строчки в которых расстояние до центра больше 30км"
   ]
  },
  {
   "cell_type": "code",
   "execution_count": 76,
   "metadata": {},
   "outputs": [
    {
     "data": {
      "text/html": [
       "<div>\n",
       "<style scoped>\n",
       "    .dataframe tbody tr th:only-of-type {\n",
       "        vertical-align: middle;\n",
       "    }\n",
       "\n",
       "    .dataframe tbody tr th {\n",
       "        vertical-align: top;\n",
       "    }\n",
       "\n",
       "    .dataframe thead th {\n",
       "        text-align: right;\n",
       "    }\n",
       "</style>\n",
       "<table border=\"1\" class=\"dataframe\">\n",
       "  <thead>\n",
       "    <tr style=\"text-align: right;\">\n",
       "      <th></th>\n",
       "      <th>total_images</th>\n",
       "      <th>last_price</th>\n",
       "      <th>total_area</th>\n",
       "      <th>first_day_exposition</th>\n",
       "      <th>rooms</th>\n",
       "      <th>ceiling_height</th>\n",
       "      <th>floors_total</th>\n",
       "      <th>living_area</th>\n",
       "      <th>floor</th>\n",
       "      <th>is_apartment</th>\n",
       "      <th>...</th>\n",
       "      <th>parks_nearest</th>\n",
       "      <th>ponds_around_3000</th>\n",
       "      <th>ponds_nearest</th>\n",
       "      <th>days_exposition</th>\n",
       "      <th>price_one_meter</th>\n",
       "      <th>day</th>\n",
       "      <th>month</th>\n",
       "      <th>year</th>\n",
       "      <th>floor_apartment</th>\n",
       "      <th>city_centers_nearest_km</th>\n",
       "    </tr>\n",
       "  </thead>\n",
       "  <tbody>\n",
       "    <tr>\n",
       "      <th>11</th>\n",
       "      <td>9</td>\n",
       "      <td>3300000</td>\n",
       "      <td>44.0</td>\n",
       "      <td>2018-08-27</td>\n",
       "      <td>2</td>\n",
       "      <td>2.65</td>\n",
       "      <td>5</td>\n",
       "      <td>31.0</td>\n",
       "      <td>4</td>\n",
       "      <td>False</td>\n",
       "      <td>...</td>\n",
       "      <td>NaN</td>\n",
       "      <td>0.0</td>\n",
       "      <td>NaN</td>\n",
       "      <td>7</td>\n",
       "      <td>75000.00</td>\n",
       "      <td>0</td>\n",
       "      <td>8</td>\n",
       "      <td>2018</td>\n",
       "      <td>другой</td>\n",
       "      <td>52.0</td>\n",
       "    </tr>\n",
       "    <tr>\n",
       "      <th>13</th>\n",
       "      <td>20</td>\n",
       "      <td>3550000</td>\n",
       "      <td>42.8</td>\n",
       "      <td>2017-07-01</td>\n",
       "      <td>2</td>\n",
       "      <td>2.56</td>\n",
       "      <td>5</td>\n",
       "      <td>27.0</td>\n",
       "      <td>5</td>\n",
       "      <td>False</td>\n",
       "      <td>...</td>\n",
       "      <td>294.0</td>\n",
       "      <td>3.0</td>\n",
       "      <td>298.0</td>\n",
       "      <td>366</td>\n",
       "      <td>82943.93</td>\n",
       "      <td>5</td>\n",
       "      <td>7</td>\n",
       "      <td>2017</td>\n",
       "      <td>последний</td>\n",
       "      <td>33.0</td>\n",
       "    </tr>\n",
       "    <tr>\n",
       "      <th>14</th>\n",
       "      <td>1</td>\n",
       "      <td>4400000</td>\n",
       "      <td>36.0</td>\n",
       "      <td>2016-06-23</td>\n",
       "      <td>1</td>\n",
       "      <td>2.65</td>\n",
       "      <td>6</td>\n",
       "      <td>17.0</td>\n",
       "      <td>1</td>\n",
       "      <td>False</td>\n",
       "      <td>...</td>\n",
       "      <td>NaN</td>\n",
       "      <td>1.0</td>\n",
       "      <td>96.0</td>\n",
       "      <td>203</td>\n",
       "      <td>122222.22</td>\n",
       "      <td>3</td>\n",
       "      <td>6</td>\n",
       "      <td>2016</td>\n",
       "      <td>первый</td>\n",
       "      <td>31.0</td>\n",
       "    </tr>\n",
       "    <tr>\n",
       "      <th>28</th>\n",
       "      <td>8</td>\n",
       "      <td>4170000</td>\n",
       "      <td>44.0</td>\n",
       "      <td>2017-12-13</td>\n",
       "      <td>1</td>\n",
       "      <td>2.90</td>\n",
       "      <td>6</td>\n",
       "      <td>20.8</td>\n",
       "      <td>1</td>\n",
       "      <td>False</td>\n",
       "      <td>...</td>\n",
       "      <td>NaN</td>\n",
       "      <td>1.0</td>\n",
       "      <td>118.0</td>\n",
       "      <td>74</td>\n",
       "      <td>94772.73</td>\n",
       "      <td>2</td>\n",
       "      <td>12</td>\n",
       "      <td>2017</td>\n",
       "      <td>первый</td>\n",
       "      <td>31.0</td>\n",
       "    </tr>\n",
       "    <tr>\n",
       "      <th>33</th>\n",
       "      <td>8</td>\n",
       "      <td>4800000</td>\n",
       "      <td>73.0</td>\n",
       "      <td>2018-10-15</td>\n",
       "      <td>4</td>\n",
       "      <td>2.65</td>\n",
       "      <td>9</td>\n",
       "      <td>51.6</td>\n",
       "      <td>5</td>\n",
       "      <td>False</td>\n",
       "      <td>...</td>\n",
       "      <td>NaN</td>\n",
       "      <td>0.0</td>\n",
       "      <td>NaN</td>\n",
       "      <td>92</td>\n",
       "      <td>65753.42</td>\n",
       "      <td>0</td>\n",
       "      <td>10</td>\n",
       "      <td>2018</td>\n",
       "      <td>другой</td>\n",
       "      <td>32.0</td>\n",
       "    </tr>\n",
       "    <tr>\n",
       "      <th>...</th>\n",
       "      <td>...</td>\n",
       "      <td>...</td>\n",
       "      <td>...</td>\n",
       "      <td>...</td>\n",
       "      <td>...</td>\n",
       "      <td>...</td>\n",
       "      <td>...</td>\n",
       "      <td>...</td>\n",
       "      <td>...</td>\n",
       "      <td>...</td>\n",
       "      <td>...</td>\n",
       "      <td>...</td>\n",
       "      <td>...</td>\n",
       "      <td>...</td>\n",
       "      <td>...</td>\n",
       "      <td>...</td>\n",
       "      <td>...</td>\n",
       "      <td>...</td>\n",
       "      <td>...</td>\n",
       "      <td>...</td>\n",
       "      <td>...</td>\n",
       "    </tr>\n",
       "    <tr>\n",
       "      <th>23526</th>\n",
       "      <td>1</td>\n",
       "      <td>2950000</td>\n",
       "      <td>53.6</td>\n",
       "      <td>2018-02-01</td>\n",
       "      <td>2</td>\n",
       "      <td>2.75</td>\n",
       "      <td>3</td>\n",
       "      <td>32.0</td>\n",
       "      <td>3</td>\n",
       "      <td>False</td>\n",
       "      <td>...</td>\n",
       "      <td>NaN</td>\n",
       "      <td>0.0</td>\n",
       "      <td>NaN</td>\n",
       "      <td>35</td>\n",
       "      <td>55037.31</td>\n",
       "      <td>3</td>\n",
       "      <td>2</td>\n",
       "      <td>2018</td>\n",
       "      <td>последний</td>\n",
       "      <td>42.0</td>\n",
       "    </tr>\n",
       "    <tr>\n",
       "      <th>23533</th>\n",
       "      <td>14</td>\n",
       "      <td>9990000</td>\n",
       "      <td>90.0</td>\n",
       "      <td>2017-01-23</td>\n",
       "      <td>3</td>\n",
       "      <td>3.06</td>\n",
       "      <td>17</td>\n",
       "      <td>55.0</td>\n",
       "      <td>9</td>\n",
       "      <td>False</td>\n",
       "      <td>...</td>\n",
       "      <td>NaN</td>\n",
       "      <td>1.0</td>\n",
       "      <td>545.0</td>\n",
       "      <td>86</td>\n",
       "      <td>111000.00</td>\n",
       "      <td>0</td>\n",
       "      <td>1</td>\n",
       "      <td>2017</td>\n",
       "      <td>другой</td>\n",
       "      <td>33.0</td>\n",
       "    </tr>\n",
       "    <tr>\n",
       "      <th>23535</th>\n",
       "      <td>8</td>\n",
       "      <td>3000000</td>\n",
       "      <td>34.1</td>\n",
       "      <td>2017-11-10</td>\n",
       "      <td>1</td>\n",
       "      <td>2.65</td>\n",
       "      <td>9</td>\n",
       "      <td>17.0</td>\n",
       "      <td>3</td>\n",
       "      <td>False</td>\n",
       "      <td>...</td>\n",
       "      <td>NaN</td>\n",
       "      <td>1.0</td>\n",
       "      <td>741.0</td>\n",
       "      <td>74</td>\n",
       "      <td>87976.54</td>\n",
       "      <td>4</td>\n",
       "      <td>11</td>\n",
       "      <td>2017</td>\n",
       "      <td>другой</td>\n",
       "      <td>30.0</td>\n",
       "    </tr>\n",
       "    <tr>\n",
       "      <th>23551</th>\n",
       "      <td>15</td>\n",
       "      <td>2490000</td>\n",
       "      <td>31.0</td>\n",
       "      <td>2019-01-24</td>\n",
       "      <td>1</td>\n",
       "      <td>2.50</td>\n",
       "      <td>5</td>\n",
       "      <td>17.3</td>\n",
       "      <td>5</td>\n",
       "      <td>False</td>\n",
       "      <td>...</td>\n",
       "      <td>NaN</td>\n",
       "      <td>0.0</td>\n",
       "      <td>NaN</td>\n",
       "      <td>99</td>\n",
       "      <td>80322.58</td>\n",
       "      <td>3</td>\n",
       "      <td>1</td>\n",
       "      <td>2019</td>\n",
       "      <td>последний</td>\n",
       "      <td>52.0</td>\n",
       "    </tr>\n",
       "    <tr>\n",
       "      <th>23559</th>\n",
       "      <td>9</td>\n",
       "      <td>4600000</td>\n",
       "      <td>62.4</td>\n",
       "      <td>2016-08-05</td>\n",
       "      <td>3</td>\n",
       "      <td>2.60</td>\n",
       "      <td>9</td>\n",
       "      <td>40.0</td>\n",
       "      <td>8</td>\n",
       "      <td>False</td>\n",
       "      <td>...</td>\n",
       "      <td>352.0</td>\n",
       "      <td>1.0</td>\n",
       "      <td>675.0</td>\n",
       "      <td>239</td>\n",
       "      <td>73717.95</td>\n",
       "      <td>4</td>\n",
       "      <td>8</td>\n",
       "      <td>2016</td>\n",
       "      <td>другой</td>\n",
       "      <td>34.0</td>\n",
       "    </tr>\n",
       "  </tbody>\n",
       "</table>\n",
       "<p>1330 rows × 28 columns</p>\n",
       "</div>"
      ],
      "text/plain": [
       "       total_images  last_price  total_area first_day_exposition  rooms  \\\n",
       "11                9     3300000        44.0           2018-08-27      2   \n",
       "13               20     3550000        42.8           2017-07-01      2   \n",
       "14                1     4400000        36.0           2016-06-23      1   \n",
       "28                8     4170000        44.0           2017-12-13      1   \n",
       "33                8     4800000        73.0           2018-10-15      4   \n",
       "...             ...         ...         ...                  ...    ...   \n",
       "23526             1     2950000        53.6           2018-02-01      2   \n",
       "23533            14     9990000        90.0           2017-01-23      3   \n",
       "23535             8     3000000        34.1           2017-11-10      1   \n",
       "23551            15     2490000        31.0           2019-01-24      1   \n",
       "23559             9     4600000        62.4           2016-08-05      3   \n",
       "\n",
       "       ceiling_height  floors_total  living_area  floor  is_apartment  ...  \\\n",
       "11               2.65             5         31.0      4         False  ...   \n",
       "13               2.56             5         27.0      5         False  ...   \n",
       "14               2.65             6         17.0      1         False  ...   \n",
       "28               2.90             6         20.8      1         False  ...   \n",
       "33               2.65             9         51.6      5         False  ...   \n",
       "...               ...           ...          ...    ...           ...  ...   \n",
       "23526            2.75             3         32.0      3         False  ...   \n",
       "23533            3.06            17         55.0      9         False  ...   \n",
       "23535            2.65             9         17.0      3         False  ...   \n",
       "23551            2.50             5         17.3      5         False  ...   \n",
       "23559            2.60             9         40.0      8         False  ...   \n",
       "\n",
       "       parks_nearest  ponds_around_3000  ponds_nearest  days_exposition  \\\n",
       "11               NaN                0.0            NaN                7   \n",
       "13             294.0                3.0          298.0              366   \n",
       "14               NaN                1.0           96.0              203   \n",
       "28               NaN                1.0          118.0               74   \n",
       "33               NaN                0.0            NaN               92   \n",
       "...              ...                ...            ...              ...   \n",
       "23526            NaN                0.0            NaN               35   \n",
       "23533            NaN                1.0          545.0               86   \n",
       "23535            NaN                1.0          741.0               74   \n",
       "23551            NaN                0.0            NaN               99   \n",
       "23559          352.0                1.0          675.0              239   \n",
       "\n",
       "      price_one_meter  day  month  year  floor_apartment  \\\n",
       "11           75000.00    0      8  2018           другой   \n",
       "13           82943.93    5      7  2017        последний   \n",
       "14          122222.22    3      6  2016           первый   \n",
       "28           94772.73    2     12  2017           первый   \n",
       "33           65753.42    0     10  2018           другой   \n",
       "...               ...  ...    ...   ...              ...   \n",
       "23526        55037.31    3      2  2018        последний   \n",
       "23533       111000.00    0      1  2017           другой   \n",
       "23535        87976.54    4     11  2017           другой   \n",
       "23551        80322.58    3      1  2019        последний   \n",
       "23559        73717.95    4      8  2016           другой   \n",
       "\n",
       "       city_centers_nearest_km  \n",
       "11                        52.0  \n",
       "13                        33.0  \n",
       "14                        31.0  \n",
       "28                        31.0  \n",
       "33                        32.0  \n",
       "...                        ...  \n",
       "23526                     42.0  \n",
       "23533                     33.0  \n",
       "23535                     30.0  \n",
       "23551                     52.0  \n",
       "23559                     34.0  \n",
       "\n",
       "[1330 rows x 28 columns]"
      ]
     },
     "execution_count": 76,
     "metadata": {},
     "output_type": "execute_result"
    }
   ],
   "source": [
    "data[data['city_centers_nearest'] > 30000]"
   ]
  },
  {
   "cell_type": "markdown",
   "metadata": {},
   "source": [
    "Как видно из проверки, что населенные пункты, у которых расстояние до центра города больше 30км являются частью более крупных городов, и такое расстояние из-за того, что эти значения взяты из картографических сервисов. Например, если взять Ломоносов, то центром в данном случае посчитали город Санкт-Петербург, что тогда получается логичным.\n",
    "\n",
    "В результате, можно сказать, что данные значения не являются аномальными и можно оставить все без изменения."
   ]
  },
  {
   "cell_type": "markdown",
   "metadata": {},
   "source": [
    "**Расстояние до ближайшего парка**\n",
    "\n",
    "Построим гистограмму по расстоянию до ближайшего парка"
   ]
  },
  {
   "cell_type": "code",
   "execution_count": 155,
   "metadata": {
    "scrolled": false
   },
   "outputs": [
    {
     "data": {
      "text/plain": [
       "Text(0.5, 1.0, 'Расстояние до ближайшего парка')"
      ]
     },
     "execution_count": 155,
     "metadata": {},
     "output_type": "execute_result"
    },
    {
     "data": {
      "image/png": "[encoded data removed]",
      "text/plain": [
       "<Figure size 432x288 with 1 Axes>"
      ]
     },
     "metadata": {
      "needs_background": "light"
     },
     "output_type": "display_data"
    }
   ],
   "source": [
    "data['parks_nearest'].hist()\n",
    "plt.xlabel(\"Расстояние (м)\")\n",
    "plt.ylabel(\"Количество объектов\")\n",
    "plt.title(\"Расстояние до ближайшего парка\")"
   ]
  },
  {
   "cell_type": "markdown",
   "metadata": {},
   "source": [
    "По данной гистограмме аномальных значений не наблюдается. Расстояние до парка указанно в метрах и в принципе, парк может быть, как близко к дому, так и в 3км от него, что выглядит логично."
   ]
  },
  {
   "cell_type": "markdown",
   "metadata": {},
   "source": [
    "**Общая площадь**\n",
    "\n",
    "Построим гистограмму по общей площади"
   ]
  },
  {
   "cell_type": "code",
   "execution_count": 156,
   "metadata": {},
   "outputs": [
    {
     "data": {
      "text/plain": [
       "Text(0.5, 1.0, 'Общая площадь')"
      ]
     },
     "execution_count": 156,
     "metadata": {},
     "output_type": "execute_result"
    },
    {
     "data": {
      "image/png": "[encoded data removed]",
      "text/plain": [
       "<Figure size 432x288 with 1 Axes>"
      ]
     },
     "metadata": {
      "needs_background": "light"
     },
     "output_type": "display_data"
    }
   ],
   "source": [
    "data['total_area'].hist()\n",
    "plt.xlabel(\"Площадь (м²)\")\n",
    "plt.ylabel(\"Количество объектов\")\n",
    "plt.title(\"Общая площадь\")"
   ]
  },
  {
   "cell_type": "markdown",
   "metadata": {},
   "source": [
    "Есть аномальные значения, можно исключить общую площадь больше 200, а также меньше 15"
   ]
  },
  {
   "cell_type": "code",
   "execution_count": 81,
   "metadata": {},
   "outputs": [],
   "source": [
    "data = data[(data['total_area'] < 200) & (data['total_area'] > 15)] # добавляем значения в диапазоне от 10 до 200"
   ]
  },
  {
   "cell_type": "code",
   "execution_count": 157,
   "metadata": {
    "scrolled": true
   },
   "outputs": [
    {
     "data": {
      "text/plain": [
       "Text(0.5, 1.0, 'Общая площадь')"
      ]
     },
     "execution_count": 157,
     "metadata": {},
     "output_type": "execute_result"
    },
    {
     "data": {
      "image/png": "[encoded data removed]",
      "text/plain": [
       "<Figure size 432x288 with 1 Axes>"
      ]
     },
     "metadata": {
      "needs_background": "light"
     },
     "output_type": "display_data"
    }
   ],
   "source": [
    "data['total_area'].hist()\n",
    "plt.xlabel(\"Площадь (м²)\")\n",
    "plt.ylabel(\"Количество объектов\")\n",
    "plt.title(\"Общая площадь\")"
   ]
  },
  {
   "cell_type": "markdown",
   "metadata": {},
   "source": [
    "В результате остались значения площади от 15 до 200 квадратных метрах, что может соотвествовать действительности"
   ]
  },
  {
   "cell_type": "markdown",
   "metadata": {},
   "source": [
    "**Жилая площадь**\n",
    "\n",
    "Построим гистограмму по жилой площади"
   ]
  },
  {
   "cell_type": "code",
   "execution_count": 158,
   "metadata": {
    "scrolled": true
   },
   "outputs": [
    {
     "data": {
      "text/plain": [
       "Text(0.5, 1.0, 'Жилая площадь')"
      ]
     },
     "execution_count": 158,
     "metadata": {},
     "output_type": "execute_result"
    },
    {
     "data": {
      "image/png": "[encoded data removed]",
      "text/plain": [
       "<Figure size 432x288 with 1 Axes>"
      ]
     },
     "metadata": {
      "needs_background": "light"
     },
     "output_type": "display_data"
    }
   ],
   "source": [
    "data['living_area'].hist()\n",
    "plt.xlabel(\"Площадь (м²)\")\n",
    "plt.ylabel(\"Количество объектов\")\n",
    "plt.title(\"Жилая площадь\")"
   ]
  },
  {
   "cell_type": "markdown",
   "metadata": {},
   "source": [
    "Есть аномальные значения, можно исключить жилую площадь больше 120, а также меньше 10"
   ]
  },
  {
   "cell_type": "code",
   "execution_count": 89,
   "metadata": {},
   "outputs": [],
   "source": [
    "data = data[(data['living_area'] < 120) & (data['living_area'] > 10)] # добавляем значения в диапазоне от 10 до 120"
   ]
  },
  {
   "cell_type": "code",
   "execution_count": 159,
   "metadata": {
    "scrolled": false
   },
   "outputs": [
    {
     "data": {
      "text/plain": [
       "Text(0.5, 1.0, 'Жилая площадь')"
      ]
     },
     "execution_count": 159,
     "metadata": {},
     "output_type": "execute_result"
    },
    {
     "data": {
      "image/png": "[encoded data removed]",
      "text/plain": [
       "<Figure size 432x288 with 1 Axes>"
      ]
     },
     "metadata": {
      "needs_background": "light"
     },
     "output_type": "display_data"
    }
   ],
   "source": [
    "data['living_area'].hist()\n",
    "plt.xlabel(\"Площадь (м²)\")\n",
    "plt.ylabel(\"Количество объектов\")\n",
    "plt.title(\"Жилая площадь\")"
   ]
  },
  {
   "cell_type": "markdown",
   "metadata": {},
   "source": [
    "В результате остались значения площади от 10 до 120 квадратных метрах, что может соотвествовать действительности"
   ]
  },
  {
   "cell_type": "markdown",
   "metadata": {},
   "source": [
    "**Площадь кухни**\n",
    "\n",
    "Построим гистограмму по площади кухни"
   ]
  },
  {
   "cell_type": "code",
   "execution_count": 160,
   "metadata": {
    "scrolled": true
   },
   "outputs": [
    {
     "data": {
      "text/plain": [
       "Text(0.5, 1.0, 'Площадь кухни')"
      ]
     },
     "execution_count": 160,
     "metadata": {},
     "output_type": "execute_result"
    },
    {
     "data": {
      "image/png": "[encoded data removed]",
      "text/plain": [
       "<Figure size 432x288 with 1 Axes>"
      ]
     },
     "metadata": {
      "needs_background": "light"
     },
     "output_type": "display_data"
    }
   ],
   "source": [
    "data['kitchen_area'].hist()\n",
    "plt.xlabel(\"Площадь (м²)\")\n",
    "plt.ylabel(\"Количество объектов\")\n",
    "plt.title(\"Площадь кухни\")"
   ]
  },
  {
   "cell_type": "markdown",
   "metadata": {},
   "source": [
    "Есть аномальные значения, можно исключить площадь больше 40, а также меньше 10"
   ]
  },
  {
   "cell_type": "code",
   "execution_count": 94,
   "metadata": {},
   "outputs": [],
   "source": [
    "data = data[(data['kitchen_area'] < 40) & (data['kitchen_area'] > 10)] # добавляем значения в диапазоне от 10 до 40"
   ]
  },
  {
   "cell_type": "code",
   "execution_count": 161,
   "metadata": {
    "scrolled": true
   },
   "outputs": [
    {
     "data": {
      "text/plain": [
       "Text(0.5, 1.0, 'Площадь кухни')"
      ]
     },
     "execution_count": 161,
     "metadata": {},
     "output_type": "execute_result"
    },
    {
     "data": {
      "image/png": "[encoded data removed]",
      "text/plain": [
       "<Figure size 432x288 with 1 Axes>"
      ]
     },
     "metadata": {
      "needs_background": "light"
     },
     "output_type": "display_data"
    }
   ],
   "source": [
    "data['kitchen_area'].hist()\n",
    "plt.xlabel(\"Площадь (м²)\")\n",
    "plt.ylabel(\"Количество объектов\")\n",
    "plt.title(\"Площадь кухни\")"
   ]
  },
  {
   "cell_type": "markdown",
   "metadata": {},
   "source": [
    "В результате остались значения площади от 10 до 40 квадратных метрах, что может соотвествовать действительности"
   ]
  },
  {
   "cell_type": "markdown",
   "metadata": {},
   "source": [
    "#### Как быстро продавались квартиры"
   ]
  },
  {
   "cell_type": "markdown",
   "metadata": {},
   "source": [
    "Изучим как быстро продавались квартиры для этого возьмем столбец `days_exposition`."
   ]
  },
  {
   "cell_type": "code",
   "execution_count": 164,
   "metadata": {
    "scrolled": true
   },
   "outputs": [
    {
     "data": {
      "text/plain": [
       "Text(0.5, 1.0, 'Сколько дней было размещено объявление')"
      ]
     },
     "execution_count": 164,
     "metadata": {},
     "output_type": "execute_result"
    },
    {
     "data": {
      "image/png": "[encoded data removed]",
      "text/plain": [
       "<Figure size 432x288 with 1 Axes>"
      ]
     },
     "metadata": {
      "needs_background": "light"
     },
     "output_type": "display_data"
    }
   ],
   "source": [
    "data['days_exposition'].hist()\n",
    "plt.xlabel(\"Количество дней\")\n",
    "plt.ylabel(\"Количество объектов\")\n",
    "plt.title(\"Сколько дней было размещено объявление\")"
   ]
  },
  {
   "cell_type": "markdown",
   "metadata": {},
   "source": [
    "Так как мы заполняли пропуски в `days_exposition` с помощью последней даты в `first_day_exposition`, то у нас есть строчки где присутсвует `0` и для лучшего анализа исключим их из датафрейма"
   ]
  },
  {
   "cell_type": "code",
   "execution_count": 99,
   "metadata": {},
   "outputs": [],
   "source": [
    "data = data[data['days_exposition'] > 0]"
   ]
  },
  {
   "cell_type": "code",
   "execution_count": 165,
   "metadata": {
    "scrolled": true
   },
   "outputs": [
    {
     "data": {
      "text/plain": [
       "Text(0.5, 1.0, 'Сколько дней было размещено объявление')"
      ]
     },
     "execution_count": 165,
     "metadata": {},
     "output_type": "execute_result"
    },
    {
     "data": {
      "image/png": "[encoded data removed]",
      "text/plain": [
       "<Figure size 432x288 with 1 Axes>"
      ]
     },
     "metadata": {
      "needs_background": "light"
     },
     "output_type": "display_data"
    }
   ],
   "source": [
    "data['days_exposition'].hist() #  еще раз построим гистограмму \n",
    "plt.xlabel(\"Количество дней\")\n",
    "plt.ylabel(\"Количество объектов\")\n",
    "plt.title(\"Сколько дней было размещено объявление\")"
   ]
  },
  {
   "cell_type": "markdown",
   "metadata": {},
   "source": [
    "Посчитаем среднее и медиану по данному столбцу"
   ]
  },
  {
   "cell_type": "code",
   "execution_count": 101,
   "metadata": {},
   "outputs": [
    {
     "data": {
      "text/plain": [
       "208.30326394243124"
      ]
     },
     "execution_count": 101,
     "metadata": {},
     "output_type": "execute_result"
    }
   ],
   "source": [
    "data['days_exposition'].mean() # считаем среднее"
   ]
  },
  {
   "cell_type": "code",
   "execution_count": 102,
   "metadata": {
    "scrolled": true
   },
   "outputs": [
    {
     "data": {
      "text/plain": [
       "112.0"
      ]
     },
     "execution_count": 102,
     "metadata": {},
     "output_type": "execute_result"
    }
   ],
   "source": [
    "data['days_exposition'].median() # считаем медиану"
   ]
  },
  {
   "cell_type": "markdown",
   "metadata": {},
   "source": [
    "Для того, чтобы определить быстрые и долгие продажи, найдем кваритили"
   ]
  },
  {
   "cell_type": "code",
   "execution_count": 103,
   "metadata": {
    "scrolled": true
   },
   "outputs": [
    {
     "data": {
      "text/plain": [
       "count    7782.000000\n",
       "mean      208.303264\n",
       "std       252.693853\n",
       "min         1.000000\n",
       "25%        45.000000\n",
       "50%       112.000000\n",
       "75%       272.000000\n",
       "max      1618.000000\n",
       "Name: days_exposition, dtype: float64"
      ]
     },
     "execution_count": 103,
     "metadata": {},
     "output_type": "execute_result"
    }
   ],
   "source": [
    "data['days_exposition'].describe()"
   ]
  },
  {
   "cell_type": "markdown",
   "metadata": {},
   "source": [
    "**Вывод**\n",
    "        \n",
    "В среднем продажа квартиры занимает 208 (по среднему арифметическому) и 112 дней (по медиане), исходя из квартилей необычно быстрыми продажи можно считать те, которые лежат ниже первого квартиля, то есть продаются быстрее 45 дней. Необычнайно долгими считаем продажи, лежащие правее третьего квартиля, то есть продаются дольше 272 дней."
   ]
  },
  {
   "cell_type": "markdown",
   "metadata": {},
   "source": [
    "#### Какие факторы больше всего влияют на общую (полную) стоимость объекта?"
   ]
  },
  {
   "cell_type": "markdown",
   "metadata": {},
   "source": [
    "Для того, чтобы проверить зависимость от разных факторов построим диаграммы рассеяния."
   ]
  },
  {
   "cell_type": "markdown",
   "metadata": {},
   "source": [
    "**Зависит ли цена от общей площади?**"
   ]
  },
  {
   "cell_type": "markdown",
   "metadata": {},
   "source": [
    "Сначала построим диаграмму рассеяния от общей площади"
   ]
  },
  {
   "cell_type": "code",
   "execution_count": 125,
   "metadata": {
    "scrolled": true
   },
   "outputs": [
    {
     "data": {
      "text/plain": [
       "Text(0.5, 1.0, 'Зависимость цены от общей площади')"
      ]
     },
     "execution_count": 125,
     "metadata": {},
     "output_type": "execute_result"
    },
    {
     "data": {
      "image/png": "[encoded data removed]",
      "text/plain": [
       "<Figure size 432x288 with 1 Axes>"
      ]
     },
     "metadata": {
      "needs_background": "light"
     },
     "output_type": "display_data"
    }
   ],
   "source": [
    "data.plot(x='last_price', y='total_area', kind='scatter', alpha=0.1)\n",
    "plt.xlabel(\"Цена\")\n",
    "plt.ylabel(\"Общаяя площадь (м²)\")\n",
    "plt.title(\"Зависимость цены от общей площади\")"
   ]
  },
  {
   "cell_type": "markdown",
   "metadata": {},
   "source": [
    "Также найдем коэффициент корреляции Пирсона, чтобы числено увидеть есть-ли линейня зависимости между двумя пременнами."
   ]
  },
  {
   "cell_type": "code",
   "execution_count": 107,
   "metadata": {},
   "outputs": [
    {
     "name": "stdout",
     "output_type": "stream",
     "text": [
      "0.6430366748771361\n"
     ]
    }
   ],
   "source": [
    "print(data['last_price'].corr(data['total_area']))"
   ]
  },
  {
   "cell_type": "markdown",
   "metadata": {},
   "source": [
    "**Вывод**\n",
    "\n",
    "По диаграмме и коэффициенту корреляции можно сделать вывод, что цена имеет положителную линейную взаимосвязь, то есть зависимость есть."
   ]
  },
  {
   "cell_type": "markdown",
   "metadata": {},
   "source": [
    "**Зависит ли цена от жилой площади**"
   ]
  },
  {
   "cell_type": "markdown",
   "metadata": {},
   "source": [
    "Теперь обратимся к столбцу жилой площади и выполним теже действия"
   ]
  },
  {
   "cell_type": "code",
   "execution_count": 126,
   "metadata": {
    "scrolled": true
   },
   "outputs": [
    {
     "data": {
      "text/plain": [
       "Text(0.5, 1.0, 'Зависимость цены от жилой площади')"
      ]
     },
     "execution_count": 126,
     "metadata": {},
     "output_type": "execute_result"
    },
    {
     "data": {
      "image/png": "[encoded data removed]",
      "text/plain": [
       "<Figure size 432x288 with 1 Axes>"
      ]
     },
     "metadata": {
      "needs_background": "light"
     },
     "output_type": "display_data"
    }
   ],
   "source": [
    "data.plot(x='last_price', y='living_area', kind='scatter', alpha=0.1)\n",
    "plt.xlabel(\"Цена\")\n",
    "plt.ylabel(\"Жилая площадь (м²)\")\n",
    "plt.title(\"Зависимость цены от жилой площади\")"
   ]
  },
  {
   "cell_type": "markdown",
   "metadata": {},
   "source": [
    "Найдем коэффициент корреляции Пирсона"
   ]
  },
  {
   "cell_type": "code",
   "execution_count": 109,
   "metadata": {
    "scrolled": true
   },
   "outputs": [
    {
     "name": "stdout",
     "output_type": "stream",
     "text": [
      "0.5613624822146047\n"
     ]
    }
   ],
   "source": [
    "print(data['last_price'].corr(data['living_area']))"
   ]
  },
  {
   "cell_type": "markdown",
   "metadata": {},
   "source": [
    "**Вывод**\n",
    "\n",
    "Хоть коэффициент корреляции стал меньше, но все также можно говорить, что зависимость между ценой и жилой площадью присутсвуют. Это также заметно на диаграмме рассеяния."
   ]
  },
  {
   "cell_type": "markdown",
   "metadata": {},
   "source": [
    "**Зависит ли цена от площади кухни**"
   ]
  },
  {
   "cell_type": "markdown",
   "metadata": {},
   "source": [
    "Дальше построим диаграмму для площади кухни"
   ]
  },
  {
   "cell_type": "code",
   "execution_count": 127,
   "metadata": {
    "scrolled": false
   },
   "outputs": [
    {
     "data": {
      "text/plain": [
       "Text(0.5, 1.0, 'Зависимость цены от площади кухни')"
      ]
     },
     "execution_count": 127,
     "metadata": {},
     "output_type": "execute_result"
    },
    {
     "data": {
      "image/png": "[encoded data removed]",
      "text/plain": [
       "<Figure size 432x288 with 1 Axes>"
      ]
     },
     "metadata": {
      "needs_background": "light"
     },
     "output_type": "display_data"
    }
   ],
   "source": [
    "data.plot(x='last_price', y='kitchen_area', kind='scatter', alpha=0.4)\n",
    "plt.xlabel(\"Цена\")\n",
    "plt.ylabel(\"Плоащь кухни (м²)\")\n",
    "plt.title(\"Зависимость цены от площади кухни\")"
   ]
  },
  {
   "cell_type": "markdown",
   "metadata": {},
   "source": [
    "Найдем коэффициент корреляции Пирсона"
   ]
  },
  {
   "cell_type": "code",
   "execution_count": 111,
   "metadata": {
    "scrolled": true
   },
   "outputs": [
    {
     "name": "stdout",
     "output_type": "stream",
     "text": [
      "0.3808472048285402\n"
     ]
    }
   ],
   "source": [
    "print(data['last_price'].corr(data['kitchen_area']))"
   ]
  },
  {
   "cell_type": "markdown",
   "metadata": {},
   "source": [
    "**Вывод**\n",
    "\n",
    "В данном случае говорить о зависимости сложнее, хоть коэффициент и больше `0`, но он составляет всего `0.38`, а следовательно зависимость довольно слабая. Так же и по диаграмме у двух предыдущих был небольшой наклон в право. Здесь же такое не наблюдается, что как раз и показывается коэффициент. Так что зависимость между ценой и площадью кухни довольно слабая."
   ]
  },
  {
   "cell_type": "markdown",
   "metadata": {},
   "source": [
    "**Зависит ли цена от количества комнта**"
   ]
  },
  {
   "cell_type": "markdown",
   "metadata": {},
   "source": [
    "Теперь проверим есть-ли зависимость цены от количества комнат."
   ]
  },
  {
   "cell_type": "code",
   "execution_count": 128,
   "metadata": {},
   "outputs": [
    {
     "data": {
      "image/png": "[encoded data removed]",
      "text/plain": [
       "<Figure size 432x288 with 1 Axes>"
      ]
     },
     "metadata": {
      "needs_background": "light"
     },
     "output_type": "display_data"
    }
   ],
   "source": [
    "plt.plot(data.groupby('rooms')['last_price'].mean(), marker='o')\n",
    "plt.grid()\n",
    "plt.xlabel(\"Количество комнат\")\n",
    "plt.ylabel(\"Цена\")\n",
    "plt.title(\"Зависимость цены от количества комнат\")\n",
    "plt.show()"
   ]
  },
  {
   "cell_type": "markdown",
   "metadata": {},
   "source": [
    "**Вывод**\n",
    "        \n",
    "По построенному графику видно, что цена зависит от количества комнат, чем больше комнта, тем больше цена недвижимости"
   ]
  },
  {
   "cell_type": "markdown",
   "metadata": {},
   "source": [
    "**Зависит ли цена от этажа, на котором расположена квартира**"
   ]
  },
  {
   "cell_type": "markdown",
   "metadata": {},
   "source": [
    "Составим график по расположению квартиры, то есть в нашем случае это: первый, последний и другие."
   ]
  },
  {
   "cell_type": "code",
   "execution_count": 129,
   "metadata": {},
   "outputs": [
    {
     "data": {
      "image/png": "[encoded data removed]",
      "text/plain": [
       "<Figure size 432x288 with 1 Axes>"
      ]
     },
     "metadata": {
      "needs_background": "light"
     },
     "output_type": "display_data"
    }
   ],
   "source": [
    "plt.plot(data.groupby('floor_apartment')['last_price'].mean(), marker='o')\n",
    "plt.grid()\n",
    "plt.xlabel(\"Тип этажа\")\n",
    "plt.ylabel(\"Цена\")\n",
    "plt.title(\"Зависимость цены от расположения квартиры\")\n",
    "plt.xticks(rotation=45)\n",
    "plt.show()"
   ]
  },
  {
   "cell_type": "markdown",
   "metadata": {},
   "source": [
    "**Вывод**\n",
    "\n",
    "По диаграмме можно сказать, что цена зависит от этажа квартиры, так самые дешевые на первом, далее на последнем и на всех остальных этажах цены больше."
   ]
  },
  {
   "cell_type": "markdown",
   "metadata": {},
   "source": [
    "**Зависит ли цена от даты размещения**"
   ]
  },
  {
   "cell_type": "markdown",
   "metadata": {},
   "source": [
    "Посмотрим на зависимость цены от дня недели"
   ]
  },
  {
   "cell_type": "code",
   "execution_count": 143,
   "metadata": {},
   "outputs": [
    {
     "data": {
      "image/png": "[encoded data removed]",
      "text/plain": [
       "<Figure size 432x288 with 1 Axes>"
      ]
     },
     "metadata": {
      "needs_background": "light"
     },
     "output_type": "display_data"
    }
   ],
   "source": [
    "plt.plot(data.groupby('day')['last_price'].mean(), marker='o')\n",
    "plt.grid()\n",
    "plt.xlabel(\"День недели\")\n",
    "plt.ylabel(\"Цена\")\n",
    "plt.title(\"Зависимость цены от дня недели\")\n",
    "plt.show()"
   ]
  },
  {
   "cell_type": "markdown",
   "metadata": {},
   "source": [
    "Найдем зависимость между ценой и месяцем"
   ]
  },
  {
   "cell_type": "code",
   "execution_count": 131,
   "metadata": {},
   "outputs": [
    {
     "data": {
      "image/png": "[encoded data removed]",
      "text/plain": [
       "<Figure size 432x288 with 1 Axes>"
      ]
     },
     "metadata": {
      "needs_background": "light"
     },
     "output_type": "display_data"
    }
   ],
   "source": [
    "plt.plot(data.groupby('month')['last_price'].mean(), marker='o')\n",
    "plt.grid()\n",
    "plt.xlabel(\"Месяц\")\n",
    "plt.ylabel(\"Цена\")\n",
    "plt.title(\"Зависимость цены от месяца\")\n",
    "plt.show()"
   ]
  },
  {
   "cell_type": "markdown",
   "metadata": {},
   "source": [
    "Найдем зависимость между ценой и годом"
   ]
  },
  {
   "cell_type": "code",
   "execution_count": 132,
   "metadata": {},
   "outputs": [
    {
     "data": {
      "image/png": "[encoded data removed]",
      "text/plain": [
       "<Figure size 432x288 with 1 Axes>"
      ]
     },
     "metadata": {
      "needs_background": "light"
     },
     "output_type": "display_data"
    }
   ],
   "source": [
    "plt.plot(data.groupby('year')['last_price'].mean(), marker='o')\n",
    "plt.grid()\n",
    "plt.xlabel(\"Год\")\n",
    "plt.ylabel(\"Цена\")\n",
    "plt.title(\"Зависимость цены от года\")\n",
    "plt.show()"
   ]
  },
  {
   "cell_type": "markdown",
   "metadata": {},
   "source": [
    "**Вывод** \n",
    "\n",
    "В результате можно сделать вывод, что цена в равной степени не зависит от дня, месяца или года, то есть от даты размещения, хотя и можно подумать, что цена зависит от года, так как с каждым годом она становилась меньше, но в 2019 году цена стала увеличиваться, и возможно продолжила увеличиваться и в следующих годах, а следовательно уверено сказать, что зависимость есть не получится. "
   ]
  },
  {
   "cell_type": "markdown",
   "metadata": {},
   "source": [
    "#### Средняя цена одного квадратного метра в 10 населённых пунктах"
   ]
  },
  {
   "cell_type": "markdown",
   "metadata": {},
   "source": [
    "Найдем среднюю цену одного квадратного метра в 10 пунктах с наибольшим количеством объявлений. Для этого создадим сводную таблицу по `total_area` и посчитаем среднее значение, а также количество объявлений."
   ]
  },
  {
   "cell_type": "code",
   "execution_count": 133,
   "metadata": {
    "scrolled": true
   },
   "outputs": [],
   "source": [
    "data_locality_count = data.pivot_table(index='locality_name', values='total_area', aggfunc=['mean', 'count']) #сделаем сводную таблицу"
   ]
  },
  {
   "cell_type": "code",
   "execution_count": 134,
   "metadata": {},
   "outputs": [],
   "source": [
    "data_locality_count.columns = ['mean_area', 'count_ad'] # переименуем столбцы"
   ]
  },
  {
   "cell_type": "code",
   "execution_count": 135,
   "metadata": {
    "scrolled": true
   },
   "outputs": [
    {
     "data": {
      "text/html": [
       "<div>\n",
       "<style scoped>\n",
       "    .dataframe tbody tr th:only-of-type {\n",
       "        vertical-align: middle;\n",
       "    }\n",
       "\n",
       "    .dataframe tbody tr th {\n",
       "        vertical-align: top;\n",
       "    }\n",
       "\n",
       "    .dataframe thead th {\n",
       "        text-align: right;\n",
       "    }\n",
       "</style>\n",
       "<table border=\"1\" class=\"dataframe\">\n",
       "  <thead>\n",
       "    <tr style=\"text-align: right;\">\n",
       "      <th></th>\n",
       "      <th>mean_area</th>\n",
       "      <th>count_ad</th>\n",
       "    </tr>\n",
       "    <tr>\n",
       "      <th>locality_name</th>\n",
       "      <th></th>\n",
       "      <th></th>\n",
       "    </tr>\n",
       "  </thead>\n",
       "  <tbody>\n",
       "    <tr>\n",
       "      <th>Санкт-Петербург</th>\n",
       "      <td>75.555823</td>\n",
       "      <td>5744</td>\n",
       "    </tr>\n",
       "    <tr>\n",
       "      <th>Мурино</th>\n",
       "      <td>51.546926</td>\n",
       "      <td>244</td>\n",
       "    </tr>\n",
       "    <tr>\n",
       "      <th>поселок Шушары</th>\n",
       "      <td>59.648100</td>\n",
       "      <td>221</td>\n",
       "    </tr>\n",
       "    <tr>\n",
       "      <th>поселок Парголово</th>\n",
       "      <td>54.394976</td>\n",
       "      <td>209</td>\n",
       "    </tr>\n",
       "    <tr>\n",
       "      <th>Всеволожск</th>\n",
       "      <td>63.856420</td>\n",
       "      <td>162</td>\n",
       "    </tr>\n",
       "    <tr>\n",
       "      <th>деревня Кудрово</th>\n",
       "      <td>57.167656</td>\n",
       "      <td>128</td>\n",
       "    </tr>\n",
       "    <tr>\n",
       "      <th>Пушкин</th>\n",
       "      <td>71.595702</td>\n",
       "      <td>114</td>\n",
       "    </tr>\n",
       "    <tr>\n",
       "      <th>Кудрово</th>\n",
       "      <td>52.236437</td>\n",
       "      <td>87</td>\n",
       "    </tr>\n",
       "    <tr>\n",
       "      <th>Сестрорецк</th>\n",
       "      <td>73.454815</td>\n",
       "      <td>81</td>\n",
       "    </tr>\n",
       "    <tr>\n",
       "      <th>деревня Новое Девяткино</th>\n",
       "      <td>59.085455</td>\n",
       "      <td>66</td>\n",
       "    </tr>\n",
       "  </tbody>\n",
       "</table>\n",
       "</div>"
      ],
      "text/plain": [
       "                         mean_area  count_ad\n",
       "locality_name                               \n",
       "Санкт-Петербург          75.555823      5744\n",
       "Мурино                   51.546926       244\n",
       "поселок Шушары           59.648100       221\n",
       "поселок Парголово        54.394976       209\n",
       "Всеволожск               63.856420       162\n",
       "деревня Кудрово          57.167656       128\n",
       "Пушкин                   71.595702       114\n",
       "Кудрово                  52.236437        87\n",
       "Сестрорецк               73.454815        81\n",
       "деревня Новое Девяткино  59.085455        66"
      ]
     },
     "execution_count": 135,
     "metadata": {},
     "output_type": "execute_result"
    }
   ],
   "source": [
    "data_locality_count.sort_values(by='count_ad', ascending=False).head(10) # выведим 10 пунктов с наибольшем количеством объявлений"
   ]
  },
  {
   "cell_type": "markdown",
   "metadata": {},
   "source": [
    "**Вывод**\n",
    "\n",
    "Выделили 10 населенных пунктов с наибольшим количеством объявлений. В результате получили, что в Санкт-Петербуге больше всего объявлений, а также самая большая цена за 1 квадратный метр. Самая маленькая цена за 1 квадратный метр в Мурино. А меньше всего объявлений средни них в деревне Новое Девяткино"
   ]
  },
  {
   "cell_type": "markdown",
   "metadata": {},
   "source": [
    "####  Средняя цена каждого километра в Санкт-Петербурге"
   ]
  },
  {
   "cell_type": "markdown",
   "metadata": {},
   "source": [
    "Выделим объявления только по Санкт-Петербургу"
   ]
  },
  {
   "cell_type": "code",
   "execution_count": 136,
   "metadata": {
    "scrolled": true
   },
   "outputs": [],
   "source": [
    "data_spb = data[data['locality_name'] == 'Санкт-Петербург']"
   ]
  },
  {
   "cell_type": "markdown",
   "metadata": {},
   "source": [
    "Сделаем сводную таблицу для расчета средней цены каждого километра от центра города"
   ]
  },
  {
   "cell_type": "code",
   "execution_count": 137,
   "metadata": {
    "scrolled": true
   },
   "outputs": [],
   "source": [
    "mean_price_km =  data_spb.pivot_table(index='city_centers_nearest_km', values='last_price')"
   ]
  },
  {
   "cell_type": "code",
   "execution_count": 144,
   "metadata": {},
   "outputs": [
    {
     "data": {
      "text/plain": [
       "Text(0.5, 1.0, 'Средняя цена каждого километра')"
      ]
     },
     "execution_count": 144,
     "metadata": {},
     "output_type": "execute_result"
    },
    {
     "data": {
      "image/png": "[encoded data removed]",
      "text/plain": [
       "<Figure size 432x288 with 1 Axes>"
      ]
     },
     "metadata": {
      "needs_background": "light"
     },
     "output_type": "display_data"
    }
   ],
   "source": [
    "mean_price_km.plot() # построим график зависимости расстояния от цены каждого километра\n",
    "plt.xlabel(\"Расстояние (Км)\")\n",
    "plt.ylabel(\"Средняя цена\")\n",
    "plt.title(\"Средняя цена каждого километра\")"
   ]
  },
  {
   "cell_type": "markdown",
   "metadata": {},
   "source": [
    "**Вывод**\n",
    "\n",
    "Мы посчитали среднюю цену каждого километра до центра города Санкт-Петербугра. Можно сказать что, чем ближе объект находиться к центру города, тем дороже его стоимость, но есть несколько исключений. Возможно они связаны с самим объектом, например, большая общая площадь и поэтому, хоть он и далеко от центра, но цена будет выше, чем у среднестатистического объекта на данном километраже от центра."
   ]
  },
  {
   "cell_type": "markdown",
   "metadata": {},
   "source": [
    "### Общий вывод"
   ]
  },
  {
   "cell_type": "markdown",
   "metadata": {},
   "source": [
    "Данные были получены из файла `/datasets/real_estate_data.csv`. Было известно, что есть два вида данных:\n",
    "- Вписаны пользователем\n",
    "- Получены автоматически на основе картографических данных\n",
    "\n",
    "Сначала сделали обзор данных. Само исследование проходило в три этапа:\n",
    "1. Изучить данные\n",
    "2. Предобработка данных\n",
    "3. Исследовательский анализ данных\n",
    "\n",
    "**1. Обзор данных**\n",
    "\n",
    "В таблице  22 столбца. Тип данных - `bool`(2), `float`(14), `int`(3), `object`(3).\n",
    "\n",
    "**Вывод**\n",
    "\n",
    "Столкнулись с проблемой склеивания данных в одну строку. Количество значений в 14 столбцах различается. Значит, в данных есть пропущенные значения. Название столбцов соотвествует стилю, кроме столбцов: `cityCenters_nearest`, `parks_around3000` и `ponds_around3000`.\n",
    "\n",
    "**2. Предобработка данных**\n",
    "\n",
    "- Переименовали столбец `cityCenters_nearest` в `city_centers_nearest`.\n",
    "- Переименовали столбец `parks_around3000` в `parks_around_3000`.\n",
    "- Переименовали столбец `ponds_around3000` в `ponds_around_3000`.\n",
    "\n",
    "В 14 столбцах есть пропущенные значения:\n",
    "\n",
    "- В трёх столбцах: `balcony`, `parks_around_3000`, `ponds_around_3000` пропуски заполнили `0`.\n",
    "- В столбце `is_apartment` заполнили пропуски булевым значением `False`.\n",
    "- Столбец `ceiling_height` заполним медианым значением потолков.\n",
    "- В столбцах `floors_total` и `locality_name` удалили пропущенные значения, так как количество пропусков мало.\n",
    "- В столбце `days_exposition` заполним пропуски ввиде разницы последней даты в датафрейме в столбце `first_day_exposition` и даты в этом же столбце для строк, где есть пропуски в `days_exposition`.\n",
    "- В остальных столбцах пропуски заполнить не получилось.\n",
    "\n",
    "Далее стали менять в столбцах тип данных, где это было необходимо:\n",
    "\n",
    "- В столбце `is_apartment` сделали тип данных `bool`.\n",
    "- В столбцах `last_price`, `balcone`, `days_exposition` сделали `int`.\n",
    "- Столбец `first_day_exposition` привели данные к типу `datetime`.\n",
    "\n",
    "Следом работали с неявными дубликатами в столбце `locality_name`:\n",
    "\n",
    "- Заменили `поселок Мурино` на `Мурино`\n",
    "- Заменили `поселок городского типа Мга` на `городской поселок Мга`.\n",
    "- Заменили `поселок городского типа Павлово` на `городской поселок Павлово`.\n",
    "- Заменили `поселок Рябово` на `поселок городского типа Рябово`.\n",
    "\n",
    "Далее сделали проверку на явные дубликаты и они не были обнаружены.\n",
    "\n",
    "Для в исследование понадобилось добавить в датафрейм несколько новых столбцов:\n",
    "\n",
    "- Столбец `price_one_meter`, в котором будет храниться цена одного квадратного метра.\n",
    "- Столбец `day`, в котором будет храниться день недели публикации объявления.\n",
    "- Столбец `month`, в котором будет храниться месяц публикации объявления.\n",
    "- Столбец `year`, в котором будет храниться год публикации объявления.\n",
    "- Столбец `floor_apartment`, в котором будет храниться тип этажа квартиры (значения — «первый», «последний», «другой»).\n",
    "- Столбец `city_centers_nearest_km`, в котором будет храниться расстояние до центра города в километрах.\n",
    "\n",
    "**3. Исследовательский анализ данных**\n",
    "\n",
    "1. Необходимо было изучить данные и выявить аномальные значения: \n",
    "    - общая площадь;\n",
    "    - жилая площадь;\n",
    "    - площадь кухни;\n",
    "    - цена объекта;\n",
    "    - количество комнат;\n",
    "    - высота потолков;\n",
    "    - тип этажа квартиры («первый», «последний», «другой»);\n",
    "    - общее количество этажей в доме;\n",
    "    - расстояние до центра города в метрах;\n",
    "    - расстояние до ближайшего парка\n",
    "\n",
    "   **Вывод**\n",
    "    - В столбце по типу этажу квартиры не было найдено аномалий и большинство квартир находиться в значении \"другой\", а меньше \"первый\".\n",
    "    - В столбце по количеству комнта были найдены аномалии. Исключили квартиры больше `7` комнат.\n",
    "    - В столбце по количеству этажей в доме было найдено аномальное значение в виде `60`-ти этажного дома в Кронштадте.\n",
    "    - В столбце по цене объекту аномальных значений не было найдено.\n",
    "    - В столбце по высоте потолков есть аномальные значения их возможно исправить (`25` вместо `2.5`), а также исключили потолоки меньше `2` и больше `5` метров.\n",
    "    - В столбце по расстоянию до центра города сделали следующий вывод, что населенные пункты, у которых расстояние до центра города больше `30`км являются частью более крупных городов, и такое расстояние из-за того, что эти значения взяты из картографических сервисов.\n",
    "    - В столбце расстояние до ближайшего парка аномалий не обнаружено\n",
    "    - В столбце по общей площади исключили значения больше `200` и меньше `15`\n",
    "    - В столбце по жилой площади исключили значения больше `120` и меньше `10`\n",
    "    - В столбце по площади кухни сключили значения больше `40` и меньше `10`\n",
    "\n",
    "2. Изучили, как быстро продавались квартиры.\n",
    "\n",
    "    В среднем продажа квартиры занимает `208` (по среднему арифметическому) и `112` дней (по медиане), исходя из квартилей необычно быстрыми продажи можно считать те, которые лежат ниже первого квартиля, то есть продаются быстрее `45` дней. Необычнайно долгими считаем продажи, лежащие правее третьего квартиля, то есть продаются дольше `272` дней.\n",
    "\n",
    "\n",
    "3. Изучили какие факторы больше всего влияют на общую (полную) стоимость объекта.\n",
    "    - Была найдена зависимость цены от общей площади.\n",
    "    - Также можно сказать, что зависимость цены от жилой площади **есть**.\n",
    "    - Зависимость между ценой и площадью кухни есть, но довольно слабая.\n",
    "    - Зависимость между ценой и количеством комнат **есть**, чем больше комнат, тем больше цена.\n",
    "    - Зависит-ли цена от дня, месяца или года, то есть от даты размещения, сказать точно неполучиться,так как у данной связи более сложный характер, то есть не линейный. Возможно зависимость и есть, но влияет на нее больше факторов, чем просто дата размещения.\n",
    "\n",
    "\n",
    "4. Посчитайли среднюю цену одного квадратного метра в 10 населённых пунктах с наибольшим числом объявлений.\n",
    "\n",
    "    В результате получили, что в Санкт-Петербуге больше всего объявлений `5744`, а также самая большая цена за 1 квадратный метр `75.555823`. Самая маленькая цена за 1 квадратный метр в Мурино `51.546926`. А меньше всего объявлений средни них в деревне Новое Девяткино `66`.\n",
    "\n",
    "\n",
    "5. Вычислили среднюю цену каждого километра в Санкт-Петербурге.\n",
    "\n",
    "    Чем ближе объект находиться к центру города, тем дороже его стоимость, что выглядит логичным. Есть нексолько выпадающих значений, что как говорит о том, что цена зависит от множества факторов.\n",
    "\n",
    "**Вывод**\n",
    "\n",
    "Рыночная стоимость объектов недвижимости зависит от таких факторов, как общая площадь, жилая площадь, количество комнта в квартире и расстояние от центра."
   ]
  }
 ],
 "metadata": {
  "ExecuteTimeLog": [
   {
    "duration": 430,
    "start_time": "2023-10-15T17:47:33.195Z"
   },
   {
    "duration": 317,
    "start_time": "2023-10-15T17:49:29.589Z"
   },
   {
    "duration": 14,
    "start_time": "2023-10-15T17:50:51.295Z"
   },
   {
    "duration": 7,
    "start_time": "2023-10-15T17:52:17.519Z"
   },
   {
    "duration": 88,
    "start_time": "2023-10-15T17:52:21.546Z"
   },
   {
    "duration": 7,
    "start_time": "2023-10-15T17:52:23.070Z"
   },
   {
    "duration": 13,
    "start_time": "2023-10-15T17:52:53.398Z"
   },
   {
    "duration": 89,
    "start_time": "2023-10-15T18:07:24.307Z"
   },
   {
    "duration": 7,
    "start_time": "2023-10-15T18:07:32.073Z"
   },
   {
    "duration": 128,
    "start_time": "2023-10-15T18:07:47.094Z"
   },
   {
    "duration": 87,
    "start_time": "2023-10-15T18:07:54.049Z"
   },
   {
    "duration": 7,
    "start_time": "2023-10-15T18:07:55.633Z"
   },
   {
    "duration": 94,
    "start_time": "2023-10-15T18:08:02.218Z"
   },
   {
    "duration": 7,
    "start_time": "2023-10-15T18:08:03.467Z"
   },
   {
    "duration": 85,
    "start_time": "2023-10-15T18:08:27.773Z"
   },
   {
    "duration": 7,
    "start_time": "2023-10-15T18:08:28.956Z"
   },
   {
    "duration": 85,
    "start_time": "2023-10-15T18:09:32.652Z"
   },
   {
    "duration": 7,
    "start_time": "2023-10-15T18:09:36.413Z"
   },
   {
    "duration": 12,
    "start_time": "2023-10-15T18:09:37.941Z"
   },
   {
    "duration": 88,
    "start_time": "2023-10-15T18:09:49.872Z"
   },
   {
    "duration": 7,
    "start_time": "2023-10-15T18:09:51.683Z"
   },
   {
    "duration": 83,
    "start_time": "2023-10-15T18:09:55.541Z"
   },
   {
    "duration": 7,
    "start_time": "2023-10-15T18:09:56.905Z"
   },
   {
    "duration": 86,
    "start_time": "2023-10-15T18:10:51.243Z"
   },
   {
    "duration": 6,
    "start_time": "2023-10-15T18:10:52.741Z"
   },
   {
    "duration": 88,
    "start_time": "2023-10-15T18:11:18.384Z"
   },
   {
    "duration": 6,
    "start_time": "2023-10-15T18:11:20.213Z"
   },
   {
    "duration": 93,
    "start_time": "2023-10-15T18:11:23.116Z"
   },
   {
    "duration": 7,
    "start_time": "2023-10-15T18:11:24.617Z"
   },
   {
    "duration": 136,
    "start_time": "2023-10-15T18:11:28.473Z"
   },
   {
    "duration": 91,
    "start_time": "2023-10-15T18:11:32.487Z"
   },
   {
    "duration": 7,
    "start_time": "2023-10-15T18:11:34.251Z"
   },
   {
    "duration": 139,
    "start_time": "2023-10-15T18:11:42.542Z"
   },
   {
    "duration": 86,
    "start_time": "2023-10-15T18:11:46.720Z"
   },
   {
    "duration": 6,
    "start_time": "2023-10-15T18:11:48.315Z"
   },
   {
    "duration": 61,
    "start_time": "2023-10-15T18:11:50.263Z"
   },
   {
    "duration": 91,
    "start_time": "2023-10-15T18:11:53.301Z"
   },
   {
    "duration": 7,
    "start_time": "2023-10-15T18:11:54.689Z"
   },
   {
    "duration": 5,
    "start_time": "2023-10-15T18:11:59.763Z"
   },
   {
    "duration": 89,
    "start_time": "2023-10-15T18:12:14.581Z"
   },
   {
    "duration": 91,
    "start_time": "2023-10-15T18:12:18.284Z"
   },
   {
    "duration": 6,
    "start_time": "2023-10-15T18:12:26.351Z"
   },
   {
    "duration": 98,
    "start_time": "2023-10-15T18:14:38.394Z"
   },
   {
    "duration": 23,
    "start_time": "2023-10-15T18:14:40.136Z"
   },
   {
    "duration": 29,
    "start_time": "2023-10-15T18:15:44.718Z"
   },
   {
    "duration": 14,
    "start_time": "2023-10-15T18:19:06.261Z"
   },
   {
    "duration": 7,
    "start_time": "2023-10-15T18:20:42.108Z"
   },
   {
    "duration": 2230,
    "start_time": "2023-10-15T18:20:46.972Z"
   },
   {
    "duration": 15102,
    "start_time": "2023-10-15T18:23:57.347Z"
   },
   {
    "duration": 1889,
    "start_time": "2023-10-15T18:24:49.093Z"
   },
   {
    "duration": 9,
    "start_time": "2023-10-15T19:06:36.865Z"
   },
   {
    "duration": 10,
    "start_time": "2023-10-15T19:06:43.833Z"
   },
   {
    "duration": 49,
    "start_time": "2023-10-15T19:25:54.577Z"
   },
   {
    "duration": 86,
    "start_time": "2023-10-15T19:26:10.523Z"
   },
   {
    "duration": 30,
    "start_time": "2023-10-15T19:26:42.534Z"
   },
   {
    "duration": 8,
    "start_time": "2023-10-15T20:25:56.584Z"
   },
   {
    "duration": 12,
    "start_time": "2023-10-15T20:29:35.354Z"
   },
   {
    "duration": 16,
    "start_time": "2023-10-15T20:29:41.938Z"
   },
   {
    "duration": 5,
    "start_time": "2023-10-15T20:31:54.053Z"
   },
   {
    "duration": 6,
    "start_time": "2023-10-15T20:35:14.891Z"
   },
   {
    "duration": 50,
    "start_time": "2023-10-16T14:29:19.662Z"
   },
   {
    "duration": 391,
    "start_time": "2023-10-16T14:29:25.774Z"
   },
   {
    "duration": 147,
    "start_time": "2023-10-16T14:29:27.424Z"
   },
   {
    "duration": 13,
    "start_time": "2023-10-16T14:29:28.937Z"
   },
   {
    "duration": 101,
    "start_time": "2023-10-16T14:29:31.689Z"
   },
   {
    "duration": 60,
    "start_time": "2023-10-16T14:29:33.566Z"
   },
   {
    "duration": 47,
    "start_time": "2023-10-16T14:30:00.504Z"
   },
   {
    "duration": 18,
    "start_time": "2023-10-16T14:30:03.058Z"
   },
   {
    "duration": 2482,
    "start_time": "2023-10-16T14:30:05.192Z"
   },
   {
    "duration": 11,
    "start_time": "2023-10-16T14:30:10.236Z"
   },
   {
    "duration": 7,
    "start_time": "2023-10-16T14:30:13.757Z"
   },
   {
    "duration": 6,
    "start_time": "2023-10-16T14:30:19.150Z"
   },
   {
    "duration": 7,
    "start_time": "2023-10-16T14:36:18.760Z"
   },
   {
    "duration": 26,
    "start_time": "2023-10-16T14:36:25.580Z"
   },
   {
    "duration": 3,
    "start_time": "2023-10-16T14:36:47.673Z"
   },
   {
    "duration": 46,
    "start_time": "2023-10-16T14:36:54.236Z"
   },
   {
    "duration": 16,
    "start_time": "2023-10-16T14:37:05.217Z"
   },
   {
    "duration": 3,
    "start_time": "2023-10-16T14:53:17.801Z"
   },
   {
    "duration": 42,
    "start_time": "2023-10-16T14:53:28.050Z"
   },
   {
    "duration": 52,
    "start_time": "2023-10-16T14:53:34.351Z"
   },
   {
    "duration": 15,
    "start_time": "2023-10-16T14:53:50.817Z"
   },
   {
    "duration": 6,
    "start_time": "2023-10-16T15:10:08.247Z"
   },
   {
    "duration": 46,
    "start_time": "2023-10-16T15:10:24.254Z"
   },
   {
    "duration": 5,
    "start_time": "2023-10-16T15:10:27.054Z"
   },
   {
    "duration": 13,
    "start_time": "2023-10-16T15:10:43.659Z"
   },
   {
    "duration": 8,
    "start_time": "2023-10-16T15:10:47.687Z"
   },
   {
    "duration": 5,
    "start_time": "2023-10-16T15:10:49.991Z"
   },
   {
    "duration": 4,
    "start_time": "2023-10-16T15:10:52.737Z"
   },
   {
    "duration": 3,
    "start_time": "2023-10-16T15:10:54.632Z"
   },
   {
    "duration": 41,
    "start_time": "2023-10-16T15:10:57.293Z"
   },
   {
    "duration": 10,
    "start_time": "2023-10-16T15:12:53.457Z"
   },
   {
    "duration": 25,
    "start_time": "2023-10-16T15:13:02.331Z"
   },
   {
    "duration": 10,
    "start_time": "2023-10-16T15:14:35.894Z"
   },
   {
    "duration": 9,
    "start_time": "2023-10-16T15:20:33.891Z"
   },
   {
    "duration": 35,
    "start_time": "2023-10-16T15:20:38.386Z"
   },
   {
    "duration": 22,
    "start_time": "2023-10-16T15:20:42.130Z"
   },
   {
    "duration": 8,
    "start_time": "2023-10-16T15:21:52.964Z"
   },
   {
    "duration": 7,
    "start_time": "2023-10-16T15:23:00.000Z"
   },
   {
    "duration": 36,
    "start_time": "2023-10-16T15:23:12.893Z"
   },
   {
    "duration": 21,
    "start_time": "2023-10-16T15:25:06.544Z"
   },
   {
    "duration": 9,
    "start_time": "2023-10-16T15:36:51.550Z"
   },
   {
    "duration": 10,
    "start_time": "2023-10-16T15:37:31.845Z"
   },
   {
    "duration": 7,
    "start_time": "2023-10-16T15:41:19.858Z"
   },
   {
    "duration": 51,
    "start_time": "2023-10-16T15:51:10.136Z"
   },
   {
    "duration": 7,
    "start_time": "2023-10-16T15:51:17.323Z"
   },
   {
    "duration": 32,
    "start_time": "2023-10-16T15:52:34.827Z"
   },
   {
    "duration": 6,
    "start_time": "2023-10-16T15:52:36.500Z"
   },
   {
    "duration": 94,
    "start_time": "2023-10-16T16:08:51.936Z"
   },
   {
    "duration": 7,
    "start_time": "2023-10-16T16:08:53.844Z"
   },
   {
    "duration": 51,
    "start_time": "2023-10-16T16:10:37.986Z"
   },
   {
    "duration": 6,
    "start_time": "2023-10-16T16:10:40.333Z"
   },
   {
    "duration": 56,
    "start_time": "2023-10-16T16:10:55.833Z"
   },
   {
    "duration": 6,
    "start_time": "2023-10-16T16:10:57.943Z"
   },
   {
    "duration": 99,
    "start_time": "2023-10-16T16:11:02.996Z"
   },
   {
    "duration": 89,
    "start_time": "2023-10-16T16:11:39.362Z"
   },
   {
    "duration": 9,
    "start_time": "2023-10-16T16:11:41.060Z"
   },
   {
    "duration": 90,
    "start_time": "2023-10-16T16:12:01.087Z"
   },
   {
    "duration": 7,
    "start_time": "2023-10-16T16:12:03.551Z"
   },
   {
    "duration": 78,
    "start_time": "2023-10-16T16:12:49.820Z"
   },
   {
    "duration": 7,
    "start_time": "2023-10-16T16:12:51.870Z"
   },
   {
    "duration": 362,
    "start_time": "2023-10-16T16:13:56.392Z"
   },
   {
    "duration": 90,
    "start_time": "2023-10-16T16:13:58.109Z"
   },
   {
    "duration": 13,
    "start_time": "2023-10-16T16:13:59.633Z"
   },
   {
    "duration": 111,
    "start_time": "2023-10-16T16:14:02.278Z"
   },
   {
    "duration": 31,
    "start_time": "2023-10-16T16:14:05.113Z"
   },
   {
    "duration": 17,
    "start_time": "2023-10-16T16:14:11.151Z"
   },
   {
    "duration": 2060,
    "start_time": "2023-10-16T16:14:14.654Z"
   },
   {
    "duration": 6,
    "start_time": "2023-10-16T16:14:19.485Z"
   },
   {
    "duration": 5,
    "start_time": "2023-10-16T16:14:21.184Z"
   },
   {
    "duration": 10,
    "start_time": "2023-10-16T16:14:23.035Z"
   },
   {
    "duration": 5,
    "start_time": "2023-10-16T16:14:27.312Z"
   },
   {
    "duration": 5,
    "start_time": "2023-10-16T16:14:29.100Z"
   },
   {
    "duration": 6,
    "start_time": "2023-10-16T16:14:31.232Z"
   },
   {
    "duration": 9,
    "start_time": "2023-10-16T16:14:33.188Z"
   },
   {
    "duration": 3,
    "start_time": "2023-10-16T16:14:35.676Z"
   },
   {
    "duration": 9,
    "start_time": "2023-10-16T16:14:37.713Z"
   },
   {
    "duration": 9,
    "start_time": "2023-10-16T16:14:39.784Z"
   },
   {
    "duration": 15,
    "start_time": "2023-10-16T16:14:41.784Z"
   },
   {
    "duration": 7,
    "start_time": "2023-10-16T16:14:49.833Z"
   },
   {
    "duration": 83,
    "start_time": "2023-10-16T16:16:05.937Z"
   },
   {
    "duration": 7,
    "start_time": "2023-10-16T16:16:10.747Z"
   },
   {
    "duration": 418,
    "start_time": "2023-10-16T16:16:53.102Z"
   },
   {
    "duration": 92,
    "start_time": "2023-10-16T16:16:54.667Z"
   },
   {
    "duration": 13,
    "start_time": "2023-10-16T16:16:56.706Z"
   },
   {
    "duration": 101,
    "start_time": "2023-10-16T16:16:59.068Z"
   },
   {
    "duration": 29,
    "start_time": "2023-10-16T16:17:00.667Z"
   },
   {
    "duration": 16,
    "start_time": "2023-10-16T16:17:03.361Z"
   },
   {
    "duration": 2070,
    "start_time": "2023-10-16T16:17:05.384Z"
   },
   {
    "duration": 6,
    "start_time": "2023-10-16T16:17:46.635Z"
   },
   {
    "duration": 4,
    "start_time": "2023-10-16T16:17:48.154Z"
   },
   {
    "duration": 11,
    "start_time": "2023-10-16T16:17:50.127Z"
   },
   {
    "duration": 6,
    "start_time": "2023-10-16T16:17:54.642Z"
   },
   {
    "duration": 5,
    "start_time": "2023-10-16T16:17:56.104Z"
   },
   {
    "duration": 7,
    "start_time": "2023-10-16T16:17:58.267Z"
   },
   {
    "duration": 10,
    "start_time": "2023-10-16T16:18:00.129Z"
   },
   {
    "duration": 4,
    "start_time": "2023-10-16T16:18:02.391Z"
   },
   {
    "duration": 9,
    "start_time": "2023-10-16T16:18:03.861Z"
   },
   {
    "duration": 9,
    "start_time": "2023-10-16T16:18:05.978Z"
   },
   {
    "duration": 13,
    "start_time": "2023-10-16T16:18:07.580Z"
   },
   {
    "duration": 6,
    "start_time": "2023-10-16T16:18:10.087Z"
   },
   {
    "duration": 97,
    "start_time": "2023-10-16T16:19:44.985Z"
   },
   {
    "duration": 7,
    "start_time": "2023-10-16T16:19:47.452Z"
   },
   {
    "duration": 89,
    "start_time": "2023-10-16T16:19:59.716Z"
   },
   {
    "duration": 8,
    "start_time": "2023-10-16T16:20:01.598Z"
   },
   {
    "duration": 455,
    "start_time": "2023-10-18T12:11:30.858Z"
   },
   {
    "duration": 159,
    "start_time": "2023-10-18T12:11:34.065Z"
   },
   {
    "duration": 17,
    "start_time": "2023-10-18T12:11:37.097Z"
   },
   {
    "duration": 117,
    "start_time": "2023-10-18T12:11:40.402Z"
   },
   {
    "duration": 34,
    "start_time": "2023-10-18T12:11:41.853Z"
   },
   {
    "duration": 19,
    "start_time": "2023-10-18T12:11:44.008Z"
   },
   {
    "duration": 2653,
    "start_time": "2023-10-18T12:11:46.056Z"
   },
   {
    "duration": 7,
    "start_time": "2023-10-18T12:11:51.170Z"
   },
   {
    "duration": 5,
    "start_time": "2023-10-18T12:11:52.692Z"
   },
   {
    "duration": 16,
    "start_time": "2023-10-18T12:11:54.614Z"
   },
   {
    "duration": 7,
    "start_time": "2023-10-18T12:11:58.561Z"
   },
   {
    "duration": 6,
    "start_time": "2023-10-18T12:12:00.112Z"
   },
   {
    "duration": 8,
    "start_time": "2023-10-18T12:12:01.900Z"
   },
   {
    "duration": 11,
    "start_time": "2023-10-18T12:12:03.600Z"
   },
   {
    "duration": 4,
    "start_time": "2023-10-18T12:12:07.625Z"
   },
   {
    "duration": 10,
    "start_time": "2023-10-18T12:12:09.269Z"
   },
   {
    "duration": 10,
    "start_time": "2023-10-18T12:12:10.992Z"
   },
   {
    "duration": 20,
    "start_time": "2023-10-18T12:12:12.846Z"
   },
   {
    "duration": 8,
    "start_time": "2023-10-18T12:12:16.775Z"
   },
   {
    "duration": 102,
    "start_time": "2023-10-18T12:12:20.011Z"
   },
   {
    "duration": 22,
    "start_time": "2023-10-18T12:27:56.878Z"
   },
   {
    "duration": 29,
    "start_time": "2023-10-18T12:28:06.481Z"
   },
   {
    "duration": 107,
    "start_time": "2023-10-18T12:29:24.764Z"
   },
   {
    "duration": 12,
    "start_time": "2023-10-18T12:33:07.983Z"
   },
   {
    "duration": 32,
    "start_time": "2023-10-18T12:37:30.273Z"
   },
   {
    "duration": 6,
    "start_time": "2023-10-18T12:37:39.980Z"
   },
   {
    "duration": 8,
    "start_time": "2023-10-18T12:44:31.549Z"
   },
   {
    "duration": 36,
    "start_time": "2023-10-18T12:44:39.112Z"
   },
   {
    "duration": 8,
    "start_time": "2023-10-18T12:44:48.976Z"
   },
   {
    "duration": 6,
    "start_time": "2023-10-18T12:46:29.648Z"
   },
   {
    "duration": 8,
    "start_time": "2023-10-18T12:57:02.880Z"
   },
   {
    "duration": 8,
    "start_time": "2023-10-18T12:57:04.129Z"
   },
   {
    "duration": 29,
    "start_time": "2023-10-18T12:57:10.426Z"
   },
   {
    "duration": 7,
    "start_time": "2023-10-18T12:57:29.028Z"
   },
   {
    "duration": 6,
    "start_time": "2023-10-18T12:57:39.198Z"
   },
   {
    "duration": 29,
    "start_time": "2023-10-18T12:57:45.293Z"
   },
   {
    "duration": 6,
    "start_time": "2023-10-18T12:58:18.414Z"
   },
   {
    "duration": 6,
    "start_time": "2023-10-18T12:58:31.948Z"
   },
   {
    "duration": 6,
    "start_time": "2023-10-18T12:59:16.019Z"
   },
   {
    "duration": 6,
    "start_time": "2023-10-18T12:59:17.611Z"
   },
   {
    "duration": 23,
    "start_time": "2023-10-18T13:11:08.730Z"
   },
   {
    "duration": 170,
    "start_time": "2023-10-18T13:11:15.044Z"
   },
   {
    "duration": 2278,
    "start_time": "2023-10-18T13:11:19.099Z"
   },
   {
    "duration": 2000,
    "start_time": "2023-10-18T13:25:36.702Z"
   },
   {
    "duration": 15,
    "start_time": "2023-10-18T13:26:33.094Z"
   },
   {
    "duration": 7196,
    "start_time": "2023-10-18T13:27:08.182Z"
   },
   {
    "duration": 56,
    "start_time": "2023-10-18T13:27:25.930Z"
   },
   {
    "duration": 11,
    "start_time": "2023-10-18T13:30:11.254Z"
   },
   {
    "duration": 12,
    "start_time": "2023-10-18T13:30:16.904Z"
   },
   {
    "duration": 6,
    "start_time": "2023-10-18T13:30:26.646Z"
   },
   {
    "duration": 102,
    "start_time": "2023-10-18T13:34:39.080Z"
   },
   {
    "duration": 13,
    "start_time": "2023-10-18T13:34:44.868Z"
   },
   {
    "duration": 381,
    "start_time": "2023-10-18T13:38:26.909Z"
   },
   {
    "duration": 117,
    "start_time": "2023-10-18T13:38:28.870Z"
   },
   {
    "duration": 15,
    "start_time": "2023-10-18T13:38:30.370Z"
   },
   {
    "duration": 123,
    "start_time": "2023-10-18T13:38:32.590Z"
   },
   {
    "duration": 36,
    "start_time": "2023-10-18T13:38:34.193Z"
   },
   {
    "duration": 25,
    "start_time": "2023-10-18T13:38:37.353Z"
   },
   {
    "duration": 2392,
    "start_time": "2023-10-18T13:38:40.825Z"
   },
   {
    "duration": 8,
    "start_time": "2023-10-18T13:38:46.466Z"
   },
   {
    "duration": 6,
    "start_time": "2023-10-18T13:38:48.307Z"
   },
   {
    "duration": 12,
    "start_time": "2023-10-18T13:38:50.495Z"
   },
   {
    "duration": 6,
    "start_time": "2023-10-18T13:38:55.531Z"
   },
   {
    "duration": 6,
    "start_time": "2023-10-18T13:38:57.100Z"
   },
   {
    "duration": 8,
    "start_time": "2023-10-18T13:38:59.007Z"
   },
   {
    "duration": 11,
    "start_time": "2023-10-18T13:39:01.197Z"
   },
   {
    "duration": 4,
    "start_time": "2023-10-18T13:39:04.427Z"
   },
   {
    "duration": 102,
    "start_time": "2023-10-18T13:39:08.052Z"
   },
   {
    "duration": 6,
    "start_time": "2023-10-18T13:41:41.946Z"
   },
   {
    "duration": 11,
    "start_time": "2023-10-18T13:42:04.138Z"
   },
   {
    "duration": 15,
    "start_time": "2023-10-18T13:42:05.699Z"
   },
   {
    "duration": 7,
    "start_time": "2023-10-18T13:42:08.134Z"
   },
   {
    "duration": 98,
    "start_time": "2023-10-18T13:42:11.170Z"
   },
   {
    "duration": 7,
    "start_time": "2023-10-18T13:42:12.800Z"
   },
   {
    "duration": 6,
    "start_time": "2023-10-18T13:42:14.578Z"
   },
   {
    "duration": 6,
    "start_time": "2023-10-18T13:42:16.301Z"
   },
   {
    "duration": 6,
    "start_time": "2023-10-18T13:42:20.019Z"
   },
   {
    "duration": 12,
    "start_time": "2023-10-18T14:18:52.568Z"
   },
   {
    "duration": 67,
    "start_time": "2023-10-18T14:19:04.820Z"
   },
   {
    "duration": 15,
    "start_time": "2023-10-18T14:19:12.008Z"
   },
   {
    "duration": 11,
    "start_time": "2023-10-18T14:19:23.176Z"
   },
   {
    "duration": 16,
    "start_time": "2023-10-18T14:22:25.227Z"
   },
   {
    "duration": 10,
    "start_time": "2023-10-18T14:22:26.988Z"
   },
   {
    "duration": 4,
    "start_time": "2023-10-18T14:22:35.638Z"
   },
   {
    "duration": 4,
    "start_time": "2023-10-18T14:23:09.770Z"
   },
   {
    "duration": 7,
    "start_time": "2023-10-18T14:23:11.635Z"
   },
   {
    "duration": 14,
    "start_time": "2023-10-18T14:23:13.907Z"
   },
   {
    "duration": 15,
    "start_time": "2023-10-18T14:23:15.909Z"
   },
   {
    "duration": 38,
    "start_time": "2023-10-18T14:23:59.445Z"
   },
   {
    "duration": 20,
    "start_time": "2023-10-18T14:24:25.857Z"
   },
   {
    "duration": 9,
    "start_time": "2023-10-18T14:24:27.474Z"
   },
   {
    "duration": 416,
    "start_time": "2023-10-18T14:28:52.204Z"
   },
   {
    "duration": 108,
    "start_time": "2023-10-18T14:28:53.849Z"
   },
   {
    "duration": 15,
    "start_time": "2023-10-18T14:28:55.310Z"
   },
   {
    "duration": 109,
    "start_time": "2023-10-18T14:28:58.623Z"
   },
   {
    "duration": 41,
    "start_time": "2023-10-18T14:29:00.373Z"
   },
   {
    "duration": 26,
    "start_time": "2023-10-18T14:29:06.443Z"
   },
   {
    "duration": 2355,
    "start_time": "2023-10-18T14:29:09.970Z"
   },
   {
    "duration": 8,
    "start_time": "2023-10-18T14:29:14.740Z"
   },
   {
    "duration": 5,
    "start_time": "2023-10-18T14:29:16.570Z"
   },
   {
    "duration": 14,
    "start_time": "2023-10-18T14:29:18.924Z"
   },
   {
    "duration": 6,
    "start_time": "2023-10-18T14:29:24.898Z"
   },
   {
    "duration": 5,
    "start_time": "2023-10-18T14:29:26.839Z"
   },
   {
    "duration": 16,
    "start_time": "2023-10-18T14:29:31.451Z"
   },
   {
    "duration": 16,
    "start_time": "2023-10-18T14:29:40.572Z"
   },
   {
    "duration": 10,
    "start_time": "2023-10-18T14:29:42.700Z"
   },
   {
    "duration": 5,
    "start_time": "2023-10-18T14:29:47.139Z"
   },
   {
    "duration": 11,
    "start_time": "2023-10-18T14:29:48.658Z"
   },
   {
    "duration": 9,
    "start_time": "2023-10-18T14:29:50.194Z"
   },
   {
    "duration": 18,
    "start_time": "2023-10-18T14:29:51.801Z"
   },
   {
    "duration": 9,
    "start_time": "2023-10-18T14:30:53.801Z"
   },
   {
    "duration": 118,
    "start_time": "2023-10-18T14:30:57.025Z"
   },
   {
    "duration": 5,
    "start_time": "2023-10-18T14:30:59.800Z"
   },
   {
    "duration": 7,
    "start_time": "2023-10-18T14:31:02.306Z"
   },
   {
    "duration": 7,
    "start_time": "2023-10-18T14:31:03.701Z"
   },
   {
    "duration": 5,
    "start_time": "2023-10-18T14:31:05.590Z"
   },
   {
    "duration": 86,
    "start_time": "2023-10-18T14:31:20.130Z"
   },
   {
    "duration": 7712,
    "start_time": "2023-10-18T14:32:18.665Z"
   },
   {
    "duration": 28,
    "start_time": "2023-10-18T14:32:26.379Z"
   },
   {
    "duration": 17,
    "start_time": "2023-10-18T14:34:42.656Z"
   },
   {
    "duration": 9,
    "start_time": "2023-10-18T14:35:17.917Z"
   },
   {
    "duration": 5,
    "start_time": "2023-10-18T14:35:39.248Z"
   },
   {
    "duration": 10,
    "start_time": "2023-10-18T14:38:33.237Z"
   },
   {
    "duration": 3581,
    "start_time": "2023-10-18T14:39:31.316Z"
   },
   {
    "duration": 13,
    "start_time": "2023-10-18T14:39:51.805Z"
   },
   {
    "duration": 12,
    "start_time": "2023-10-18T14:40:06.120Z"
   },
   {
    "duration": 20508,
    "start_time": "2023-10-18T14:41:14.908Z"
   },
   {
    "duration": 3607,
    "start_time": "2023-10-18T14:41:41.773Z"
   },
   {
    "duration": 7364,
    "start_time": "2023-10-18T14:42:11.106Z"
   },
   {
    "duration": 35,
    "start_time": "2023-10-18T14:42:28.372Z"
   },
   {
    "duration": 988,
    "start_time": "2023-10-18T14:42:42.663Z"
   },
   {
    "duration": 8265,
    "start_time": "2023-10-18T14:43:07.234Z"
   },
   {
    "duration": 32,
    "start_time": "2023-10-18T14:43:17.682Z"
   },
   {
    "duration": 1475,
    "start_time": "2023-10-18T14:48:22.190Z"
   },
   {
    "duration": 18,
    "start_time": "2023-10-18T14:49:32.712Z"
   },
   {
    "duration": 21,
    "start_time": "2023-10-18T14:50:30.242Z"
   },
   {
    "duration": 17,
    "start_time": "2023-10-18T14:50:32.935Z"
   },
   {
    "duration": 138,
    "start_time": "2023-10-18T14:50:38.754Z"
   },
   {
    "duration": 93,
    "start_time": "2023-10-18T14:50:42.893Z"
   },
   {
    "duration": 8,
    "start_time": "2023-10-18T14:51:05.639Z"
   },
   {
    "duration": 4,
    "start_time": "2023-10-18T14:51:49.593Z"
   },
   {
    "duration": 16,
    "start_time": "2023-10-18T14:51:51.499Z"
   },
   {
    "duration": 13,
    "start_time": "2023-10-18T14:52:24.484Z"
   },
   {
    "duration": 14,
    "start_time": "2023-10-18T14:53:09.784Z"
   },
   {
    "duration": 6,
    "start_time": "2023-10-18T14:54:45.217Z"
   },
   {
    "duration": 11,
    "start_time": "2023-10-18T14:55:23.221Z"
   },
   {
    "duration": 3672,
    "start_time": "2023-10-18T14:59:28.301Z"
   },
   {
    "duration": 597,
    "start_time": "2023-10-18T15:01:05.706Z"
   },
   {
    "duration": 13,
    "start_time": "2023-10-18T15:03:05.424Z"
   },
   {
    "duration": 15,
    "start_time": "2023-10-18T15:03:54.981Z"
   },
   {
    "duration": 3118,
    "start_time": "2023-10-18T15:11:11.090Z"
   },
   {
    "duration": 3179,
    "start_time": "2023-10-18T15:11:56.083Z"
   },
   {
    "duration": 10,
    "start_time": "2023-10-18T15:13:26.672Z"
   },
   {
    "duration": 10,
    "start_time": "2023-10-18T15:14:27.681Z"
   },
   {
    "duration": 11,
    "start_time": "2023-10-18T15:15:49.920Z"
   },
   {
    "duration": 10,
    "start_time": "2023-10-18T15:16:20.404Z"
   },
   {
    "duration": 9,
    "start_time": "2023-10-18T15:16:32.467Z"
   },
   {
    "duration": 4874,
    "start_time": "2023-10-18T15:27:59.308Z"
   },
   {
    "duration": 5,
    "start_time": "2023-10-18T15:28:06.579Z"
   },
   {
    "duration": 41,
    "start_time": "2023-10-18T15:28:21.087Z"
   },
   {
    "duration": 4976,
    "start_time": "2023-10-18T15:29:40.369Z"
   },
   {
    "duration": 5,
    "start_time": "2023-10-18T15:29:47.568Z"
   },
   {
    "duration": 41,
    "start_time": "2023-10-18T15:29:51.606Z"
   },
   {
    "duration": 3100,
    "start_time": "2023-10-18T15:31:11.491Z"
   },
   {
    "duration": 5488,
    "start_time": "2023-10-18T15:31:50.060Z"
   },
   {
    "duration": 25,
    "start_time": "2023-10-18T15:32:02.678Z"
   },
   {
    "duration": 4990,
    "start_time": "2023-10-18T15:33:55.148Z"
   },
   {
    "duration": 27,
    "start_time": "2023-10-18T15:34:03.424Z"
   },
   {
    "duration": 3216,
    "start_time": "2023-10-18T15:34:09.577Z"
   },
   {
    "duration": 1509,
    "start_time": "2023-10-18T15:38:03.891Z"
   },
   {
    "duration": 7,
    "start_time": "2023-10-18T15:38:11.911Z"
   },
   {
    "duration": 11,
    "start_time": "2023-10-18T15:38:19.247Z"
   },
   {
    "duration": 26,
    "start_time": "2023-10-18T15:38:21.615Z"
   },
   {
    "duration": 31,
    "start_time": "2023-10-18T15:38:49.379Z"
   },
   {
    "duration": 30,
    "start_time": "2023-10-18T15:38:56.261Z"
   },
   {
    "duration": 14,
    "start_time": "2023-10-18T15:39:40.394Z"
   },
   {
    "duration": 7,
    "start_time": "2023-10-18T15:39:52.783Z"
   },
   {
    "duration": 30,
    "start_time": "2023-10-18T15:39:55.674Z"
   },
   {
    "duration": 8,
    "start_time": "2023-10-18T15:40:19.581Z"
   },
   {
    "duration": 31,
    "start_time": "2023-10-18T15:40:21.566Z"
   },
   {
    "duration": 14,
    "start_time": "2023-10-18T15:43:24.091Z"
   },
   {
    "duration": 11,
    "start_time": "2023-10-18T15:43:43.000Z"
   },
   {
    "duration": 10,
    "start_time": "2023-10-18T15:44:39.044Z"
   },
   {
    "duration": 32,
    "start_time": "2023-10-18T15:44:40.943Z"
   },
   {
    "duration": 5,
    "start_time": "2023-10-18T15:55:06.179Z"
   },
   {
    "duration": 27,
    "start_time": "2023-10-18T15:55:13.319Z"
   },
   {
    "duration": 5,
    "start_time": "2023-10-18T15:55:34.916Z"
   },
   {
    "duration": 26,
    "start_time": "2023-10-18T15:55:36.458Z"
   },
   {
    "duration": 4,
    "start_time": "2023-10-18T15:55:41.854Z"
   },
   {
    "duration": 456,
    "start_time": "2023-10-19T12:50:25.245Z"
   },
   {
    "duration": 189,
    "start_time": "2023-10-19T12:50:26.894Z"
   },
   {
    "duration": 15,
    "start_time": "2023-10-19T12:50:28.741Z"
   },
   {
    "duration": 118,
    "start_time": "2023-10-19T12:50:31.696Z"
   },
   {
    "duration": 37,
    "start_time": "2023-10-19T12:50:33.105Z"
   },
   {
    "duration": 16,
    "start_time": "2023-10-19T12:50:35.369Z"
   },
   {
    "duration": 2566,
    "start_time": "2023-10-19T12:50:37.591Z"
   },
   {
    "duration": 8,
    "start_time": "2023-10-19T12:50:42.893Z"
   },
   {
    "duration": 5,
    "start_time": "2023-10-19T12:50:46.576Z"
   },
   {
    "duration": 14,
    "start_time": "2023-10-19T12:50:48.850Z"
   },
   {
    "duration": 6,
    "start_time": "2023-10-19T12:50:52.132Z"
   },
   {
    "duration": 7,
    "start_time": "2023-10-19T12:50:54.581Z"
   },
   {
    "duration": 7,
    "start_time": "2023-10-19T12:50:56.264Z"
   },
   {
    "duration": 20,
    "start_time": "2023-10-19T12:50:57.680Z"
   },
   {
    "duration": 10,
    "start_time": "2023-10-19T12:50:59.256Z"
   },
   {
    "duration": 4,
    "start_time": "2023-10-19T12:51:01.360Z"
   },
   {
    "duration": 9,
    "start_time": "2023-10-19T12:51:03.414Z"
   },
   {
    "duration": 10,
    "start_time": "2023-10-19T12:51:05.464Z"
   },
   {
    "duration": 16,
    "start_time": "2023-10-19T12:51:07.059Z"
   },
   {
    "duration": 8,
    "start_time": "2023-10-19T12:51:09.156Z"
   },
   {
    "duration": 101,
    "start_time": "2023-10-19T12:51:11.205Z"
   },
   {
    "duration": 6,
    "start_time": "2023-10-19T12:51:12.997Z"
   },
   {
    "duration": 7,
    "start_time": "2023-10-19T12:51:14.728Z"
   },
   {
    "duration": 6,
    "start_time": "2023-10-19T12:51:16.242Z"
   },
   {
    "duration": 6,
    "start_time": "2023-10-19T12:51:17.808Z"
   },
   {
    "duration": 1780,
    "start_time": "2023-10-19T12:51:20.753Z"
   },
   {
    "duration": 4,
    "start_time": "2023-10-19T12:53:41.332Z"
   },
   {
    "duration": 10,
    "start_time": "2023-10-19T12:53:44.198Z"
   },
   {
    "duration": 38,
    "start_time": "2023-10-19T12:53:52.509Z"
   },
   {
    "duration": 7,
    "start_time": "2023-10-19T12:54:36.799Z"
   },
   {
    "duration": 230,
    "start_time": "2023-10-19T12:55:39.517Z"
   },
   {
    "duration": 151,
    "start_time": "2023-10-19T12:55:49.799Z"
   },
   {
    "duration": 156,
    "start_time": "2023-10-19T12:57:12.759Z"
   },
   {
    "duration": 163,
    "start_time": "2023-10-19T12:57:16.415Z"
   },
   {
    "duration": 171,
    "start_time": "2023-10-19T12:57:22.071Z"
   },
   {
    "duration": 183,
    "start_time": "2023-10-19T12:58:43.995Z"
   },
   {
    "duration": 309,
    "start_time": "2023-10-19T12:58:52.028Z"
   },
   {
    "duration": 198,
    "start_time": "2023-10-19T12:59:03.110Z"
   },
   {
    "duration": 217,
    "start_time": "2023-10-19T13:03:15.134Z"
   },
   {
    "duration": 171,
    "start_time": "2023-10-19T13:03:26.612Z"
   },
   {
    "duration": 3,
    "start_time": "2023-10-19T13:04:30.604Z"
   },
   {
    "duration": 18,
    "start_time": "2023-10-19T13:05:13.197Z"
   },
   {
    "duration": 2722,
    "start_time": "2023-10-19T13:05:18.622Z"
   },
   {
    "duration": 29,
    "start_time": "2023-10-19T13:05:33.986Z"
   },
   {
    "duration": 3,
    "start_time": "2023-10-19T13:05:50.246Z"
   },
   {
    "duration": 15,
    "start_time": "2023-10-19T13:06:07.805Z"
   },
   {
    "duration": 6,
    "start_time": "2023-10-19T13:06:23.912Z"
   },
   {
    "duration": 2,
    "start_time": "2023-10-19T13:06:41.487Z"
   },
   {
    "duration": 4,
    "start_time": "2023-10-19T13:06:49.867Z"
   },
   {
    "duration": 177,
    "start_time": "2023-10-19T13:06:54.462Z"
   },
   {
    "duration": 5,
    "start_time": "2023-10-19T13:07:10.895Z"
   },
   {
    "duration": 237,
    "start_time": "2023-10-19T13:07:22.729Z"
   },
   {
    "duration": 6,
    "start_time": "2023-10-19T13:08:46.742Z"
   },
   {
    "duration": 12,
    "start_time": "2023-10-19T13:09:11.969Z"
   },
   {
    "duration": 23,
    "start_time": "2023-10-19T13:09:33.821Z"
   },
   {
    "duration": 5,
    "start_time": "2023-10-19T13:09:52.072Z"
   },
   {
    "duration": 6,
    "start_time": "2023-10-19T13:10:00.149Z"
   },
   {
    "duration": 157,
    "start_time": "2023-10-19T13:21:49.154Z"
   },
   {
    "duration": 1984,
    "start_time": "2023-10-19T13:28:23.167Z"
   },
   {
    "duration": 184,
    "start_time": "2023-10-19T13:28:27.971Z"
   },
   {
    "duration": 159,
    "start_time": "2023-10-19T13:29:15.054Z"
   },
   {
    "duration": 5,
    "start_time": "2023-10-19T13:29:59.494Z"
   },
   {
    "duration": 159,
    "start_time": "2023-10-19T13:30:23.987Z"
   },
   {
    "duration": 177,
    "start_time": "2023-10-19T13:30:37.960Z"
   },
   {
    "duration": 185,
    "start_time": "2023-10-19T13:31:23.063Z"
   },
   {
    "duration": 4,
    "start_time": "2023-10-19T13:36:33.059Z"
   },
   {
    "duration": 9,
    "start_time": "2023-10-19T13:36:55.715Z"
   },
   {
    "duration": 29,
    "start_time": "2023-10-19T13:37:00.153Z"
   },
   {
    "duration": 6,
    "start_time": "2023-10-19T13:37:30.284Z"
   },
   {
    "duration": 5,
    "start_time": "2023-10-19T13:38:08.500Z"
   },
   {
    "duration": 28,
    "start_time": "2023-10-19T13:38:13.495Z"
   },
   {
    "duration": 6,
    "start_time": "2023-10-19T13:38:34.674Z"
   },
   {
    "duration": 30,
    "start_time": "2023-10-19T13:38:36.114Z"
   },
   {
    "duration": 11,
    "start_time": "2023-10-19T13:40:34.704Z"
   },
   {
    "duration": 163,
    "start_time": "2023-10-19T13:40:40.616Z"
   },
   {
    "duration": 9,
    "start_time": "2023-10-19T13:40:50.646Z"
   },
   {
    "duration": 176,
    "start_time": "2023-10-19T13:40:52.324Z"
   },
   {
    "duration": 174,
    "start_time": "2023-10-19T13:42:50.503Z"
   },
   {
    "duration": 339,
    "start_time": "2023-10-19T13:42:59.390Z"
   },
   {
    "duration": 177,
    "start_time": "2023-10-19T13:43:08.264Z"
   },
   {
    "duration": 178,
    "start_time": "2023-10-19T13:43:13.015Z"
   },
   {
    "duration": 6,
    "start_time": "2023-10-19T13:44:06.765Z"
   },
   {
    "duration": 9,
    "start_time": "2023-10-19T13:44:33.442Z"
   },
   {
    "duration": 156,
    "start_time": "2023-10-19T13:50:50.363Z"
   },
   {
    "duration": 176,
    "start_time": "2023-10-19T13:51:17.060Z"
   },
   {
    "duration": 5,
    "start_time": "2023-10-19T13:51:34.573Z"
   },
   {
    "duration": 184,
    "start_time": "2023-10-19T13:52:30.411Z"
   },
   {
    "duration": 181,
    "start_time": "2023-10-19T13:52:35.611Z"
   },
   {
    "duration": 210,
    "start_time": "2023-10-19T13:52:39.379Z"
   },
   {
    "duration": 150,
    "start_time": "2023-10-19T13:52:46.293Z"
   },
   {
    "duration": 184,
    "start_time": "2023-10-19T13:52:54.360Z"
   },
   {
    "duration": 5,
    "start_time": "2023-10-19T13:54:19.823Z"
   },
   {
    "duration": 5,
    "start_time": "2023-10-19T13:57:37.679Z"
   },
   {
    "duration": 18,
    "start_time": "2023-10-19T13:58:15.799Z"
   },
   {
    "duration": 11,
    "start_time": "2023-10-19T13:58:35.269Z"
   },
   {
    "duration": 18,
    "start_time": "2023-10-19T13:58:41.818Z"
   },
   {
    "duration": 6,
    "start_time": "2023-10-19T13:58:55.626Z"
   },
   {
    "duration": 6,
    "start_time": "2023-10-19T13:59:48.064Z"
   },
   {
    "duration": 6,
    "start_time": "2023-10-19T13:59:49.590Z"
   },
   {
    "duration": 6,
    "start_time": "2023-10-19T14:00:48.083Z"
   },
   {
    "duration": 8,
    "start_time": "2023-10-19T14:05:49.016Z"
   },
   {
    "duration": 139,
    "start_time": "2023-10-19T14:05:59.949Z"
   },
   {
    "duration": 477,
    "start_time": "2023-10-19T14:13:08.234Z"
   },
   {
    "duration": 104,
    "start_time": "2023-10-19T14:13:11.014Z"
   },
   {
    "duration": 19,
    "start_time": "2023-10-19T14:13:12.815Z"
   },
   {
    "duration": 115,
    "start_time": "2023-10-19T14:13:14.685Z"
   },
   {
    "duration": 41,
    "start_time": "2023-10-19T14:13:16.115Z"
   },
   {
    "duration": 17,
    "start_time": "2023-10-19T14:13:18.536Z"
   },
   {
    "duration": 2373,
    "start_time": "2023-10-19T14:13:20.852Z"
   },
   {
    "duration": 7,
    "start_time": "2023-10-19T14:13:25.929Z"
   },
   {
    "duration": 7,
    "start_time": "2023-10-19T14:13:27.607Z"
   },
   {
    "duration": 13,
    "start_time": "2023-10-19T14:13:29.401Z"
   },
   {
    "duration": 6,
    "start_time": "2023-10-19T14:13:34.306Z"
   },
   {
    "duration": 7,
    "start_time": "2023-10-19T14:13:35.890Z"
   },
   {
    "duration": 8,
    "start_time": "2023-10-19T14:13:37.881Z"
   },
   {
    "duration": 20,
    "start_time": "2023-10-19T14:13:40.003Z"
   },
   {
    "duration": 10,
    "start_time": "2023-10-19T14:13:42.049Z"
   },
   {
    "duration": 5,
    "start_time": "2023-10-19T14:13:44.291Z"
   },
   {
    "duration": 9,
    "start_time": "2023-10-19T14:13:46.452Z"
   },
   {
    "duration": 10,
    "start_time": "2023-10-19T14:13:48.073Z"
   },
   {
    "duration": 16,
    "start_time": "2023-10-19T14:13:50.012Z"
   },
   {
    "duration": 8,
    "start_time": "2023-10-19T14:13:52.463Z"
   },
   {
    "duration": 102,
    "start_time": "2023-10-19T14:13:55.183Z"
   },
   {
    "duration": 6,
    "start_time": "2023-10-19T14:13:57.374Z"
   },
   {
    "duration": 7,
    "start_time": "2023-10-19T14:13:59.537Z"
   },
   {
    "duration": 7,
    "start_time": "2023-10-19T14:14:01.171Z"
   },
   {
    "duration": 7,
    "start_time": "2023-10-19T14:14:03.243Z"
   },
   {
    "duration": 4,
    "start_time": "2023-10-19T14:14:05.488Z"
   },
   {
    "duration": 10,
    "start_time": "2023-10-19T14:14:07.330Z"
   },
   {
    "duration": 5,
    "start_time": "2023-10-19T14:14:10.069Z"
   },
   {
    "duration": 136,
    "start_time": "2023-10-19T14:14:11.986Z"
   },
   {
    "duration": 170,
    "start_time": "2023-10-19T14:14:14.138Z"
   },
   {
    "duration": 5,
    "start_time": "2023-10-19T14:14:16.654Z"
   },
   {
    "duration": 14,
    "start_time": "2023-10-19T14:14:18.785Z"
   },
   {
    "duration": 172,
    "start_time": "2023-10-19T14:14:21.048Z"
   },
   {
    "duration": 166,
    "start_time": "2023-10-19T14:14:23.328Z"
   },
   {
    "duration": 6,
    "start_time": "2023-10-19T14:14:25.864Z"
   },
   {
    "duration": 5,
    "start_time": "2023-10-19T14:14:32.746Z"
   },
   {
    "duration": 6,
    "start_time": "2023-10-19T14:14:34.570Z"
   },
   {
    "duration": 4,
    "start_time": "2023-10-19T14:49:01.086Z"
   },
   {
    "duration": 10,
    "start_time": "2023-10-19T14:49:44.078Z"
   },
   {
    "duration": 186,
    "start_time": "2023-10-19T14:49:57.904Z"
   },
   {
    "duration": 15,
    "start_time": "2023-10-19T14:50:57.578Z"
   },
   {
    "duration": 112,
    "start_time": "2023-10-19T14:52:09.071Z"
   },
   {
    "duration": 5,
    "start_time": "2023-10-19T14:52:16.335Z"
   },
   {
    "duration": 14,
    "start_time": "2023-10-19T14:52:24.747Z"
   },
   {
    "duration": 26,
    "start_time": "2023-10-19T14:52:33.537Z"
   },
   {
    "duration": 109,
    "start_time": "2023-10-19T14:53:19.106Z"
   },
   {
    "duration": 134,
    "start_time": "2023-10-19T14:53:27.762Z"
   },
   {
    "duration": 215,
    "start_time": "2023-10-19T14:53:32.251Z"
   },
   {
    "duration": 104,
    "start_time": "2023-10-19T14:53:52.138Z"
   },
   {
    "duration": 111,
    "start_time": "2023-10-19T14:53:55.949Z"
   },
   {
    "duration": 128,
    "start_time": "2023-10-19T14:54:01.205Z"
   },
   {
    "duration": 24,
    "start_time": "2023-10-19T14:54:25.340Z"
   },
   {
    "duration": 5,
    "start_time": "2023-10-19T14:56:21.629Z"
   },
   {
    "duration": 2445,
    "start_time": "2023-10-19T14:56:28.008Z"
   },
   {
    "duration": 111,
    "start_time": "2023-10-19T14:56:45.695Z"
   },
   {
    "duration": 5,
    "start_time": "2023-10-19T14:56:58.759Z"
   },
   {
    "duration": 126,
    "start_time": "2023-10-19T14:57:00.259Z"
   },
   {
    "duration": 7,
    "start_time": "2023-10-19T14:57:20.614Z"
   },
   {
    "duration": 147,
    "start_time": "2023-10-19T14:57:22.833Z"
   },
   {
    "duration": 6,
    "start_time": "2023-10-19T14:57:27.254Z"
   },
   {
    "duration": 136,
    "start_time": "2023-10-19T14:57:28.779Z"
   },
   {
    "duration": 105,
    "start_time": "2023-10-19T14:57:35.368Z"
   },
   {
    "duration": 12,
    "start_time": "2023-10-19T14:57:50.858Z"
   },
   {
    "duration": 6611,
    "start_time": "2023-10-19T14:57:52.336Z"
   },
   {
    "duration": 135,
    "start_time": "2023-10-19T14:58:25.887Z"
   },
   {
    "duration": 11,
    "start_time": "2023-10-19T15:00:50.155Z"
   },
   {
    "duration": 130,
    "start_time": "2023-10-19T15:00:51.978Z"
   },
   {
    "duration": 164,
    "start_time": "2023-10-19T15:07:55.763Z"
   },
   {
    "duration": 145,
    "start_time": "2023-10-19T15:08:09.814Z"
   },
   {
    "duration": 149,
    "start_time": "2023-10-19T15:08:14.721Z"
   },
   {
    "duration": 165,
    "start_time": "2023-10-19T15:08:19.145Z"
   },
   {
    "duration": 151,
    "start_time": "2023-10-19T15:08:23.924Z"
   },
   {
    "duration": 160,
    "start_time": "2023-10-19T15:10:24.498Z"
   },
   {
    "duration": 175,
    "start_time": "2023-10-19T15:10:32.322Z"
   },
   {
    "duration": 1196,
    "start_time": "2023-10-19T15:10:41.584Z"
   },
   {
    "duration": 170,
    "start_time": "2023-10-19T15:10:54.197Z"
   },
   {
    "duration": 1063,
    "start_time": "2023-10-19T15:11:03.074Z"
   },
   {
    "duration": 155,
    "start_time": "2023-10-19T15:11:22.632Z"
   },
   {
    "duration": 148,
    "start_time": "2023-10-19T15:11:38.303Z"
   },
   {
    "duration": 131,
    "start_time": "2023-10-19T15:11:45.065Z"
   },
   {
    "duration": 181,
    "start_time": "2023-10-19T15:11:48.766Z"
   },
   {
    "duration": 161,
    "start_time": "2023-10-19T15:11:58.960Z"
   },
   {
    "duration": 194,
    "start_time": "2023-10-19T15:12:08.813Z"
   },
   {
    "duration": 151,
    "start_time": "2023-10-19T15:14:35.100Z"
   },
   {
    "duration": 182,
    "start_time": "2023-10-19T15:16:12.792Z"
   },
   {
    "duration": 178,
    "start_time": "2023-10-19T15:16:23.773Z"
   },
   {
    "duration": 170,
    "start_time": "2023-10-19T15:16:35.327Z"
   },
   {
    "duration": 161,
    "start_time": "2023-10-19T15:16:41.784Z"
   },
   {
    "duration": 6,
    "start_time": "2023-10-19T15:17:55.421Z"
   },
   {
    "duration": 28,
    "start_time": "2023-10-19T15:18:01.372Z"
   },
   {
    "duration": 80,
    "start_time": "2023-10-19T15:19:42.982Z"
   },
   {
    "duration": 14,
    "start_time": "2023-10-19T15:19:49.331Z"
   },
   {
    "duration": 3,
    "start_time": "2023-10-19T15:20:03.482Z"
   },
   {
    "duration": 29,
    "start_time": "2023-10-19T15:20:12.305Z"
   },
   {
    "duration": 28,
    "start_time": "2023-10-19T15:20:18.366Z"
   },
   {
    "duration": 152,
    "start_time": "2023-10-19T15:25:44.328Z"
   },
   {
    "duration": 157,
    "start_time": "2023-10-19T15:26:04.953Z"
   },
   {
    "duration": 174,
    "start_time": "2023-10-19T15:26:08.990Z"
   },
   {
    "duration": 185,
    "start_time": "2023-10-19T15:26:26.954Z"
   },
   {
    "duration": 363,
    "start_time": "2023-10-19T15:26:34.096Z"
   },
   {
    "duration": 159,
    "start_time": "2023-10-19T15:26:42.102Z"
   },
   {
    "duration": 172,
    "start_time": "2023-10-19T15:26:48.943Z"
   },
   {
    "duration": 141,
    "start_time": "2023-10-19T15:26:51.291Z"
   },
   {
    "duration": 184,
    "start_time": "2023-10-19T15:26:54.969Z"
   },
   {
    "duration": 132,
    "start_time": "2023-10-19T15:27:04.513Z"
   },
   {
    "duration": 5,
    "start_time": "2023-10-19T15:27:49.942Z"
   },
   {
    "duration": 32,
    "start_time": "2023-10-19T15:27:55.640Z"
   },
   {
    "duration": 25,
    "start_time": "2023-10-19T15:30:31.492Z"
   },
   {
    "duration": 229,
    "start_time": "2023-10-19T15:38:28.392Z"
   },
   {
    "duration": 3,
    "start_time": "2023-10-19T15:38:52.205Z"
   },
   {
    "duration": 5,
    "start_time": "2023-10-19T15:38:54.695Z"
   },
   {
    "duration": 6,
    "start_time": "2023-10-19T15:39:16.476Z"
   },
   {
    "duration": 4,
    "start_time": "2023-10-19T15:40:32.282Z"
   },
   {
    "duration": 4,
    "start_time": "2023-10-19T15:40:34.277Z"
   },
   {
    "duration": 3,
    "start_time": "2023-10-19T15:41:49.324Z"
   },
   {
    "duration": 4,
    "start_time": "2023-10-19T15:41:51.062Z"
   },
   {
    "duration": 12,
    "start_time": "2023-10-19T15:41:52.876Z"
   },
   {
    "duration": 150,
    "start_time": "2023-10-19T15:42:10.706Z"
   },
   {
    "duration": 176,
    "start_time": "2023-10-19T15:46:47.748Z"
   },
   {
    "duration": 3,
    "start_time": "2023-10-19T15:46:55.625Z"
   },
   {
    "duration": 12,
    "start_time": "2023-10-19T15:46:59.443Z"
   },
   {
    "duration": 148,
    "start_time": "2023-10-19T15:47:06.676Z"
   },
   {
    "duration": 6,
    "start_time": "2023-10-19T15:47:37.169Z"
   },
   {
    "duration": 26,
    "start_time": "2023-10-19T15:47:42.106Z"
   },
   {
    "duration": 10,
    "start_time": "2023-10-19T15:51:41.292Z"
   },
   {
    "duration": 150,
    "start_time": "2023-10-19T15:51:46.145Z"
   },
   {
    "duration": 152,
    "start_time": "2023-10-19T15:55:18.258Z"
   },
   {
    "duration": 56,
    "start_time": "2023-10-19T15:57:52.636Z"
   },
   {
    "duration": 44,
    "start_time": "2023-10-19T16:07:27.698Z"
   },
   {
    "duration": 153,
    "start_time": "2023-10-19T16:13:53.494Z"
   },
   {
    "duration": 153,
    "start_time": "2023-10-19T16:20:01.911Z"
   },
   {
    "duration": 162,
    "start_time": "2023-10-19T16:20:53.504Z"
   },
   {
    "duration": 10,
    "start_time": "2023-10-19T16:24:38.769Z"
   },
   {
    "duration": 147,
    "start_time": "2023-10-19T16:24:45.419Z"
   },
   {
    "duration": 8,
    "start_time": "2023-10-19T16:25:19.293Z"
   },
   {
    "duration": 153,
    "start_time": "2023-10-19T16:25:20.628Z"
   },
   {
    "duration": 9,
    "start_time": "2023-10-19T16:27:13.354Z"
   },
   {
    "duration": 8,
    "start_time": "2023-10-19T16:27:19.953Z"
   },
   {
    "duration": 159,
    "start_time": "2023-10-19T16:27:21.959Z"
   },
   {
    "duration": 9,
    "start_time": "2023-10-19T16:28:06.251Z"
   },
   {
    "duration": 154,
    "start_time": "2023-10-19T16:29:48.516Z"
   },
   {
    "duration": 9,
    "start_time": "2023-10-19T16:31:22.878Z"
   },
   {
    "duration": 165,
    "start_time": "2023-10-19T16:31:30.265Z"
   },
   {
    "duration": 8,
    "start_time": "2023-10-19T16:31:54.640Z"
   },
   {
    "duration": 186,
    "start_time": "2023-10-19T16:31:56.952Z"
   },
   {
    "duration": 163,
    "start_time": "2023-10-19T16:33:04.514Z"
   },
   {
    "duration": 8,
    "start_time": "2023-10-19T16:34:30.217Z"
   },
   {
    "duration": 142,
    "start_time": "2023-10-19T16:34:32.075Z"
   },
   {
    "duration": 153,
    "start_time": "2023-10-19T16:44:05.649Z"
   },
   {
    "duration": 8,
    "start_time": "2023-10-19T16:59:28.521Z"
   },
   {
    "duration": 160,
    "start_time": "2023-10-19T16:59:34.230Z"
   },
   {
    "duration": 14,
    "start_time": "2023-10-19T17:04:43.212Z"
   },
   {
    "duration": 10,
    "start_time": "2023-10-19T17:04:54.534Z"
   },
   {
    "duration": 198,
    "start_time": "2023-10-19T17:23:31.532Z"
   },
   {
    "duration": 7,
    "start_time": "2023-10-19T17:28:30.741Z"
   },
   {
    "duration": 176,
    "start_time": "2023-10-19T17:28:46.876Z"
   },
   {
    "duration": 6,
    "start_time": "2023-10-19T17:29:53.267Z"
   },
   {
    "duration": 9,
    "start_time": "2023-10-19T17:30:01.533Z"
   },
   {
    "duration": 5,
    "start_time": "2023-10-19T17:30:21.685Z"
   },
   {
    "duration": 8,
    "start_time": "2023-10-19T17:30:37.131Z"
   },
   {
    "duration": 68,
    "start_time": "2023-10-20T13:08:23.820Z"
   },
   {
    "duration": 364,
    "start_time": "2023-10-20T13:08:36.901Z"
   },
   {
    "duration": 166,
    "start_time": "2023-10-20T13:08:38.969Z"
   },
   {
    "duration": 13,
    "start_time": "2023-10-20T13:08:41.229Z"
   },
   {
    "duration": 92,
    "start_time": "2023-10-20T13:08:43.362Z"
   },
   {
    "duration": 32,
    "start_time": "2023-10-20T13:08:45.093Z"
   },
   {
    "duration": 23,
    "start_time": "2023-10-20T13:08:47.880Z"
   },
   {
    "duration": 2194,
    "start_time": "2023-10-20T13:08:49.800Z"
   },
   {
    "duration": 6,
    "start_time": "2023-10-20T13:08:55.484Z"
   },
   {
    "duration": 5,
    "start_time": "2023-10-20T13:08:57.024Z"
   },
   {
    "duration": 10,
    "start_time": "2023-10-20T13:08:59.204Z"
   },
   {
    "duration": 6,
    "start_time": "2023-10-20T13:09:02.850Z"
   },
   {
    "duration": 6,
    "start_time": "2023-10-20T13:09:04.831Z"
   },
   {
    "duration": 6,
    "start_time": "2023-10-20T13:09:06.402Z"
   },
   {
    "duration": 14,
    "start_time": "2023-10-20T13:09:08.210Z"
   },
   {
    "duration": 9,
    "start_time": "2023-10-20T13:09:10.927Z"
   },
   {
    "duration": 4,
    "start_time": "2023-10-20T13:09:13.092Z"
   },
   {
    "duration": 7,
    "start_time": "2023-10-20T13:09:14.647Z"
   },
   {
    "duration": 8,
    "start_time": "2023-10-20T13:09:16.494Z"
   },
   {
    "duration": 15,
    "start_time": "2023-10-20T13:09:18.162Z"
   },
   {
    "duration": 7,
    "start_time": "2023-10-20T13:09:20.581Z"
   },
   {
    "duration": 99,
    "start_time": "2023-10-20T13:09:23.094Z"
   },
   {
    "duration": 4,
    "start_time": "2023-10-20T13:09:25.120Z"
   },
   {
    "duration": 6,
    "start_time": "2023-10-20T13:09:26.954Z"
   },
   {
    "duration": 5,
    "start_time": "2023-10-20T13:09:28.529Z"
   },
   {
    "duration": 6,
    "start_time": "2023-10-20T13:09:30.216Z"
   },
   {
    "duration": 4,
    "start_time": "2023-10-20T13:09:32.962Z"
   },
   {
    "duration": 10,
    "start_time": "2023-10-20T13:09:35.647Z"
   },
   {
    "duration": 5,
    "start_time": "2023-10-20T13:09:37.657Z"
   },
   {
    "duration": 128,
    "start_time": "2023-10-20T13:09:39.663Z"
   },
   {
    "duration": 140,
    "start_time": "2023-10-20T13:09:42.898Z"
   },
   {
    "duration": 5,
    "start_time": "2023-10-20T13:09:45.053Z"
   },
   {
    "duration": 10,
    "start_time": "2023-10-20T13:09:46.993Z"
   },
   {
    "duration": 148,
    "start_time": "2023-10-20T13:09:49.050Z"
   },
   {
    "duration": 132,
    "start_time": "2023-10-20T13:09:51.782Z"
   },
   {
    "duration": 5,
    "start_time": "2023-10-20T13:09:53.858Z"
   },
   {
    "duration": 7,
    "start_time": "2023-10-20T13:09:55.901Z"
   },
   {
    "duration": 5,
    "start_time": "2023-10-20T13:09:58.018Z"
   },
   {
    "duration": 6,
    "start_time": "2023-10-20T13:09:59.879Z"
   },
   {
    "duration": 125,
    "start_time": "2023-10-20T13:10:01.507Z"
   },
   {
    "duration": 146,
    "start_time": "2023-10-20T13:10:03.571Z"
   },
   {
    "duration": 195,
    "start_time": "2023-10-20T13:10:05.980Z"
   },
   {
    "duration": 3,
    "start_time": "2023-10-20T13:10:08.243Z"
   },
   {
    "duration": 11,
    "start_time": "2023-10-20T13:10:10.462Z"
   },
   {
    "duration": 184,
    "start_time": "2023-10-20T13:10:12.240Z"
   },
   {
    "duration": 7,
    "start_time": "2023-10-20T13:10:16.592Z"
   },
   {
    "duration": 129,
    "start_time": "2023-10-20T13:10:18.233Z"
   },
   {
    "duration": 131,
    "start_time": "2023-10-20T13:10:20.901Z"
   },
   {
    "duration": 35,
    "start_time": "2023-10-20T13:10:23.515Z"
   },
   {
    "duration": 156,
    "start_time": "2023-10-20T13:10:26.714Z"
   },
   {
    "duration": 137,
    "start_time": "2023-10-20T13:10:28.866Z"
   },
   {
    "duration": 10,
    "start_time": "2023-10-20T13:10:31.610Z"
   },
   {
    "duration": 128,
    "start_time": "2023-10-20T13:10:33.821Z"
   },
   {
    "duration": 144,
    "start_time": "2023-10-20T13:10:36.062Z"
   },
   {
    "duration": 7,
    "start_time": "2023-10-20T13:10:38.487Z"
   },
   {
    "duration": 127,
    "start_time": "2023-10-20T13:10:40.257Z"
   },
   {
    "duration": 124,
    "start_time": "2023-10-20T13:10:43.383Z"
   },
   {
    "duration": 6,
    "start_time": "2023-10-20T13:10:45.551Z"
   },
   {
    "duration": 149,
    "start_time": "2023-10-20T13:10:47.201Z"
   },
   {
    "duration": 133,
    "start_time": "2023-10-20T13:10:49.621Z"
   },
   {
    "duration": 5,
    "start_time": "2023-10-20T13:10:51.508Z"
   },
   {
    "duration": 145,
    "start_time": "2023-10-20T13:10:53.369Z"
   },
   {
    "duration": 5,
    "start_time": "2023-10-20T13:10:57.590Z"
   },
   {
    "duration": 5,
    "start_time": "2023-10-20T13:10:59.504Z"
   },
   {
    "duration": 301,
    "start_time": "2023-10-20T13:11:01.879Z"
   },
   {
    "duration": 215,
    "start_time": "2023-10-20T13:11:29.697Z"
   },
   {
    "duration": 286,
    "start_time": "2023-10-20T13:11:37.033Z"
   },
   {
    "duration": 208,
    "start_time": "2023-10-20T13:11:41.695Z"
   },
   {
    "duration": 211,
    "start_time": "2023-10-20T13:12:07.221Z"
   },
   {
    "duration": 250,
    "start_time": "2023-10-20T13:12:23.932Z"
   },
   {
    "duration": 205,
    "start_time": "2023-10-20T13:12:30.522Z"
   },
   {
    "duration": 176,
    "start_time": "2023-10-20T13:12:37.885Z"
   },
   {
    "duration": 182,
    "start_time": "2023-10-20T13:12:41.176Z"
   },
   {
    "duration": 211,
    "start_time": "2023-10-20T13:12:48.992Z"
   },
   {
    "duration": 202,
    "start_time": "2023-10-20T13:12:53.729Z"
   },
   {
    "duration": 1547,
    "start_time": "2023-10-20T13:14:27.446Z"
   },
   {
    "duration": 4,
    "start_time": "2023-10-20T13:14:36.823Z"
   },
   {
    "duration": 210,
    "start_time": "2023-10-20T13:15:05.381Z"
   },
   {
    "duration": 258,
    "start_time": "2023-10-20T13:15:41.065Z"
   },
   {
    "duration": 152,
    "start_time": "2023-10-20T13:15:55.219Z"
   },
   {
    "duration": 154,
    "start_time": "2023-10-20T13:16:35.006Z"
   },
   {
    "duration": 151,
    "start_time": "2023-10-20T13:16:38.192Z"
   },
   {
    "duration": 223,
    "start_time": "2023-10-20T13:20:04.041Z"
   },
   {
    "duration": 159,
    "start_time": "2023-10-20T13:21:20.512Z"
   },
   {
    "duration": 139,
    "start_time": "2023-10-20T13:23:46.115Z"
   },
   {
    "duration": 4,
    "start_time": "2023-10-20T13:25:05.983Z"
   },
   {
    "duration": 164,
    "start_time": "2023-10-20T13:25:49.039Z"
   },
   {
    "duration": 147,
    "start_time": "2023-10-20T13:25:54.339Z"
   },
   {
    "duration": 4,
    "start_time": "2023-10-20T13:26:25.819Z"
   },
   {
    "duration": 211,
    "start_time": "2023-10-20T13:28:17.180Z"
   },
   {
    "duration": 224,
    "start_time": "2023-10-20T13:28:30.938Z"
   },
   {
    "duration": 206,
    "start_time": "2023-10-20T13:28:34.686Z"
   },
   {
    "duration": 231,
    "start_time": "2023-10-20T13:28:37.268Z"
   },
   {
    "duration": 198,
    "start_time": "2023-10-20T13:28:45.152Z"
   },
   {
    "duration": 235,
    "start_time": "2023-10-20T13:28:48.829Z"
   },
   {
    "duration": 139,
    "start_time": "2023-10-20T13:29:11.291Z"
   },
   {
    "duration": 143,
    "start_time": "2023-10-20T13:29:37.154Z"
   },
   {
    "duration": 5,
    "start_time": "2023-10-20T13:30:03.650Z"
   },
   {
    "duration": 221,
    "start_time": "2023-10-20T13:31:01.248Z"
   },
   {
    "duration": 135,
    "start_time": "2023-10-20T13:33:22.234Z"
   },
   {
    "duration": 371,
    "start_time": "2023-10-20T13:33:41.741Z"
   },
   {
    "duration": 339,
    "start_time": "2023-10-20T13:34:18.089Z"
   },
   {
    "duration": 14,
    "start_time": "2023-10-20T13:35:00.238Z"
   },
   {
    "duration": 13,
    "start_time": "2023-10-20T13:35:21.188Z"
   },
   {
    "duration": 15,
    "start_time": "2023-10-20T13:36:13.481Z"
   },
   {
    "duration": 260,
    "start_time": "2023-10-20T13:36:19.779Z"
   },
   {
    "duration": 10,
    "start_time": "2023-10-20T13:37:35.264Z"
   },
   {
    "duration": 7,
    "start_time": "2023-10-20T13:37:40.775Z"
   },
   {
    "duration": 11,
    "start_time": "2023-10-20T13:38:18.537Z"
   },
   {
    "duration": 9,
    "start_time": "2023-10-20T13:38:20.354Z"
   },
   {
    "duration": 148,
    "start_time": "2023-10-20T14:25:32.286Z"
   },
   {
    "duration": 137,
    "start_time": "2023-10-20T14:27:33.754Z"
   },
   {
    "duration": 136,
    "start_time": "2023-10-20T14:27:43.272Z"
   },
   {
    "duration": 134,
    "start_time": "2023-10-20T14:31:18.092Z"
   },
   {
    "duration": 4,
    "start_time": "2023-10-20T15:14:16.816Z"
   },
   {
    "duration": 9,
    "start_time": "2023-10-20T15:14:23.251Z"
   },
   {
    "duration": 4,
    "start_time": "2023-10-20T15:15:07.160Z"
   },
   {
    "duration": 26,
    "start_time": "2023-10-20T15:15:19.298Z"
   },
   {
    "duration": 11,
    "start_time": "2023-10-20T15:16:11.194Z"
   },
   {
    "duration": 4,
    "start_time": "2023-10-20T15:16:17.530Z"
   },
   {
    "duration": 2,
    "start_time": "2023-10-20T15:16:22.621Z"
   },
   {
    "duration": 4,
    "start_time": "2023-10-20T15:16:25.509Z"
   },
   {
    "duration": 37,
    "start_time": "2023-10-20T15:16:28.793Z"
   },
   {
    "duration": 19,
    "start_time": "2023-10-20T15:16:48.836Z"
   },
   {
    "duration": 7,
    "start_time": "2023-10-20T15:17:07.290Z"
   },
   {
    "duration": 7,
    "start_time": "2023-10-20T15:17:33.257Z"
   },
   {
    "duration": 8,
    "start_time": "2023-10-20T15:17:48.526Z"
   },
   {
    "duration": 21,
    "start_time": "2023-10-20T15:17:57.364Z"
   },
   {
    "duration": 11,
    "start_time": "2023-10-20T15:18:24.544Z"
   },
   {
    "duration": 20,
    "start_time": "2023-10-20T15:18:49.114Z"
   },
   {
    "duration": 11,
    "start_time": "2023-10-20T15:18:59.035Z"
   },
   {
    "duration": 25,
    "start_time": "2023-10-20T15:19:05.111Z"
   },
   {
    "duration": 17,
    "start_time": "2023-10-20T15:19:17.925Z"
   },
   {
    "duration": 7,
    "start_time": "2023-10-20T15:20:15.299Z"
   },
   {
    "duration": 3,
    "start_time": "2023-10-20T15:37:50.947Z"
   },
   {
    "duration": 7,
    "start_time": "2023-10-20T15:38:11.606Z"
   },
   {
    "duration": 24,
    "start_time": "2023-10-20T15:38:19.448Z"
   },
   {
    "duration": 3,
    "start_time": "2023-10-20T15:38:31.115Z"
   },
   {
    "duration": 6,
    "start_time": "2023-10-20T15:38:41.890Z"
   },
   {
    "duration": 22,
    "start_time": "2023-10-20T15:38:47.164Z"
   },
   {
    "duration": 22,
    "start_time": "2023-10-20T15:39:50.827Z"
   },
   {
    "duration": 7,
    "start_time": "2023-10-20T15:43:50.552Z"
   },
   {
    "duration": 8,
    "start_time": "2023-10-20T15:43:58.042Z"
   },
   {
    "duration": 15,
    "start_time": "2023-10-20T15:47:03.944Z"
   },
   {
    "duration": 13,
    "start_time": "2023-10-20T15:47:18.887Z"
   },
   {
    "duration": 14,
    "start_time": "2023-10-20T15:47:47.488Z"
   },
   {
    "duration": 16,
    "start_time": "2023-10-20T15:48:14.830Z"
   },
   {
    "duration": 22,
    "start_time": "2023-10-20T15:48:44.997Z"
   },
   {
    "duration": 20,
    "start_time": "2023-10-20T15:49:44.727Z"
   },
   {
    "duration": 22,
    "start_time": "2023-10-20T15:49:54.618Z"
   },
   {
    "duration": 17,
    "start_time": "2023-10-20T15:50:12.316Z"
   },
   {
    "duration": 3,
    "start_time": "2023-10-20T15:50:43.706Z"
   },
   {
    "duration": 8,
    "start_time": "2023-10-20T15:50:49.223Z"
   },
   {
    "duration": 12,
    "start_time": "2023-10-20T15:51:30.864Z"
   },
   {
    "duration": 3,
    "start_time": "2023-10-20T15:51:35.460Z"
   },
   {
    "duration": 8,
    "start_time": "2023-10-20T15:51:40.963Z"
   },
   {
    "duration": 9,
    "start_time": "2023-10-20T15:53:22.398Z"
   },
   {
    "duration": 2,
    "start_time": "2023-10-20T15:54:09.689Z"
   },
   {
    "duration": 8,
    "start_time": "2023-10-20T15:54:11.175Z"
   },
   {
    "duration": 9,
    "start_time": "2023-10-20T15:54:14.958Z"
   },
   {
    "duration": 13,
    "start_time": "2023-10-20T15:57:28.294Z"
   },
   {
    "duration": 3,
    "start_time": "2023-10-20T15:57:29.959Z"
   },
   {
    "duration": 8,
    "start_time": "2023-10-20T15:57:31.617Z"
   },
   {
    "duration": 13,
    "start_time": "2023-10-20T15:58:15.257Z"
   },
   {
    "duration": 3,
    "start_time": "2023-10-20T15:58:17.257Z"
   },
   {
    "duration": 8,
    "start_time": "2023-10-20T15:58:49.769Z"
   },
   {
    "duration": 37,
    "start_time": "2023-10-20T16:08:10.707Z"
   },
   {
    "duration": 5,
    "start_time": "2023-10-20T16:11:30.577Z"
   },
   {
    "duration": 5,
    "start_time": "2023-10-20T16:12:13.253Z"
   },
   {
    "duration": 16,
    "start_time": "2023-10-20T16:14:07.359Z"
   },
   {
    "duration": 16,
    "start_time": "2023-10-20T16:14:37.020Z"
   },
   {
    "duration": 16,
    "start_time": "2023-10-20T16:14:41.774Z"
   },
   {
    "duration": 12,
    "start_time": "2023-10-20T16:17:28.928Z"
   },
   {
    "duration": 21,
    "start_time": "2023-10-20T16:17:43.310Z"
   },
   {
    "duration": 9,
    "start_time": "2023-10-20T16:18:09.132Z"
   },
   {
    "duration": 146,
    "start_time": "2023-10-20T16:18:15.702Z"
   },
   {
    "duration": 159,
    "start_time": "2023-10-20T16:25:42.634Z"
   },
   {
    "duration": 423,
    "start_time": "2023-10-21T05:38:48.927Z"
   },
   {
    "duration": 147,
    "start_time": "2023-10-21T05:38:49.351Z"
   },
   {
    "duration": 11,
    "start_time": "2023-10-21T05:38:49.500Z"
   },
   {
    "duration": 82,
    "start_time": "2023-10-21T05:38:49.513Z"
   },
   {
    "duration": 29,
    "start_time": "2023-10-21T05:38:49.597Z"
   },
   {
    "duration": 26,
    "start_time": "2023-10-21T05:38:49.627Z"
   },
   {
    "duration": 1876,
    "start_time": "2023-10-21T05:38:49.654Z"
   },
   {
    "duration": 13,
    "start_time": "2023-10-21T05:38:51.532Z"
   },
   {
    "duration": 5,
    "start_time": "2023-10-21T05:38:51.546Z"
   },
   {
    "duration": 13,
    "start_time": "2023-10-21T05:38:51.553Z"
   },
   {
    "duration": 5,
    "start_time": "2023-10-21T05:38:51.567Z"
   },
   {
    "duration": 33,
    "start_time": "2023-10-21T05:38:51.573Z"
   },
   {
    "duration": 14,
    "start_time": "2023-10-21T05:38:51.608Z"
   },
   {
    "duration": 39,
    "start_time": "2023-10-21T05:38:51.625Z"
   },
   {
    "duration": 8,
    "start_time": "2023-10-21T05:38:51.666Z"
   },
   {
    "duration": 6,
    "start_time": "2023-10-21T05:38:51.675Z"
   },
   {
    "duration": 34,
    "start_time": "2023-10-21T05:38:51.682Z"
   },
   {
    "duration": 10,
    "start_time": "2023-10-21T05:38:51.718Z"
   },
   {
    "duration": 27,
    "start_time": "2023-10-21T05:38:51.729Z"
   },
   {
    "duration": 14,
    "start_time": "2023-10-21T05:38:51.757Z"
   },
   {
    "duration": 98,
    "start_time": "2023-10-21T05:38:51.773Z"
   },
   {
    "duration": 4,
    "start_time": "2023-10-21T05:38:51.872Z"
   },
   {
    "duration": 9,
    "start_time": "2023-10-21T05:38:51.878Z"
   },
   {
    "duration": 27,
    "start_time": "2023-10-21T05:38:51.888Z"
   },
   {
    "duration": 21,
    "start_time": "2023-10-21T05:38:51.917Z"
   },
   {
    "duration": 4,
    "start_time": "2023-10-21T05:38:51.939Z"
   },
   {
    "duration": 18,
    "start_time": "2023-10-21T05:38:51.944Z"
   },
   {
    "duration": 8,
    "start_time": "2023-10-21T05:38:51.964Z"
   },
   {
    "duration": 117,
    "start_time": "2023-10-21T05:38:51.973Z"
   },
   {
    "duration": 142,
    "start_time": "2023-10-21T05:38:52.091Z"
   },
   {
    "duration": 9,
    "start_time": "2023-10-21T05:38:52.235Z"
   },
   {
    "duration": 12,
    "start_time": "2023-10-21T05:38:52.246Z"
   },
   {
    "duration": 159,
    "start_time": "2023-10-21T05:38:52.259Z"
   },
   {
    "duration": 138,
    "start_time": "2023-10-21T05:38:52.419Z"
   },
   {
    "duration": 4,
    "start_time": "2023-10-21T05:38:52.558Z"
   },
   {
    "duration": 15,
    "start_time": "2023-10-21T05:38:52.564Z"
   },
   {
    "duration": 17,
    "start_time": "2023-10-21T05:38:52.581Z"
   },
   {
    "duration": 9,
    "start_time": "2023-10-21T05:38:52.599Z"
   },
   {
    "duration": 126,
    "start_time": "2023-10-21T05:38:52.609Z"
   },
   {
    "duration": 142,
    "start_time": "2023-10-21T05:38:52.744Z"
   },
   {
    "duration": 123,
    "start_time": "2023-10-21T05:38:52.890Z"
   },
   {
    "duration": 4,
    "start_time": "2023-10-21T05:38:53.014Z"
   },
   {
    "duration": 41,
    "start_time": "2023-10-21T05:38:53.019Z"
   },
   {
    "duration": 194,
    "start_time": "2023-10-21T05:38:53.063Z"
   },
   {
    "duration": 6,
    "start_time": "2023-10-21T05:38:53.259Z"
   },
   {
    "duration": 139,
    "start_time": "2023-10-21T05:38:53.266Z"
   },
   {
    "duration": 124,
    "start_time": "2023-10-21T05:38:53.407Z"
   },
   {
    "duration": 41,
    "start_time": "2023-10-21T05:38:53.533Z"
   },
   {
    "duration": 148,
    "start_time": "2023-10-21T05:38:53.575Z"
   },
   {
    "duration": 147,
    "start_time": "2023-10-21T05:38:53.724Z"
   },
   {
    "duration": 9,
    "start_time": "2023-10-21T05:38:53.873Z"
   },
   {
    "duration": 155,
    "start_time": "2023-10-21T05:38:53.884Z"
   },
   {
    "duration": 196,
    "start_time": "2023-10-21T05:38:54.045Z"
   },
   {
    "duration": 8,
    "start_time": "2023-10-21T05:38:54.243Z"
   },
   {
    "duration": 163,
    "start_time": "2023-10-21T05:38:54.253Z"
   },
   {
    "duration": 162,
    "start_time": "2023-10-21T05:38:54.418Z"
   },
   {
    "duration": 5,
    "start_time": "2023-10-21T05:38:54.582Z"
   },
   {
    "duration": 196,
    "start_time": "2023-10-21T05:38:54.588Z"
   },
   {
    "duration": 160,
    "start_time": "2023-10-21T05:38:54.786Z"
   },
   {
    "duration": 5,
    "start_time": "2023-10-21T05:38:54.948Z"
   },
   {
    "duration": 166,
    "start_time": "2023-10-21T05:38:54.955Z"
   },
   {
    "duration": 5,
    "start_time": "2023-10-21T05:38:55.122Z"
   },
   {
    "duration": 16,
    "start_time": "2023-10-21T05:38:55.128Z"
   },
   {
    "duration": 161,
    "start_time": "2023-10-21T05:38:55.146Z"
   },
   {
    "duration": 5,
    "start_time": "2023-10-21T05:38:55.308Z"
   },
   {
    "duration": 232,
    "start_time": "2023-10-21T05:38:55.314Z"
   },
   {
    "duration": 4,
    "start_time": "2023-10-21T05:38:55.547Z"
   },
   {
    "duration": 159,
    "start_time": "2023-10-21T05:38:55.552Z"
   },
   {
    "duration": 4,
    "start_time": "2023-10-21T05:38:55.713Z"
   },
   {
    "duration": 151,
    "start_time": "2023-10-21T05:38:55.719Z"
   },
   {
    "duration": 5,
    "start_time": "2023-10-21T05:38:55.871Z"
   },
   {
    "duration": 142,
    "start_time": "2023-10-21T05:38:55.877Z"
   },
   {
    "duration": 159,
    "start_time": "2023-10-21T05:38:56.021Z"
   },
   {
    "duration": 176,
    "start_time": "2023-10-21T05:38:56.183Z"
   },
   {
    "duration": 175,
    "start_time": "2023-10-21T05:38:56.361Z"
   },
   {
    "duration": 17,
    "start_time": "2023-10-21T05:38:56.545Z"
   },
   {
    "duration": 4,
    "start_time": "2023-10-21T05:38:56.564Z"
   },
   {
    "duration": 15,
    "start_time": "2023-10-21T05:38:56.570Z"
   },
   {
    "duration": 12,
    "start_time": "2023-10-21T05:38:56.587Z"
   },
   {
    "duration": 18,
    "start_time": "2023-10-21T05:38:56.600Z"
   },
   {
    "duration": 180,
    "start_time": "2023-10-21T05:38:56.620Z"
   },
   {
    "duration": 400,
    "start_time": "2023-10-23T11:19:59.506Z"
   },
   {
    "duration": 166,
    "start_time": "2023-10-23T11:20:01.016Z"
   },
   {
    "duration": 13,
    "start_time": "2023-10-23T11:20:02.770Z"
   },
   {
    "duration": 101,
    "start_time": "2023-10-23T11:20:05.213Z"
   },
   {
    "duration": 49,
    "start_time": "2023-10-23T11:20:06.729Z"
   },
   {
    "duration": 16,
    "start_time": "2023-10-23T11:20:08.719Z"
   },
   {
    "duration": 2423,
    "start_time": "2023-10-23T11:20:15.772Z"
   },
   {
    "duration": 7,
    "start_time": "2023-10-23T11:20:22.205Z"
   },
   {
    "duration": 4,
    "start_time": "2023-10-23T11:20:26.733Z"
   },
   {
    "duration": 12,
    "start_time": "2023-10-23T11:20:42.316Z"
   },
   {
    "duration": 10,
    "start_time": "2023-10-23T11:20:50.523Z"
   },
   {
    "duration": 6,
    "start_time": "2023-10-23T11:25:41.336Z"
   },
   {
    "duration": 5,
    "start_time": "2023-10-23T11:27:13.830Z"
   },
   {
    "duration": 7,
    "start_time": "2023-10-23T11:27:26.976Z"
   },
   {
    "duration": 20,
    "start_time": "2023-10-23T11:28:27.271Z"
   },
   {
    "duration": 9,
    "start_time": "2023-10-23T11:28:43.769Z"
   },
   {
    "duration": 4,
    "start_time": "2023-10-23T11:29:03.799Z"
   },
   {
    "duration": 83,
    "start_time": "2023-10-23T11:29:08.784Z"
   },
   {
    "duration": 367,
    "start_time": "2023-10-23T11:29:53.078Z"
   },
   {
    "duration": 87,
    "start_time": "2023-10-23T11:29:54.439Z"
   },
   {
    "duration": 14,
    "start_time": "2023-10-23T11:29:56.146Z"
   },
   {
    "duration": 95,
    "start_time": "2023-10-23T11:29:58.108Z"
   },
   {
    "duration": 29,
    "start_time": "2023-10-23T11:29:59.482Z"
   },
   {
    "duration": 15,
    "start_time": "2023-10-23T11:30:02.434Z"
   },
   {
    "duration": 2044,
    "start_time": "2023-10-23T11:30:08.542Z"
   },
   {
    "duration": 7,
    "start_time": "2023-10-23T11:30:13.993Z"
   },
   {
    "duration": 4,
    "start_time": "2023-10-23T11:30:17.226Z"
   },
   {
    "duration": 10,
    "start_time": "2023-10-23T11:30:19.915Z"
   },
   {
    "duration": 5,
    "start_time": "2023-10-23T11:30:24.318Z"
   },
   {
    "duration": 4,
    "start_time": "2023-10-23T11:30:26.949Z"
   },
   {
    "duration": 6,
    "start_time": "2023-10-23T11:30:29.249Z"
   },
   {
    "duration": 16,
    "start_time": "2023-10-23T11:30:31.757Z"
   },
   {
    "duration": 10,
    "start_time": "2023-10-23T11:30:35.235Z"
   },
   {
    "duration": 3,
    "start_time": "2023-10-23T11:30:40.631Z"
   },
   {
    "duration": 9,
    "start_time": "2023-10-23T11:31:13.231Z"
   },
   {
    "duration": 5,
    "start_time": "2023-10-23T11:31:33.392Z"
   },
   {
    "duration": 7,
    "start_time": "2023-10-23T11:32:09.461Z"
   },
   {
    "duration": 5,
    "start_time": "2023-10-23T11:32:17.385Z"
   },
   {
    "duration": 3,
    "start_time": "2023-10-23T11:35:24.721Z"
   },
   {
    "duration": 6,
    "start_time": "2023-10-23T11:39:47.704Z"
   },
   {
    "duration": 26,
    "start_time": "2023-10-23T11:39:56.006Z"
   },
   {
    "duration": 32,
    "start_time": "2023-10-23T11:40:38.473Z"
   },
   {
    "duration": 102,
    "start_time": "2023-10-23T11:42:03.974Z"
   },
   {
    "duration": 118,
    "start_time": "2023-10-23T11:43:04.107Z"
   },
   {
    "duration": 7,
    "start_time": "2023-10-23T11:43:14.287Z"
   },
   {
    "duration": 44,
    "start_time": "2023-10-23T11:43:16.733Z"
   },
   {
    "duration": 7,
    "start_time": "2023-10-23T11:43:48.799Z"
   },
   {
    "duration": 6,
    "start_time": "2023-10-23T11:45:13.389Z"
   },
   {
    "duration": 43,
    "start_time": "2023-10-23T11:45:15.770Z"
   },
   {
    "duration": 5,
    "start_time": "2023-10-23T11:47:00.412Z"
   },
   {
    "duration": 36,
    "start_time": "2023-10-23T11:47:01.620Z"
   },
   {
    "duration": 11,
    "start_time": "2023-10-23T11:47:19.144Z"
   },
   {
    "duration": 27,
    "start_time": "2023-10-23T11:47:34.092Z"
   },
   {
    "duration": 4,
    "start_time": "2023-10-23T11:51:12.012Z"
   },
   {
    "duration": 4,
    "start_time": "2023-10-23T11:52:00.080Z"
   },
   {
    "duration": 8,
    "start_time": "2023-10-23T11:52:07.430Z"
   },
   {
    "duration": 7,
    "start_time": "2023-10-23T11:52:10.773Z"
   },
   {
    "duration": 33,
    "start_time": "2023-10-23T11:52:56.792Z"
   },
   {
    "duration": 11,
    "start_time": "2023-10-23T11:57:14.130Z"
   },
   {
    "duration": 9,
    "start_time": "2023-10-23T11:57:42.343Z"
   },
   {
    "duration": 47,
    "start_time": "2023-10-23T11:57:45.549Z"
   },
   {
    "duration": 5,
    "start_time": "2023-10-23T12:08:16.109Z"
   },
   {
    "duration": 16,
    "start_time": "2023-10-23T12:08:18.288Z"
   },
   {
    "duration": 7,
    "start_time": "2023-10-23T12:08:26.310Z"
   },
   {
    "duration": 136,
    "start_time": "2023-10-23T12:08:28.564Z"
   },
   {
    "duration": 5,
    "start_time": "2023-10-23T12:08:35.727Z"
   },
   {
    "duration": 6,
    "start_time": "2023-10-23T12:08:37.414Z"
   },
   {
    "duration": 7,
    "start_time": "2023-10-23T12:08:39.020Z"
   },
   {
    "duration": 7,
    "start_time": "2023-10-23T12:08:40.983Z"
   },
   {
    "duration": 4,
    "start_time": "2023-10-23T12:08:43.299Z"
   },
   {
    "duration": 10,
    "start_time": "2023-10-23T12:08:45.691Z"
   },
   {
    "duration": 5,
    "start_time": "2023-10-23T12:08:47.627Z"
   },
   {
    "duration": 139,
    "start_time": "2023-10-23T12:09:19.777Z"
   },
   {
    "duration": 174,
    "start_time": "2023-10-23T12:09:24.535Z"
   },
   {
    "duration": 4,
    "start_time": "2023-10-23T12:09:26.704Z"
   },
   {
    "duration": 14,
    "start_time": "2023-10-23T12:09:28.571Z"
   },
   {
    "duration": 195,
    "start_time": "2023-10-23T12:09:30.770Z"
   },
   {
    "duration": 168,
    "start_time": "2023-10-23T12:09:34.986Z"
   },
   {
    "duration": 4,
    "start_time": "2023-10-23T12:09:37.824Z"
   },
   {
    "duration": 7,
    "start_time": "2023-10-23T12:09:39.678Z"
   },
   {
    "duration": 12,
    "start_time": "2023-10-23T12:09:41.963Z"
   },
   {
    "duration": 9,
    "start_time": "2023-10-23T12:09:44.678Z"
   },
   {
    "duration": 134,
    "start_time": "2023-10-23T12:09:46.393Z"
   },
   {
    "duration": 171,
    "start_time": "2023-10-23T12:09:49.716Z"
   },
   {
    "duration": 133,
    "start_time": "2023-10-23T12:09:52.378Z"
   },
   {
    "duration": 8,
    "start_time": "2023-10-23T12:09:55.276Z"
   },
   {
    "duration": 17,
    "start_time": "2023-10-23T12:09:56.577Z"
   },
   {
    "duration": 234,
    "start_time": "2023-10-23T12:09:58.281Z"
   },
   {
    "duration": 438,
    "start_time": "2023-10-23T12:11:21.522Z"
   },
   {
    "duration": 109,
    "start_time": "2023-10-23T12:11:23.282Z"
   },
   {
    "duration": 16,
    "start_time": "2023-10-23T12:11:24.779Z"
   },
   {
    "duration": 119,
    "start_time": "2023-10-23T12:11:26.983Z"
   },
   {
    "duration": 49,
    "start_time": "2023-10-23T12:11:28.745Z"
   },
   {
    "duration": 16,
    "start_time": "2023-10-23T12:11:32.506Z"
   },
   {
    "duration": 2705,
    "start_time": "2023-10-23T12:11:35.170Z"
   },
   {
    "duration": 7,
    "start_time": "2023-10-23T12:11:50.099Z"
   },
   {
    "duration": 4,
    "start_time": "2023-10-23T12:11:52.697Z"
   },
   {
    "duration": 29,
    "start_time": "2023-10-23T12:11:55.840Z"
   },
   {
    "duration": 6,
    "start_time": "2023-10-23T12:12:00.929Z"
   },
   {
    "duration": 8,
    "start_time": "2023-10-23T12:12:04.037Z"
   },
   {
    "duration": 19,
    "start_time": "2023-10-23T12:12:10.246Z"
   },
   {
    "duration": 20,
    "start_time": "2023-10-23T12:12:23.573Z"
   },
   {
    "duration": 10,
    "start_time": "2023-10-23T12:12:26.184Z"
   },
   {
    "duration": 4,
    "start_time": "2023-10-23T12:12:30.913Z"
   },
   {
    "duration": 17,
    "start_time": "2023-10-23T12:12:33.644Z"
   },
   {
    "duration": 3,
    "start_time": "2023-10-23T12:12:37.405Z"
   },
   {
    "duration": 5,
    "start_time": "2023-10-23T12:12:40.019Z"
   },
   {
    "duration": 7,
    "start_time": "2023-10-23T12:12:42.090Z"
   },
   {
    "duration": 18,
    "start_time": "2023-10-23T12:12:44.117Z"
   },
   {
    "duration": 7,
    "start_time": "2023-10-23T12:12:50.196Z"
   },
   {
    "duration": 112,
    "start_time": "2023-10-23T12:12:52.722Z"
   },
   {
    "duration": 5,
    "start_time": "2023-10-23T12:12:54.712Z"
   },
   {
    "duration": 11,
    "start_time": "2023-10-23T12:12:56.575Z"
   },
   {
    "duration": 6,
    "start_time": "2023-10-23T12:12:58.132Z"
   },
   {
    "duration": 8,
    "start_time": "2023-10-23T12:12:59.664Z"
   },
   {
    "duration": 4,
    "start_time": "2023-10-23T12:13:01.114Z"
   },
   {
    "duration": 8,
    "start_time": "2023-10-23T12:13:05.403Z"
   },
   {
    "duration": 4,
    "start_time": "2023-10-23T12:13:07.234Z"
   },
   {
    "duration": 144,
    "start_time": "2023-10-23T12:13:11.719Z"
   },
   {
    "duration": 177,
    "start_time": "2023-10-23T12:13:16.279Z"
   },
   {
    "duration": 5,
    "start_time": "2023-10-23T12:13:19.437Z"
   },
   {
    "duration": 11,
    "start_time": "2023-10-23T12:13:21.482Z"
   },
   {
    "duration": 191,
    "start_time": "2023-10-23T12:13:23.912Z"
   },
   {
    "duration": 147,
    "start_time": "2023-10-23T12:13:27.372Z"
   },
   {
    "duration": 5,
    "start_time": "2023-10-23T12:13:30.731Z"
   },
   {
    "duration": 12,
    "start_time": "2023-10-23T12:13:33.159Z"
   },
   {
    "duration": 4,
    "start_time": "2023-10-23T12:13:34.987Z"
   },
   {
    "duration": 7,
    "start_time": "2023-10-23T12:13:37.674Z"
   },
   {
    "duration": 145,
    "start_time": "2023-10-23T12:13:39.476Z"
   },
   {
    "duration": 190,
    "start_time": "2023-10-23T12:13:43.938Z"
   },
   {
    "duration": 140,
    "start_time": "2023-10-23T12:13:47.048Z"
   },
   {
    "duration": 6,
    "start_time": "2023-10-23T12:19:54.374Z"
   },
   {
    "duration": 19,
    "start_time": "2023-10-23T12:19:56.914Z"
   },
   {
    "duration": 238,
    "start_time": "2023-10-23T12:19:58.233Z"
   },
   {
    "duration": 9,
    "start_time": "2023-10-23T12:20:00.968Z"
   },
   {
    "duration": 159,
    "start_time": "2023-10-23T12:20:02.863Z"
   },
   {
    "duration": 166,
    "start_time": "2023-10-23T12:20:15.076Z"
   },
   {
    "duration": 43,
    "start_time": "2023-10-23T12:20:18.772Z"
   },
   {
    "duration": 191,
    "start_time": "2023-10-23T12:20:22.241Z"
   },
   {
    "duration": 166,
    "start_time": "2023-10-23T12:20:24.697Z"
   },
   {
    "duration": 19,
    "start_time": "2023-10-23T12:20:27.842Z"
   },
   {
    "duration": 164,
    "start_time": "2023-10-23T12:20:29.410Z"
   },
   {
    "duration": 180,
    "start_time": "2023-10-23T12:20:32.091Z"
   },
   {
    "duration": 11,
    "start_time": "2023-10-23T12:20:34.645Z"
   },
   {
    "duration": 153,
    "start_time": "2023-10-23T12:20:36.725Z"
   },
   {
    "duration": 142,
    "start_time": "2023-10-23T12:20:38.979Z"
   },
   {
    "duration": 7,
    "start_time": "2023-10-23T12:20:41.396Z"
   },
   {
    "duration": 179,
    "start_time": "2023-10-23T12:20:42.986Z"
   },
   {
    "duration": 158,
    "start_time": "2023-10-23T12:24:02.543Z"
   },
   {
    "duration": 5,
    "start_time": "2023-10-23T12:26:11.283Z"
   },
   {
    "duration": 189,
    "start_time": "2023-10-23T12:26:13.023Z"
   },
   {
    "duration": 4,
    "start_time": "2023-10-23T12:26:17.500Z"
   },
   {
    "duration": 7,
    "start_time": "2023-10-23T12:26:19.759Z"
   },
   {
    "duration": 11,
    "start_time": "2023-10-23T12:27:55.787Z"
   },
   {
    "duration": 105,
    "start_time": "2023-10-23T12:35:33.732Z"
   },
   {
    "duration": 168,
    "start_time": "2023-10-23T12:54:48.270Z"
   },
   {
    "duration": 5,
    "start_time": "2023-10-23T12:54:50.839Z"
   },
   {
    "duration": 315,
    "start_time": "2023-10-23T12:54:54.676Z"
   },
   {
    "duration": 10,
    "start_time": "2023-10-23T12:54:58.065Z"
   },
   {
    "duration": 186,
    "start_time": "2023-10-23T12:55:09.400Z"
   },
   {
    "duration": 5,
    "start_time": "2023-10-23T12:55:12.883Z"
   },
   {
    "duration": 170,
    "start_time": "2023-10-23T12:56:34.927Z"
   },
   {
    "duration": 5,
    "start_time": "2023-10-23T12:56:38.930Z"
   },
   {
    "duration": 145,
    "start_time": "2023-10-23T12:56:46.553Z"
   },
   {
    "duration": 155,
    "start_time": "2023-10-23T12:56:52.610Z"
   },
   {
    "duration": 179,
    "start_time": "2023-10-23T12:56:55.333Z"
   },
   {
    "duration": 153,
    "start_time": "2023-10-23T12:56:57.777Z"
   },
   {
    "duration": 143,
    "start_time": "2023-10-23T12:58:46.568Z"
   },
   {
    "duration": 180,
    "start_time": "2023-10-23T12:59:29.090Z"
   },
   {
    "duration": 100495,
    "start_time": "2023-10-23T12:59:51.737Z"
   },
   {
    "duration": 281,
    "start_time": "2023-10-23T13:01:32.234Z"
   },
   {
    "duration": 8,
    "start_time": "2023-10-23T13:05:11.508Z"
   },
   {
    "duration": 261,
    "start_time": "2023-10-23T13:05:16.336Z"
   },
   {
    "duration": 191,
    "start_time": "2023-10-23T13:05:37.581Z"
   },
   {
    "duration": 209,
    "start_time": "2023-10-23T13:05:40.835Z"
   },
   {
    "duration": 270,
    "start_time": "2023-10-23T13:05:46.202Z"
   },
   {
    "duration": 22,
    "start_time": "2023-10-23T13:09:02.832Z"
   },
   {
    "duration": 24,
    "start_time": "2023-10-23T13:09:19.957Z"
   },
   {
    "duration": 177,
    "start_time": "2023-10-23T13:12:05.474Z"
   },
   {
    "duration": 21,
    "start_time": "2023-10-23T13:17:54.183Z"
   },
   {
    "duration": 4,
    "start_time": "2023-10-23T13:17:55.967Z"
   },
   {
    "duration": 9,
    "start_time": "2023-10-23T13:17:57.769Z"
   },
   {
    "duration": 6,
    "start_time": "2023-10-23T13:18:09.922Z"
   },
   {
    "duration": 11,
    "start_time": "2023-10-23T13:18:11.627Z"
   },
   {
    "duration": 131,
    "start_time": "2023-10-23T13:18:13.793Z"
   },
   {
    "duration": 20,
    "start_time": "2023-10-23T13:50:59.216Z"
   },
   {
    "duration": 1080,
    "start_time": "2023-10-23T13:51:16.359Z"
   },
   {
    "duration": 23,
    "start_time": "2023-10-23T13:51:29.989Z"
   },
   {
    "duration": 1035,
    "start_time": "2023-10-23T13:51:50.164Z"
   },
   {
    "duration": 21,
    "start_time": "2023-10-23T13:51:59.539Z"
   },
   {
    "duration": 141,
    "start_time": "2023-10-23T13:52:15.145Z"
   },
   {
    "duration": 563,
    "start_time": "2023-10-23T13:52:34.959Z"
   },
   {
    "duration": 3,
    "start_time": "2023-10-23T14:01:12.071Z"
   },
   {
    "duration": 15,
    "start_time": "2023-10-23T14:01:43.741Z"
   },
   {
    "duration": 622,
    "start_time": "2023-10-23T14:02:03.661Z"
   },
   {
    "duration": 9,
    "start_time": "2023-10-23T14:02:12.118Z"
   },
   {
    "duration": 148,
    "start_time": "2023-10-23T14:02:19.474Z"
   },
   {
    "duration": 285,
    "start_time": "2023-10-23T14:28:20.136Z"
   },
   {
    "duration": 299,
    "start_time": "2023-10-23T14:28:47.873Z"
   },
   {
    "duration": 270,
    "start_time": "2023-10-23T14:28:57.412Z"
   },
   {
    "duration": 19,
    "start_time": "2023-10-23T14:29:41.702Z"
   },
   {
    "duration": 20,
    "start_time": "2023-10-23T14:29:49.368Z"
   },
   {
    "duration": 11,
    "start_time": "2023-10-23T14:31:56.323Z"
   },
   {
    "duration": 157,
    "start_time": "2023-10-23T14:32:08.169Z"
   },
   {
    "duration": 529,
    "start_time": "2023-10-23T14:46:49.323Z"
   },
   {
    "duration": 47,
    "start_time": "2023-10-23T14:47:37.229Z"
   },
   {
    "duration": 220,
    "start_time": "2023-10-23T14:47:44.168Z"
   },
   {
    "duration": 184,
    "start_time": "2023-10-23T14:48:04.179Z"
   },
   {
    "duration": 108,
    "start_time": "2023-10-23T14:49:16.869Z"
   },
   {
    "duration": 154,
    "start_time": "2023-10-23T14:51:27.503Z"
   },
   {
    "duration": 31,
    "start_time": "2023-10-23T14:52:17.642Z"
   },
   {
    "duration": 507,
    "start_time": "2023-10-23T14:52:38.175Z"
   },
   {
    "duration": 532,
    "start_time": "2023-10-23T14:52:45.546Z"
   },
   {
    "duration": 127,
    "start_time": "2023-10-23T14:53:50.468Z"
   },
   {
    "duration": 4,
    "start_time": "2023-10-23T14:55:50.973Z"
   },
   {
    "duration": 186,
    "start_time": "2023-10-23T14:57:21.796Z"
   },
   {
    "duration": 239,
    "start_time": "2023-10-23T14:58:37.097Z"
   },
   {
    "duration": 116,
    "start_time": "2023-10-23T14:58:49.274Z"
   },
   {
    "duration": 192,
    "start_time": "2023-10-23T15:02:15.976Z"
   },
   {
    "duration": 149,
    "start_time": "2023-10-23T15:02:59.878Z"
   },
   {
    "duration": 163,
    "start_time": "2023-10-23T15:03:52.814Z"
   },
   {
    "duration": 134,
    "start_time": "2023-10-23T15:04:03.823Z"
   },
   {
    "duration": 122,
    "start_time": "2023-10-23T15:04:09.686Z"
   },
   {
    "duration": 113,
    "start_time": "2023-10-23T15:04:35.377Z"
   },
   {
    "duration": 125,
    "start_time": "2023-10-23T15:04:43.417Z"
   },
   {
    "duration": 882,
    "start_time": "2023-10-25T11:53:34.808Z"
   },
   {
    "duration": 682,
    "start_time": "2023-10-25T11:53:36.689Z"
   },
   {
    "duration": 12,
    "start_time": "2023-10-25T11:53:38.578Z"
   },
   {
    "duration": 95,
    "start_time": "2023-10-25T11:53:41.011Z"
   },
   {
    "duration": 34,
    "start_time": "2023-10-25T11:53:42.662Z"
   },
   {
    "duration": 17,
    "start_time": "2023-10-25T11:53:45.224Z"
   },
   {
    "duration": 1861,
    "start_time": "2023-10-25T11:53:48.277Z"
   },
   {
    "duration": 6,
    "start_time": "2023-10-25T11:53:58.417Z"
   },
   {
    "duration": 4,
    "start_time": "2023-10-25T11:54:01.632Z"
   },
   {
    "duration": 9,
    "start_time": "2023-10-25T11:54:04.025Z"
   },
   {
    "duration": 6,
    "start_time": "2023-10-25T11:54:07.982Z"
   },
   {
    "duration": 5,
    "start_time": "2023-10-25T11:54:09.997Z"
   },
   {
    "duration": 6,
    "start_time": "2023-10-25T11:54:12.383Z"
   },
   {
    "duration": 16,
    "start_time": "2023-10-25T11:54:15.024Z"
   },
   {
    "duration": 9,
    "start_time": "2023-10-25T11:54:17.479Z"
   },
   {
    "duration": 3,
    "start_time": "2023-10-25T11:54:23.097Z"
   },
   {
    "duration": 8,
    "start_time": "2023-10-25T11:54:24.779Z"
   },
   {
    "duration": 3,
    "start_time": "2023-10-25T11:54:28.080Z"
   },
   {
    "duration": 6,
    "start_time": "2023-10-25T11:54:29.917Z"
   },
   {
    "duration": 6,
    "start_time": "2023-10-25T11:54:32.040Z"
   },
   {
    "duration": 13,
    "start_time": "2023-10-25T11:54:34.072Z"
   },
   {
    "duration": 9,
    "start_time": "2023-10-25T11:54:36.023Z"
   },
   {
    "duration": 98,
    "start_time": "2023-10-25T11:54:38.266Z"
   },
   {
    "duration": 4,
    "start_time": "2023-10-25T11:54:40.269Z"
   },
   {
    "duration": 6,
    "start_time": "2023-10-25T11:54:43.892Z"
   },
   {
    "duration": 6,
    "start_time": "2023-10-25T11:54:45.691Z"
   },
   {
    "duration": 6,
    "start_time": "2023-10-25T11:54:48.278Z"
   },
   {
    "duration": 3,
    "start_time": "2023-10-25T11:54:50.064Z"
   },
   {
    "duration": 9,
    "start_time": "2023-10-25T11:54:51.994Z"
   },
   {
    "duration": 4,
    "start_time": "2023-10-25T11:54:54.083Z"
   },
   {
    "duration": 116,
    "start_time": "2023-10-25T11:54:59.270Z"
   },
   {
    "duration": 80,
    "start_time": "2023-10-25T11:55:18.472Z"
   },
   {
    "duration": 467,
    "start_time": "2023-10-25T11:55:56.171Z"
   },
   {
    "duration": 130,
    "start_time": "2023-10-25T11:56:29.598Z"
   },
   {
    "duration": 139,
    "start_time": "2023-10-25T11:59:13.490Z"
   },
   {
    "duration": 214,
    "start_time": "2023-10-25T12:02:53.886Z"
   },
   {
    "duration": 126,
    "start_time": "2023-10-25T12:02:58.529Z"
   },
   {
    "duration": 139,
    "start_time": "2023-10-25T12:03:01.694Z"
   },
   {
    "duration": 138,
    "start_time": "2023-10-25T12:03:26.326Z"
   },
   {
    "duration": 4,
    "start_time": "2023-10-25T12:03:29.369Z"
   },
   {
    "duration": 13,
    "start_time": "2023-10-25T12:03:31.613Z"
   },
   {
    "duration": 174,
    "start_time": "2023-10-25T12:03:33.179Z"
   },
   {
    "duration": 165,
    "start_time": "2023-10-25T12:04:10.058Z"
   },
   {
    "duration": 138,
    "start_time": "2023-10-25T12:04:18.327Z"
   },
   {
    "duration": 160,
    "start_time": "2023-10-25T12:04:21.786Z"
   },
   {
    "duration": 161,
    "start_time": "2023-10-25T12:04:26.287Z"
   },
   {
    "duration": 174,
    "start_time": "2023-10-25T12:04:35.994Z"
   },
   {
    "duration": 7,
    "start_time": "2023-10-25T12:04:42.189Z"
   },
   {
    "duration": 4,
    "start_time": "2023-10-25T12:04:44.058Z"
   },
   {
    "duration": 5,
    "start_time": "2023-10-25T12:04:45.851Z"
   },
   {
    "duration": 7,
    "start_time": "2023-10-25T12:04:47.669Z"
   },
   {
    "duration": 118,
    "start_time": "2023-10-25T12:04:49.331Z"
   },
   {
    "duration": 90,
    "start_time": "2023-10-25T12:05:18.252Z"
   },
   {
    "duration": 152,
    "start_time": "2023-10-25T12:05:25.517Z"
   },
   {
    "duration": 136,
    "start_time": "2023-10-25T12:05:36.766Z"
   },
   {
    "duration": 253,
    "start_time": "2023-10-25T12:05:45.545Z"
   },
   {
    "duration": 157,
    "start_time": "2023-10-25T12:06:10.428Z"
   },
   {
    "duration": 123,
    "start_time": "2023-10-25T12:06:44.037Z"
   },
   {
    "duration": 161,
    "start_time": "2023-10-25T12:06:50.373Z"
   },
   {
    "duration": 177,
    "start_time": "2023-10-25T12:06:56.241Z"
   },
   {
    "duration": 166,
    "start_time": "2023-10-25T12:07:03.136Z"
   },
   {
    "duration": 140,
    "start_time": "2023-10-25T12:07:12.794Z"
   },
   {
    "duration": 149,
    "start_time": "2023-10-25T12:07:21.042Z"
   },
   {
    "duration": 121,
    "start_time": "2023-10-25T12:07:24.083Z"
   },
   {
    "duration": 3,
    "start_time": "2023-10-25T12:07:27.202Z"
   },
   {
    "duration": 11,
    "start_time": "2023-10-25T12:07:28.730Z"
   },
   {
    "duration": 117,
    "start_time": "2023-10-25T12:07:30.272Z"
   },
   {
    "duration": 144,
    "start_time": "2023-10-25T12:07:51.091Z"
   },
   {
    "duration": 141,
    "start_time": "2023-10-25T12:07:54.717Z"
   },
   {
    "duration": 131,
    "start_time": "2023-10-25T12:08:02.962Z"
   },
   {
    "duration": 146,
    "start_time": "2023-10-25T12:08:17.330Z"
   },
   {
    "duration": 8,
    "start_time": "2023-10-25T12:08:22.898Z"
   },
   {
    "duration": 131,
    "start_time": "2023-10-25T12:08:24.829Z"
   },
   {
    "duration": 266,
    "start_time": "2023-10-25T12:08:26.963Z"
   },
   {
    "duration": 142,
    "start_time": "2023-10-25T12:08:34.681Z"
   },
   {
    "duration": 43,
    "start_time": "2023-10-25T12:08:37.885Z"
   },
   {
    "duration": 142,
    "start_time": "2023-10-25T12:08:41.490Z"
   },
   {
    "duration": 168,
    "start_time": "2023-10-25T12:09:07.275Z"
   },
   {
    "duration": 164,
    "start_time": "2023-10-25T12:10:14.301Z"
   },
   {
    "duration": 150,
    "start_time": "2023-10-25T12:10:21.381Z"
   },
   {
    "duration": 9,
    "start_time": "2023-10-25T12:10:23.539Z"
   },
   {
    "duration": 142,
    "start_time": "2023-10-25T12:10:25.195Z"
   },
   {
    "duration": 160,
    "start_time": "2023-10-25T12:11:11.668Z"
   },
   {
    "duration": 164,
    "start_time": "2023-10-25T12:11:27.783Z"
   },
   {
    "duration": 144,
    "start_time": "2023-10-25T12:11:40.218Z"
   },
   {
    "duration": 133,
    "start_time": "2023-10-25T12:11:45.703Z"
   },
   {
    "duration": 140,
    "start_time": "2023-10-25T12:11:50.844Z"
   },
   {
    "duration": 147,
    "start_time": "2023-10-25T12:11:55.021Z"
   },
   {
    "duration": 8,
    "start_time": "2023-10-25T12:11:58.593Z"
   },
   {
    "duration": 129,
    "start_time": "2023-10-25T12:12:00.564Z"
   },
   {
    "duration": 142,
    "start_time": "2023-10-25T12:12:17.591Z"
   },
   {
    "duration": 142,
    "start_time": "2023-10-25T12:12:23.470Z"
   },
   {
    "duration": 126,
    "start_time": "2023-10-25T12:12:32.270Z"
   },
   {
    "duration": 7,
    "start_time": "2023-10-25T12:12:34.678Z"
   },
   {
    "duration": 176,
    "start_time": "2023-10-25T12:12:36.493Z"
   },
   {
    "duration": 307,
    "start_time": "2023-10-25T12:12:51.018Z"
   },
   {
    "duration": 156,
    "start_time": "2023-10-25T12:13:01.993Z"
   },
   {
    "duration": 138,
    "start_time": "2023-10-25T12:13:18.488Z"
   },
   {
    "duration": 5,
    "start_time": "2023-10-25T12:13:20.878Z"
   },
   {
    "duration": 138,
    "start_time": "2023-10-25T12:13:22.494Z"
   },
   {
    "duration": 5,
    "start_time": "2023-10-25T12:13:24.665Z"
   },
   {
    "duration": 5,
    "start_time": "2023-10-25T12:13:26.600Z"
   },
   {
    "duration": 9,
    "start_time": "2023-10-25T12:13:28.635Z"
   },
   {
    "duration": 157,
    "start_time": "2023-10-25T12:14:38.866Z"
   },
   {
    "duration": 163,
    "start_time": "2023-10-25T12:14:48.465Z"
   },
   {
    "duration": 169,
    "start_time": "2023-10-25T12:14:59.902Z"
   },
   {
    "duration": 5,
    "start_time": "2023-10-25T12:15:03.043Z"
   },
   {
    "duration": 147,
    "start_time": "2023-10-25T12:15:05.716Z"
   },
   {
    "duration": 5,
    "start_time": "2023-10-25T12:15:07.898Z"
   },
   {
    "duration": 187,
    "start_time": "2023-10-25T12:15:09.980Z"
   },
   {
    "duration": 5,
    "start_time": "2023-10-25T12:15:12.173Z"
   },
   {
    "duration": 140,
    "start_time": "2023-10-25T12:15:14.026Z"
   },
   {
    "duration": 6,
    "start_time": "2023-10-25T12:15:17.424Z"
   },
   {
    "duration": 137,
    "start_time": "2023-10-25T12:15:24.382Z"
   },
   {
    "duration": 132,
    "start_time": "2023-10-25T12:15:27.932Z"
   },
   {
    "duration": 107,
    "start_time": "2023-10-25T12:15:30.717Z"
   },
   {
    "duration": 147,
    "start_time": "2023-10-25T12:15:33.371Z"
   },
   {
    "duration": 114,
    "start_time": "2023-10-25T12:15:35.429Z"
   },
   {
    "duration": 138,
    "start_time": "2023-10-25T12:15:37.658Z"
   },
   {
    "duration": 140,
    "start_time": "2023-10-25T12:15:40.112Z"
   },
   {
    "duration": 158,
    "start_time": "2023-10-25T12:15:42.305Z"
   },
   {
    "duration": 114,
    "start_time": "2023-10-25T12:15:44.216Z"
   },
   {
    "duration": 181,
    "start_time": "2023-10-25T12:17:01.197Z"
   },
   {
    "duration": 150,
    "start_time": "2023-10-25T12:17:25.624Z"
   },
   {
    "duration": 166,
    "start_time": "2023-10-25T12:18:00.466Z"
   },
   {
    "duration": 176,
    "start_time": "2023-10-25T12:18:06.488Z"
   },
   {
    "duration": 175,
    "start_time": "2023-10-25T12:18:37.198Z"
   },
   {
    "duration": 169,
    "start_time": "2023-10-25T12:19:33.405Z"
   },
   {
    "duration": 107,
    "start_time": "2023-10-25T12:20:14.057Z"
   },
   {
    "duration": 129,
    "start_time": "2023-10-25T12:20:48.966Z"
   },
   {
    "duration": 316,
    "start_time": "2023-10-25T12:21:09.061Z"
   },
   {
    "duration": 145,
    "start_time": "2023-10-25T12:21:27.300Z"
   },
   {
    "duration": 14,
    "start_time": "2023-10-25T12:21:34.467Z"
   },
   {
    "duration": 3,
    "start_time": "2023-10-25T12:21:36.001Z"
   },
   {
    "duration": 9,
    "start_time": "2023-10-25T12:21:37.621Z"
   },
   {
    "duration": 5,
    "start_time": "2023-10-25T12:21:41.066Z"
   },
   {
    "duration": 9,
    "start_time": "2023-10-25T12:21:42.593Z"
   },
   {
    "duration": 136,
    "start_time": "2023-10-25T12:21:44.010Z"
   },
   {
    "duration": 182,
    "start_time": "2023-10-25T12:22:35.769Z"
   },
   {
    "duration": 145,
    "start_time": "2023-10-25T12:23:33.423Z"
   },
   {
    "duration": 18,
    "start_time": "2023-10-25T12:34:36.371Z"
   },
   {
    "duration": 30,
    "start_time": "2023-10-25T12:35:41.001Z"
   },
   {
    "duration": 168,
    "start_time": "2023-10-25T12:41:39.974Z"
   },
   {
    "duration": 153,
    "start_time": "2023-10-25T12:42:33.415Z"
   },
   {
    "duration": 159,
    "start_time": "2023-10-25T12:44:35.574Z"
   },
   {
    "duration": 125,
    "start_time": "2023-10-25T12:44:41.674Z"
   },
   {
    "duration": 170,
    "start_time": "2023-10-25T12:44:51.402Z"
   },
   {
    "duration": 158,
    "start_time": "2023-10-25T12:45:00.098Z"
   },
   {
    "duration": 153,
    "start_time": "2023-10-25T12:45:06.922Z"
   },
   {
    "duration": 157,
    "start_time": "2023-10-25T12:45:12.378Z"
   },
   {
    "duration": 150,
    "start_time": "2023-10-25T12:45:17.466Z"
   },
   {
    "duration": 146,
    "start_time": "2023-10-25T12:45:23.899Z"
   },
   {
    "duration": 142,
    "start_time": "2023-10-25T12:45:30.109Z"
   },
   {
    "duration": 165,
    "start_time": "2023-10-25T12:45:39.917Z"
   },
   {
    "duration": 181,
    "start_time": "2023-10-25T12:45:46.371Z"
   },
   {
    "duration": 151,
    "start_time": "2023-10-25T12:45:52.871Z"
   },
   {
    "duration": 150,
    "start_time": "2023-10-25T12:45:57.666Z"
   },
   {
    "duration": 130,
    "start_time": "2023-10-25T12:46:03.821Z"
   },
   {
    "duration": 134,
    "start_time": "2023-10-25T12:46:10.164Z"
   },
   {
    "duration": 176,
    "start_time": "2023-10-25T12:46:15.329Z"
   },
   {
    "duration": 160,
    "start_time": "2023-10-25T12:46:20.562Z"
   },
   {
    "duration": 166,
    "start_time": "2023-10-25T12:46:29.322Z"
   },
   {
    "duration": 177,
    "start_time": "2023-10-25T12:46:34.570Z"
   },
   {
    "duration": 167,
    "start_time": "2023-10-25T12:54:20.902Z"
   },
   {
    "duration": 149,
    "start_time": "2023-10-25T12:54:34.610Z"
   }
  ],
  "kernelspec": {
   "display_name": "Python 3 (ipykernel)",
   "language": "python",
   "name": "python3"
  },
  "language_info": {
   "codemirror_mode": {
    "name": "ipython",
    "version": 3
   },
   "file_extension": ".py",
   "mimetype": "text/x-python",
   "name": "python",
   "nbconvert_exporter": "python",
   "pygments_lexer": "ipython3",
   "version": "3.9.17"
  },
  "toc": {
   "base_numbering": 1,
   "nav_menu": {},
   "number_sections": true,
   "sideBar": true,
   "skip_h1_title": true,
   "title_cell": "Table of Contents",
   "title_sidebar": "Contents",
   "toc_cell": false,
   "toc_position": {},
   "toc_section_display": true,
   "toc_window_display": false
  },
  "varInspector": {
   "cols": {
    "lenName": 16,
    "lenType": 16,
    "lenVar": 40
   },
   "kernels_config": {
    "python": {
     "delete_cmd_postfix": "",
     "delete_cmd_prefix": "del ",
     "library": "var_list.py",
     "varRefreshCmd": "print(var_dic_list())"
    },
    "r": {
     "delete_cmd_postfix": ") ",
     "delete_cmd_prefix": "rm(",
     "library": "var_list.r",
     "varRefreshCmd": "cat(var_dic_list()) "
    }
   },
   "types_to_exclude": [
    "module",
    "function",
    "builtin_function_or_method",
    "instance",
    "_Feature"
   ],
   "window_display": false
  }
 },
 "nbformat": 4,
 "nbformat_minor": 2
}
